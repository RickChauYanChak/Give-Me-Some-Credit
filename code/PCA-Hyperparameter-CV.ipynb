{
 "cells": [
  {
   "attachments": {},
   "cell_type": "markdown",
   "metadata": {},
   "source": [
    "# PHBS_MLF_2023 Homework 2 - PCA/Hyperparameter/CV"
   ]
  },
  {
   "attachments": {},
   "cell_type": "markdown",
   "metadata": {},
   "source": [
    "In this homework, I will work on the [Give Me Some Credit](https://www.kaggle.com/competitions/GiveMeSomeCredit/data?select=cs-test.csv) dataset from Kaggle."
   ]
  },
  {
   "attachments": {},
   "cell_type": "markdown",
   "metadata": {},
   "source": [
    "## Data Preparation"
   ]
  },
  {
   "cell_type": "code",
   "execution_count": 1,
   "metadata": {},
   "outputs": [],
   "source": [
    "import numpy as np\n",
    "import pandas as pd\n",
    "import warnings\n",
    "\n",
    "warnings.filterwarnings('ignore')"
   ]
  },
  {
   "cell_type": "code",
   "execution_count": 2,
   "metadata": {},
   "outputs": [],
   "source": [
    "from sklearn.model_selection import train_test_split\n",
    "from sklearn.pipeline import Pipeline\n",
    "from sklearn.impute import SimpleImputer\n",
    "from sklearn.preprocessing import StandardScaler\n",
    "from sklearn.decomposition import PCA\n",
    "from sklearn.linear_model import LogisticRegression\n",
    "from sklearn.svm import SVC\n",
    "from sklearn.tree import DecisionTreeClassifier\n",
    "from sklearn.ensemble import RandomForestClassifier\n",
    "from sklearn.model_selection import GridSearchCV\n",
    "from sklearn.model_selection import RandomizedSearchCV\n",
    "from sklearn import metrics\n",
    "import scipy.stats as st\n",
    "import matplotlib.pyplot as plt"
   ]
  },
  {
   "cell_type": "code",
   "execution_count": 3,
   "metadata": {},
   "outputs": [],
   "source": [
    "train_df = pd.read_csv(\"../data/cs-training.csv\").iloc[:, 1:]"
   ]
  },
  {
   "cell_type": "code",
   "execution_count": 4,
   "metadata": {},
   "outputs": [
    {
     "name": "stdout",
     "output_type": "stream",
     "text": [
      "<class 'pandas.core.frame.DataFrame'>\n",
      "RangeIndex: 150000 entries, 0 to 149999\n",
      "Data columns (total 11 columns):\n",
      " #   Column                                Non-Null Count   Dtype  \n",
      "---  ------                                --------------   -----  \n",
      " 0   SeriousDlqin2yrs                      150000 non-null  int64  \n",
      " 1   RevolvingUtilizationOfUnsecuredLines  150000 non-null  float64\n",
      " 2   age                                   150000 non-null  int64  \n",
      " 3   NumberOfTime30-59DaysPastDueNotWorse  150000 non-null  int64  \n",
      " 4   DebtRatio                             150000 non-null  float64\n",
      " 5   MonthlyIncome                         120269 non-null  float64\n",
      " 6   NumberOfOpenCreditLinesAndLoans       150000 non-null  int64  \n",
      " 7   NumberOfTimes90DaysLate               150000 non-null  int64  \n",
      " 8   NumberRealEstateLoansOrLines          150000 non-null  int64  \n",
      " 9   NumberOfTime60-89DaysPastDueNotWorse  150000 non-null  int64  \n",
      " 10  NumberOfDependents                    146076 non-null  float64\n",
      "dtypes: float64(4), int64(7)\n",
      "memory usage: 12.6 MB\n"
     ]
    }
   ],
   "source": [
    "train_df.info()"
   ]
  },
  {
   "cell_type": "code",
   "execution_count": 5,
   "metadata": {},
   "outputs": [
    {
     "data": {
      "text/html": [
       "<div>\n",
       "<style scoped>\n",
       "    .dataframe tbody tr th:only-of-type {\n",
       "        vertical-align: middle;\n",
       "    }\n",
       "\n",
       "    .dataframe tbody tr th {\n",
       "        vertical-align: top;\n",
       "    }\n",
       "\n",
       "    .dataframe thead th {\n",
       "        text-align: right;\n",
       "    }\n",
       "</style>\n",
       "<table border=\"1\" class=\"dataframe\">\n",
       "  <thead>\n",
       "    <tr style=\"text-align: right;\">\n",
       "      <th></th>\n",
       "      <th>SeriousDlqin2yrs</th>\n",
       "      <th>RevolvingUtilizationOfUnsecuredLines</th>\n",
       "      <th>age</th>\n",
       "      <th>NumberOfTime30-59DaysPastDueNotWorse</th>\n",
       "      <th>DebtRatio</th>\n",
       "      <th>MonthlyIncome</th>\n",
       "      <th>NumberOfOpenCreditLinesAndLoans</th>\n",
       "      <th>NumberOfTimes90DaysLate</th>\n",
       "      <th>NumberRealEstateLoansOrLines</th>\n",
       "      <th>NumberOfTime60-89DaysPastDueNotWorse</th>\n",
       "      <th>NumberOfDependents</th>\n",
       "    </tr>\n",
       "  </thead>\n",
       "  <tbody>\n",
       "    <tr>\n",
       "      <th>count</th>\n",
       "      <td>150000.000000</td>\n",
       "      <td>150000.000000</td>\n",
       "      <td>150000.000000</td>\n",
       "      <td>150000.000000</td>\n",
       "      <td>150000.000000</td>\n",
       "      <td>1.202690e+05</td>\n",
       "      <td>150000.000000</td>\n",
       "      <td>150000.000000</td>\n",
       "      <td>150000.000000</td>\n",
       "      <td>150000.000000</td>\n",
       "      <td>146076.000000</td>\n",
       "    </tr>\n",
       "    <tr>\n",
       "      <th>mean</th>\n",
       "      <td>0.066840</td>\n",
       "      <td>6.048438</td>\n",
       "      <td>52.295207</td>\n",
       "      <td>0.421033</td>\n",
       "      <td>353.005076</td>\n",
       "      <td>6.670221e+03</td>\n",
       "      <td>8.452760</td>\n",
       "      <td>0.265973</td>\n",
       "      <td>1.018240</td>\n",
       "      <td>0.240387</td>\n",
       "      <td>0.757222</td>\n",
       "    </tr>\n",
       "    <tr>\n",
       "      <th>std</th>\n",
       "      <td>0.249746</td>\n",
       "      <td>249.755371</td>\n",
       "      <td>14.771866</td>\n",
       "      <td>4.192781</td>\n",
       "      <td>2037.818523</td>\n",
       "      <td>1.438467e+04</td>\n",
       "      <td>5.145951</td>\n",
       "      <td>4.169304</td>\n",
       "      <td>1.129771</td>\n",
       "      <td>4.155179</td>\n",
       "      <td>1.115086</td>\n",
       "    </tr>\n",
       "    <tr>\n",
       "      <th>min</th>\n",
       "      <td>0.000000</td>\n",
       "      <td>0.000000</td>\n",
       "      <td>0.000000</td>\n",
       "      <td>0.000000</td>\n",
       "      <td>0.000000</td>\n",
       "      <td>0.000000e+00</td>\n",
       "      <td>0.000000</td>\n",
       "      <td>0.000000</td>\n",
       "      <td>0.000000</td>\n",
       "      <td>0.000000</td>\n",
       "      <td>0.000000</td>\n",
       "    </tr>\n",
       "    <tr>\n",
       "      <th>25%</th>\n",
       "      <td>0.000000</td>\n",
       "      <td>0.029867</td>\n",
       "      <td>41.000000</td>\n",
       "      <td>0.000000</td>\n",
       "      <td>0.175074</td>\n",
       "      <td>3.400000e+03</td>\n",
       "      <td>5.000000</td>\n",
       "      <td>0.000000</td>\n",
       "      <td>0.000000</td>\n",
       "      <td>0.000000</td>\n",
       "      <td>0.000000</td>\n",
       "    </tr>\n",
       "    <tr>\n",
       "      <th>50%</th>\n",
       "      <td>0.000000</td>\n",
       "      <td>0.154181</td>\n",
       "      <td>52.000000</td>\n",
       "      <td>0.000000</td>\n",
       "      <td>0.366508</td>\n",
       "      <td>5.400000e+03</td>\n",
       "      <td>8.000000</td>\n",
       "      <td>0.000000</td>\n",
       "      <td>1.000000</td>\n",
       "      <td>0.000000</td>\n",
       "      <td>0.000000</td>\n",
       "    </tr>\n",
       "    <tr>\n",
       "      <th>75%</th>\n",
       "      <td>0.000000</td>\n",
       "      <td>0.559046</td>\n",
       "      <td>63.000000</td>\n",
       "      <td>0.000000</td>\n",
       "      <td>0.868254</td>\n",
       "      <td>8.249000e+03</td>\n",
       "      <td>11.000000</td>\n",
       "      <td>0.000000</td>\n",
       "      <td>2.000000</td>\n",
       "      <td>0.000000</td>\n",
       "      <td>1.000000</td>\n",
       "    </tr>\n",
       "    <tr>\n",
       "      <th>max</th>\n",
       "      <td>1.000000</td>\n",
       "      <td>50708.000000</td>\n",
       "      <td>109.000000</td>\n",
       "      <td>98.000000</td>\n",
       "      <td>329664.000000</td>\n",
       "      <td>3.008750e+06</td>\n",
       "      <td>58.000000</td>\n",
       "      <td>98.000000</td>\n",
       "      <td>54.000000</td>\n",
       "      <td>98.000000</td>\n",
       "      <td>20.000000</td>\n",
       "    </tr>\n",
       "  </tbody>\n",
       "</table>\n",
       "</div>"
      ],
      "text/plain": [
       "       SeriousDlqin2yrs  RevolvingUtilizationOfUnsecuredLines            age  \\\n",
       "count     150000.000000                         150000.000000  150000.000000   \n",
       "mean           0.066840                              6.048438      52.295207   \n",
       "std            0.249746                            249.755371      14.771866   \n",
       "min            0.000000                              0.000000       0.000000   \n",
       "25%            0.000000                              0.029867      41.000000   \n",
       "50%            0.000000                              0.154181      52.000000   \n",
       "75%            0.000000                              0.559046      63.000000   \n",
       "max            1.000000                          50708.000000     109.000000   \n",
       "\n",
       "       NumberOfTime30-59DaysPastDueNotWorse      DebtRatio  MonthlyIncome  \\\n",
       "count                         150000.000000  150000.000000   1.202690e+05   \n",
       "mean                               0.421033     353.005076   6.670221e+03   \n",
       "std                                4.192781    2037.818523   1.438467e+04   \n",
       "min                                0.000000       0.000000   0.000000e+00   \n",
       "25%                                0.000000       0.175074   3.400000e+03   \n",
       "50%                                0.000000       0.366508   5.400000e+03   \n",
       "75%                                0.000000       0.868254   8.249000e+03   \n",
       "max                               98.000000  329664.000000   3.008750e+06   \n",
       "\n",
       "       NumberOfOpenCreditLinesAndLoans  NumberOfTimes90DaysLate  \\\n",
       "count                    150000.000000            150000.000000   \n",
       "mean                          8.452760                 0.265973   \n",
       "std                           5.145951                 4.169304   \n",
       "min                           0.000000                 0.000000   \n",
       "25%                           5.000000                 0.000000   \n",
       "50%                           8.000000                 0.000000   \n",
       "75%                          11.000000                 0.000000   \n",
       "max                          58.000000                98.000000   \n",
       "\n",
       "       NumberRealEstateLoansOrLines  NumberOfTime60-89DaysPastDueNotWorse  \\\n",
       "count                 150000.000000                         150000.000000   \n",
       "mean                       1.018240                              0.240387   \n",
       "std                        1.129771                              4.155179   \n",
       "min                        0.000000                              0.000000   \n",
       "25%                        0.000000                              0.000000   \n",
       "50%                        1.000000                              0.000000   \n",
       "75%                        2.000000                              0.000000   \n",
       "max                       54.000000                             98.000000   \n",
       "\n",
       "       NumberOfDependents  \n",
       "count       146076.000000  \n",
       "mean             0.757222  \n",
       "std              1.115086  \n",
       "min              0.000000  \n",
       "25%              0.000000  \n",
       "50%              0.000000  \n",
       "75%              1.000000  \n",
       "max             20.000000  "
      ]
     },
     "execution_count": 5,
     "metadata": {},
     "output_type": "execute_result"
    }
   ],
   "source": [
    "train_df.describe()"
   ]
  },
  {
   "attachments": {},
   "cell_type": "markdown",
   "metadata": {},
   "source": [
    "## Model Building"
   ]
  },
  {
   "attachments": {},
   "cell_type": "markdown",
   "metadata": {},
   "source": [
    "### Logistic Regression"
   ]
  },
  {
   "cell_type": "code",
   "execution_count": 6,
   "metadata": {},
   "outputs": [],
   "source": [
    "X = train_df.iloc[:, 1:].values\n",
    "y = train_df.iloc[:, 0].values\n",
    "X_train, X_test, y_train, y_test = train_test_split(X, y, test_size=0.3, random_state=42, stratify=y)"
   ]
  },
  {
   "cell_type": "code",
   "execution_count": 7,
   "metadata": {},
   "outputs": [],
   "source": [
    "pipeline_lr = Pipeline([('imputer', SimpleImputer(missing_values=np.nan, strategy='mean')),\n",
    "                        ('scaler', StandardScaler()),\n",
    "                        ('pca', PCA()),\n",
    "                        ('lr', LogisticRegression(penalty='l2', C=1.0, random_state=42))])"
   ]
  },
  {
   "cell_type": "code",
   "execution_count": 8,
   "metadata": {},
   "outputs": [],
   "source": [
    "param_grid_lr = {'pca__n_components': [0.8, 0.85, 0.9, 0.95, 0.99],\n",
    "                 'lr__C': [0.001, 0.01, 0.1, 1.0, 10.0, 100.0, 1000.0],\n",
    "                 'lr__penalty': ['l1', 'l2', 'elasticnet']}\n",
    "\n",
    "gs_lr = GridSearchCV(estimator=pipeline_lr,\n",
    "                     param_grid=param_grid_lr,\n",
    "                     scoring='f1',\n",
    "                     cv=5,\n",
    "                     refit=True,\n",
    "                     n_jobs=-1,\n",
    "                     verbose=2)"
   ]
  },
  {
   "cell_type": "code",
   "execution_count": 9,
   "metadata": {},
   "outputs": [
    {
     "name": "stdout",
     "output_type": "stream",
     "text": [
      "Fitting 5 folds for each of 105 candidates, totalling 525 fits\n",
      "[CV] END .lr__C=0.001, lr__penalty=l1, pca__n_components=0.8; total time=   0.4s\n",
      "[CV] END .lr__C=0.001, lr__penalty=l1, pca__n_components=0.8; total time=   0.4s\n",
      "[CV] END .lr__C=0.001, lr__penalty=l1, pca__n_components=0.8; total time=   0.3s\n",
      "[CV] END lr__C=0.001, lr__penalty=l1, pca__n_components=0.85; total time=   0.1s\n",
      "[CV] END .lr__C=0.001, lr__penalty=l1, pca__n_components=0.8; total time=   0.4s\n",
      "[CV] END lr__C=0.001, lr__penalty=l1, pca__n_components=0.85; total time=   0.1s\n",
      "[CV] END lr__C=0.001, lr__penalty=l1, pca__n_components=0.85; total time=   0.4s\n",
      "[CV] END .lr__C=0.001, lr__penalty=l1, pca__n_components=0.9; total time=   0.1s\n",
      "[CV] END lr__C=0.001, lr__penalty=l1, pca__n_components=0.85; total time=   0.4s\n",
      "[CV] END .lr__C=0.001, lr__penalty=l1, pca__n_components=0.9; total time=   0.1s\n",
      "[CV] END .lr__C=0.001, lr__penalty=l1, pca__n_components=0.9; total time=   0.1s\n",
      "[CV] END lr__C=0.001, lr__penalty=l1, pca__n_components=0.85; total time=   0.5s\n",
      "[CV] END .lr__C=0.001, lr__penalty=l1, pca__n_components=0.8; total time=   0.5s\n",
      "[CV] END .lr__C=0.001, lr__penalty=l1, pca__n_components=0.9; total time=   0.1s\n",
      "[CV] END .lr__C=0.001, lr__penalty=l1, pca__n_components=0.9; total time=   0.1s\n",
      "[CV] END lr__C=0.001, lr__penalty=l1, pca__n_components=0.95; total time=   0.1s\n",
      "[CV] END lr__C=0.001, lr__penalty=l1, pca__n_components=0.95; total time=   0.1s\n",
      "[CV] END lr__C=0.001, lr__penalty=l1, pca__n_components=0.95; total time=   0.1s\n",
      "[CV] END lr__C=0.001, lr__penalty=l1, pca__n_components=0.99; total time=   0.0s\n",
      "[CV] END lr__C=0.001, lr__penalty=l1, pca__n_components=0.99; total time=   0.1s\n",
      "[CV] END lr__C=0.001, lr__penalty=l1, pca__n_components=0.95; total time=   0.1s\n",
      "[CV] END lr__C=0.001, lr__penalty=l1, pca__n_components=0.95; total time=   0.1s\n",
      "[CV] END lr__C=0.001, lr__penalty=l1, pca__n_components=0.99; total time=   0.1s\n",
      "[CV] END lr__C=0.001, lr__penalty=l1, pca__n_components=0.99; total time=   0.0s\n",
      "[CV] END lr__C=0.001, lr__penalty=l1, pca__n_components=0.99; total time=   0.1s\n",
      "[CV] END .lr__C=0.001, lr__penalty=l2, pca__n_components=0.8; total time=   0.1s\n",
      "[CV] END .lr__C=0.001, lr__penalty=l2, pca__n_components=0.8; total time=   0.1s\n",
      "[CV] END .lr__C=0.001, lr__penalty=l2, pca__n_components=0.8; total time=   0.1s\n",
      "[CV] END lr__C=0.001, lr__penalty=l2, pca__n_components=0.85; total time=   0.1s\n",
      "[CV] END .lr__C=0.001, lr__penalty=l2, pca__n_components=0.8; total time=   0.1s\n",
      "[CV] END .lr__C=0.001, lr__penalty=l2, pca__n_components=0.8; total time=   0.2s\n",
      "[CV] END lr__C=0.001, lr__penalty=l2, pca__n_components=0.85; total time=   0.1s\n",
      "[CV] END lr__C=0.001, lr__penalty=l2, pca__n_components=0.85; total time=   0.2s\n",
      "[CV] END lr__C=0.001, lr__penalty=l2, pca__n_components=0.85; total time=   0.1s\n",
      "[CV] END .lr__C=0.001, lr__penalty=l2, pca__n_components=0.9; total time=   0.1s\n",
      "[CV] END .lr__C=0.001, lr__penalty=l2, pca__n_components=0.9; total time=   0.1s\n",
      "[CV] END lr__C=0.001, lr__penalty=l2, pca__n_components=0.85; total time=   0.2s\n",
      "[CV] END .lr__C=0.001, lr__penalty=l2, pca__n_components=0.9; total time=   0.1s\n",
      "[CV] END .lr__C=0.001, lr__penalty=l2, pca__n_components=0.9; total time=   0.1s\n",
      "[CV] END .lr__C=0.001, lr__penalty=l2, pca__n_components=0.9; total time=   0.1s\n",
      "[CV] END lr__C=0.001, lr__penalty=l2, pca__n_components=0.95; total time=   0.1s\n",
      "[CV] END lr__C=0.001, lr__penalty=l2, pca__n_components=0.95; total time=   0.1s\n",
      "[CV] END lr__C=0.001, lr__penalty=l2, pca__n_components=0.95; total time=   0.1s\n",
      "[CV] END lr__C=0.001, lr__penalty=l2, pca__n_components=0.99; total time=   0.1s\n",
      "[CV] END lr__C=0.001, lr__penalty=l2, pca__n_components=0.95; total time=   0.1s\n",
      "[CV] END lr__C=0.001, lr__penalty=l2, pca__n_components=0.95; total time=   0.1s\n",
      "[CV] END lr__C=0.001, lr__penalty=l2, pca__n_components=0.99; total time=   0.1s\n",
      "[CV] END lr__C=0.001, lr__penalty=l2, pca__n_components=0.99; total time=   0.1s\n",
      "[CV] END lr__C=0.001, lr__penalty=l2, pca__n_components=0.99; total time=   0.1s\n",
      "[CV] END lr__C=0.001, lr__penalty=elasticnet, pca__n_components=0.8; total time=   0.0s\n",
      "[CV] END lr__C=0.001, lr__penalty=elasticnet, pca__n_components=0.8; total time=   0.0s\n",
      "[CV] END lr__C=0.001, lr__penalty=elasticnet, pca__n_components=0.8; total time=   0.0s\n",
      "[CV] END lr__C=0.001, lr__penalty=l2, pca__n_components=0.99; total time=   0.1s\n",
      "[CV] END lr__C=0.001, lr__penalty=elasticnet, pca__n_components=0.8; total time=   0.1s\n",
      "[CV] END lr__C=0.001, lr__penalty=elasticnet, pca__n_components=0.8; total time=   0.1s\n",
      "[CV] END lr__C=0.001, lr__penalty=elasticnet, pca__n_components=0.85; total time=   0.0s\n",
      "[CV] END lr__C=0.001, lr__penalty=elasticnet, pca__n_components=0.85; total time=   0.1s\n",
      "[CV] END lr__C=0.001, lr__penalty=elasticnet, pca__n_components=0.85; total time=   0.0s\n",
      "[CV] END lr__C=0.001, lr__penalty=elasticnet, pca__n_components=0.85; total time=   0.1s\n",
      "[CV] END lr__C=0.001, lr__penalty=elasticnet, pca__n_components=0.9; total time=   0.1s\n",
      "[CV] END lr__C=0.001, lr__penalty=elasticnet, pca__n_components=0.9; total time=   0.0s\n",
      "[CV] END lr__C=0.001, lr__penalty=elasticnet, pca__n_components=0.85; total time=   0.1s\n",
      "[CV] END lr__C=0.001, lr__penalty=elasticnet, pca__n_components=0.9; total time=   0.1s\n",
      "[CV] END lr__C=0.001, lr__penalty=elasticnet, pca__n_components=0.9; total time=   0.0s\n",
      "[CV] END lr__C=0.001, lr__penalty=elasticnet, pca__n_components=0.9; total time=   0.0s\n",
      "[CV] END lr__C=0.001, lr__penalty=elasticnet, pca__n_components=0.95; total time=   0.0s\n",
      "[CV] END lr__C=0.001, lr__penalty=elasticnet, pca__n_components=0.95; total time=   0.0s\n",
      "[CV] END lr__C=0.001, lr__penalty=elasticnet, pca__n_components=0.95; total time=   0.0s\n",
      "[CV] END lr__C=0.001, lr__penalty=elasticnet, pca__n_components=0.95; total time=   0.1s\n",
      "[CV] END lr__C=0.001, lr__penalty=elasticnet, pca__n_components=0.99; total time=   0.0s\n",
      "[CV] END lr__C=0.001, lr__penalty=elasticnet, pca__n_components=0.99; total time=   0.0s\n",
      "[CV] END lr__C=0.001, lr__penalty=elasticnet, pca__n_components=0.95; total time=   0.1s\n",
      "[CV] END lr__C=0.001, lr__penalty=elasticnet, pca__n_components=0.99; total time=   0.1s\n",
      "[CV] END lr__C=0.001, lr__penalty=elasticnet, pca__n_components=0.99; total time=   0.1s\n",
      "[CV] END lr__C=0.001, lr__penalty=elasticnet, pca__n_components=0.99; total time=   0.0s\n",
      "[CV] END ..lr__C=0.01, lr__penalty=l1, pca__n_components=0.8; total time=   0.0s\n",
      "[CV] END ..lr__C=0.01, lr__penalty=l1, pca__n_components=0.8; total time=   0.0s\n",
      "[CV] END ..lr__C=0.01, lr__penalty=l1, pca__n_components=0.8; total time=   0.0s\n",
      "[CV] END ..lr__C=0.01, lr__penalty=l1, pca__n_components=0.8; total time=   0.0s\n",
      "[CV] END ..lr__C=0.01, lr__penalty=l1, pca__n_components=0.8; total time=   0.0s\n",
      "[CV] END .lr__C=0.01, lr__penalty=l1, pca__n_components=0.85; total time=   0.0s\n",
      "[CV] END .lr__C=0.01, lr__penalty=l1, pca__n_components=0.85; total time=   0.0s\n",
      "[CV] END .lr__C=0.01, lr__penalty=l1, pca__n_components=0.85; total time=   0.0s\n",
      "[CV] END ..lr__C=0.01, lr__penalty=l1, pca__n_components=0.9; total time=   0.0s\n",
      "[CV] END ..lr__C=0.01, lr__penalty=l1, pca__n_components=0.9; total time=   0.0s\n",
      "[CV] END .lr__C=0.01, lr__penalty=l1, pca__n_components=0.95; total time=   0.1s\n",
      "[CV] END .lr__C=0.01, lr__penalty=l1, pca__n_components=0.85; total time=   0.1s\n",
      "[CV] END .lr__C=0.01, lr__penalty=l1, pca__n_components=0.85; total time=   0.1s\n",
      "[CV] END .lr__C=0.01, lr__penalty=l1, pca__n_components=0.95; total time=   0.0s\n",
      "[CV] END ..lr__C=0.01, lr__penalty=l1, pca__n_components=0.9; total time=   0.0s\n",
      "[CV] END .lr__C=0.01, lr__penalty=l1, pca__n_components=0.95; total time=   0.1s\n",
      "[CV] END ..lr__C=0.01, lr__penalty=l1, pca__n_components=0.9; total time=   0.1s\n",
      "[CV] END ..lr__C=0.01, lr__penalty=l1, pca__n_components=0.9; total time=   0.1s\n",
      "[CV] END .lr__C=0.01, lr__penalty=l1, pca__n_components=0.95; total time=   0.0s\n",
      "[CV] END .lr__C=0.01, lr__penalty=l1, pca__n_components=0.99; total time=   0.0s\n",
      "[CV] END .lr__C=0.01, lr__penalty=l1, pca__n_components=0.95; total time=   0.0s\n",
      "[CV] END .lr__C=0.01, lr__penalty=l1, pca__n_components=0.99; total time=   0.0s\n",
      "[CV] END .lr__C=0.01, lr__penalty=l1, pca__n_components=0.99; total time=   0.0s\n",
      "[CV] END .lr__C=0.01, lr__penalty=l1, pca__n_components=0.99; total time=   0.0s\n",
      "[CV] END .lr__C=0.01, lr__penalty=l1, pca__n_components=0.99; total time=   0.0s\n",
      "[CV] END ..lr__C=0.01, lr__penalty=l2, pca__n_components=0.8; total time=   0.1s\n",
      "[CV] END .lr__C=0.01, lr__penalty=l2, pca__n_components=0.85; total time=   0.1s\n",
      "[CV] END ..lr__C=0.01, lr__penalty=l2, pca__n_components=0.8; total time=   0.1s\n",
      "[CV] END ..lr__C=0.01, lr__penalty=l2, pca__n_components=0.8; total time=   0.1s\n",
      "[CV] END .lr__C=0.01, lr__penalty=l2, pca__n_components=0.85; total time=   0.1s\n",
      "[CV] END ..lr__C=0.01, lr__penalty=l2, pca__n_components=0.9; total time=   0.1s\n",
      "[CV] END ..lr__C=0.01, lr__penalty=l2, pca__n_components=0.9; total time=   0.1s\n",
      "[CV] END ..lr__C=0.01, lr__penalty=l2, pca__n_components=0.9; total time=   0.2s\n",
      "[CV] END ..lr__C=0.01, lr__penalty=l2, pca__n_components=0.8; total time=   0.1s\n",
      "[CV] END ..lr__C=0.01, lr__penalty=l2, pca__n_components=0.8; total time=   0.1s\n",
      "[CV] END .lr__C=0.01, lr__penalty=l2, pca__n_components=0.85; total time=   0.1s\n",
      "[CV] END .lr__C=0.01, lr__penalty=l2, pca__n_components=0.85; total time=   0.1s\n",
      "[CV] END ..lr__C=0.01, lr__penalty=l2, pca__n_components=0.9; total time=   0.1s\n",
      "[CV] END .lr__C=0.01, lr__penalty=l2, pca__n_components=0.85; total time=   0.1s\n",
      "[CV] END .lr__C=0.01, lr__penalty=l2, pca__n_components=0.95; total time=   0.1s\n",
      "[CV] END lr__C=0.01, lr__penalty=elasticnet, pca__n_components=0.8; total time=   0.1s\n",
      "[CV] END ..lr__C=0.01, lr__penalty=l2, pca__n_components=0.9; total time=   0.1s\n",
      "[CV] END .lr__C=0.01, lr__penalty=l2, pca__n_components=0.95; total time=   0.1s\n",
      "[CV] END lr__C=0.01, lr__penalty=elasticnet, pca__n_components=0.8; total time=   0.1s\n",
      "[CV] END .lr__C=0.01, lr__penalty=l2, pca__n_components=0.95; total time=   0.1s\n",
      "[CV] END lr__C=0.01, lr__penalty=elasticnet, pca__n_components=0.8; total time=   0.0s\n",
      "[CV] END .lr__C=0.01, lr__penalty=l2, pca__n_components=0.99; total time=   0.1s\n",
      "[CV] END .lr__C=0.01, lr__penalty=l2, pca__n_components=0.99; total time=   0.1s\n",
      "[CV] END .lr__C=0.01, lr__penalty=l2, pca__n_components=0.99; total time=   0.1s\n",
      "[CV] END lr__C=0.01, lr__penalty=elasticnet, pca__n_components=0.8; total time=   0.0s\n",
      "[CV] END lr__C=0.01, lr__penalty=elasticnet, pca__n_components=0.85; total time=   0.1s\n",
      "[CV] END lr__C=0.01, lr__penalty=elasticnet, pca__n_components=0.85; total time=   0.0s\n",
      "[CV] END lr__C=0.01, lr__penalty=elasticnet, pca__n_components=0.8; total time=   0.1s\n",
      "[CV] END lr__C=0.01, lr__penalty=elasticnet, pca__n_components=0.85; total time=   0.0s\n",
      "[CV] END .lr__C=0.01, lr__penalty=l2, pca__n_components=0.95; total time=   0.1s\n",
      "[CV] END lr__C=0.01, lr__penalty=elasticnet, pca__n_components=0.85; total time=   0.0s\n",
      "[CV] END .lr__C=0.01, lr__penalty=l2, pca__n_components=0.95; total time=   0.1s\n",
      "[CV] END lr__C=0.01, lr__penalty=elasticnet, pca__n_components=0.85; total time=   0.0s\n",
      "[CV] END .lr__C=0.01, lr__penalty=l2, pca__n_components=0.99; total time=   0.1s\n",
      "[CV] END .lr__C=0.01, lr__penalty=l2, pca__n_components=0.99; total time=   0.1s\n",
      "[CV] END lr__C=0.01, lr__penalty=elasticnet, pca__n_components=0.9; total time=   0.0s\n",
      "[CV] END lr__C=0.01, lr__penalty=elasticnet, pca__n_components=0.9; total time=   0.0s\n",
      "[CV] END lr__C=0.01, lr__penalty=elasticnet, pca__n_components=0.9; total time=   0.0s\n",
      "[CV] END lr__C=0.01, lr__penalty=elasticnet, pca__n_components=0.95; total time=   0.0s\n",
      "[CV] END lr__C=0.01, lr__penalty=elasticnet, pca__n_components=0.95; total time=   0.0s\n",
      "[CV] END lr__C=0.01, lr__penalty=elasticnet, pca__n_components=0.95; total time=   0.1s\n",
      "[CV] END lr__C=0.01, lr__penalty=elasticnet, pca__n_components=0.99; total time=   0.1s\n",
      "[CV] END lr__C=0.01, lr__penalty=elasticnet, pca__n_components=0.9; total time=   0.1s\n",
      "[CV] END lr__C=0.01, lr__penalty=elasticnet, pca__n_components=0.9; total time=   0.1s\n",
      "[CV] END lr__C=0.01, lr__penalty=elasticnet, pca__n_components=0.99; total time=   0.0s\n",
      "[CV] END lr__C=0.01, lr__penalty=elasticnet, pca__n_components=0.95; total time=   0.0s\n",
      "[CV] END lr__C=0.01, lr__penalty=elasticnet, pca__n_components=0.95; total time=   0.1s\n",
      "[CV] END lr__C=0.01, lr__penalty=elasticnet, pca__n_components=0.99; total time=   0.0s\n",
      "[CV] END ...lr__C=0.1, lr__penalty=l1, pca__n_components=0.8; total time=   0.0s\n",
      "[CV] END lr__C=0.01, lr__penalty=elasticnet, pca__n_components=0.99; total time=   0.0s\n",
      "[CV] END lr__C=0.01, lr__penalty=elasticnet, pca__n_components=0.99; total time=   0.0s\n",
      "[CV] END ...lr__C=0.1, lr__penalty=l1, pca__n_components=0.8; total time=   0.0s\n",
      "[CV] END ...lr__C=0.1, lr__penalty=l1, pca__n_components=0.8; total time=   0.0s\n",
      "[CV] END ...lr__C=0.1, lr__penalty=l1, pca__n_components=0.8; total time=   0.1s\n",
      "[CV] END ..lr__C=0.1, lr__penalty=l1, pca__n_components=0.85; total time=   0.0s\n",
      "[CV] END ..lr__C=0.1, lr__penalty=l1, pca__n_components=0.85; total time=   0.0s\n",
      "[CV] END ...lr__C=0.1, lr__penalty=l1, pca__n_components=0.8; total time=   0.0s\n",
      "[CV] END ...lr__C=0.1, lr__penalty=l1, pca__n_components=0.9; total time=   0.1s\n",
      "[CV] END ...lr__C=0.1, lr__penalty=l1, pca__n_components=0.9; total time=   0.0s\n",
      "[CV] END ..lr__C=0.1, lr__penalty=l1, pca__n_components=0.85; total time=   0.0s\n",
      "[CV] END ..lr__C=0.1, lr__penalty=l1, pca__n_components=0.85; total time=   0.1s\n",
      "[CV] END ...lr__C=0.1, lr__penalty=l1, pca__n_components=0.9; total time=   0.1s\n",
      "[CV] END ..lr__C=0.1, lr__penalty=l1, pca__n_components=0.85; total time=   0.0s\n",
      "[CV] END ...lr__C=0.1, lr__penalty=l1, pca__n_components=0.9; total time=   0.0s\n",
      "[CV] END ...lr__C=0.1, lr__penalty=l1, pca__n_components=0.9; total time=   0.0s\n",
      "[CV] END ..lr__C=0.1, lr__penalty=l1, pca__n_components=0.95; total time=   0.1s\n",
      "[CV] END ..lr__C=0.1, lr__penalty=l1, pca__n_components=0.95; total time=   0.1s\n",
      "[CV] END ..lr__C=0.1, lr__penalty=l1, pca__n_components=0.99; total time=   0.0s\n",
      "[CV] END ..lr__C=0.1, lr__penalty=l1, pca__n_components=0.95; total time=   0.0s\n",
      "[CV] END ..lr__C=0.1, lr__penalty=l1, pca__n_components=0.99; total time=   0.0s\n",
      "[CV] END ..lr__C=0.1, lr__penalty=l1, pca__n_components=0.95; total time=   0.0s\n",
      "[CV] END ..lr__C=0.1, lr__penalty=l1, pca__n_components=0.99; total time=   0.0s\n",
      "[CV] END ..lr__C=0.1, lr__penalty=l1, pca__n_components=0.95; total time=   0.1s\n",
      "[CV] END ..lr__C=0.1, lr__penalty=l1, pca__n_components=0.99; total time=   0.1s\n",
      "[CV] END ..lr__C=0.1, lr__penalty=l1, pca__n_components=0.99; total time=   0.0s\n",
      "[CV] END ...lr__C=0.1, lr__penalty=l2, pca__n_components=0.8; total time=   0.1s\n",
      "[CV] END ...lr__C=0.1, lr__penalty=l2, pca__n_components=0.8; total time=   0.1s\n",
      "[CV] END ..lr__C=0.1, lr__penalty=l2, pca__n_components=0.85; total time=   0.1s\n",
      "[CV] END ...lr__C=0.1, lr__penalty=l2, pca__n_components=0.8; total time=   0.1s\n",
      "[CV] END ..lr__C=0.1, lr__penalty=l2, pca__n_components=0.85; total time=   0.1s\n",
      "[CV] END ..lr__C=0.1, lr__penalty=l2, pca__n_components=0.85; total time=   0.1s\n",
      "[CV] END ...lr__C=0.1, lr__penalty=l2, pca__n_components=0.9; total time=   0.1s\n",
      "[CV] END ...lr__C=0.1, lr__penalty=l2, pca__n_components=0.9; total time=   0.1s\n",
      "[CV] END ...lr__C=0.1, lr__penalty=l2, pca__n_components=0.8; total time=   0.1s\n",
      "[CV] END ...lr__C=0.1, lr__penalty=l2, pca__n_components=0.8; total time=   0.1s\n",
      "[CV] END ..lr__C=0.1, lr__penalty=l2, pca__n_components=0.85; total time=   0.1s\n",
      "[CV] END ..lr__C=0.1, lr__penalty=l2, pca__n_components=0.85; total time=   0.1s\n",
      "[CV] END ..lr__C=0.1, lr__penalty=l2, pca__n_components=0.95; total time=   0.1s\n",
      "[CV] END ...lr__C=0.1, lr__penalty=l2, pca__n_components=0.9; total time=   0.1s\n",
      "[CV] END ...lr__C=0.1, lr__penalty=l2, pca__n_components=0.9; total time=   0.1s\n",
      "[CV] END ...lr__C=0.1, lr__penalty=l2, pca__n_components=0.9; total time=   0.1s\n",
      "[CV] END ..lr__C=0.1, lr__penalty=l2, pca__n_components=0.95; total time=   0.1s\n",
      "[CV] END ..lr__C=0.1, lr__penalty=l2, pca__n_components=0.95; total time=   0.1s\n",
      "[CV] END lr__C=0.1, lr__penalty=elasticnet, pca__n_components=0.8; total time=   0.1s\n",
      "[CV] END ..lr__C=0.1, lr__penalty=l2, pca__n_components=0.99; total time=   0.1s\n",
      "[CV] END ..lr__C=0.1, lr__penalty=l2, pca__n_components=0.99; total time=   0.1s\n",
      "[CV] END lr__C=0.1, lr__penalty=elasticnet, pca__n_components=0.8; total time=   0.1s\n",
      "[CV] END lr__C=0.1, lr__penalty=elasticnet, pca__n_components=0.8; total time=   0.1s\n",
      "[CV] END ..lr__C=0.1, lr__penalty=l2, pca__n_components=0.95; total time=   0.1s\n",
      "[CV] END lr__C=0.1, lr__penalty=elasticnet, pca__n_components=0.8; total time=   0.1s\n",
      "[CV] END lr__C=0.1, lr__penalty=elasticnet, pca__n_components=0.8; total time=   0.0s\n",
      "[CV] END lr__C=0.1, lr__penalty=elasticnet, pca__n_components=0.85; total time=   0.1s\n",
      "[CV] END lr__C=0.1, lr__penalty=elasticnet, pca__n_components=0.85; total time=   0.0s\n",
      "[CV] END ..lr__C=0.1, lr__penalty=l2, pca__n_components=0.99; total time=   0.1s\n",
      "[CV] END ..lr__C=0.1, lr__penalty=l2, pca__n_components=0.95; total time=   0.2s\n",
      "[CV] END ..lr__C=0.1, lr__penalty=l2, pca__n_components=0.99; total time=   0.1s\n",
      "[CV] END lr__C=0.1, lr__penalty=elasticnet, pca__n_components=0.85; total time=   0.0s\n",
      "[CV] END ..lr__C=0.1, lr__penalty=l2, pca__n_components=0.99; total time=   0.1s\n",
      "[CV] END lr__C=0.1, lr__penalty=elasticnet, pca__n_components=0.85; total time=   0.0s\n",
      "[CV] END lr__C=0.1, lr__penalty=elasticnet, pca__n_components=0.9; total time=   0.0s\n",
      "[CV] END lr__C=0.1, lr__penalty=elasticnet, pca__n_components=0.9; total time=   0.0s\n",
      "[CV] END lr__C=0.1, lr__penalty=elasticnet, pca__n_components=0.9; total time=   0.0s\n",
      "[CV] END lr__C=0.1, lr__penalty=elasticnet, pca__n_components=0.85; total time=   0.0s\n",
      "[CV] END lr__C=0.1, lr__penalty=elasticnet, pca__n_components=0.95; total time=   0.1s\n",
      "[CV] END lr__C=0.1, lr__penalty=elasticnet, pca__n_components=0.95; total time=   0.0s\n",
      "[CV] END lr__C=0.1, lr__penalty=elasticnet, pca__n_components=0.9; total time=   0.0s\n",
      "[CV] END lr__C=0.1, lr__penalty=elasticnet, pca__n_components=0.9; total time=   0.0s\n",
      "[CV] END lr__C=0.1, lr__penalty=elasticnet, pca__n_components=0.95; total time=   0.0s\n",
      "[CV] END lr__C=0.1, lr__penalty=elasticnet, pca__n_components=0.99; total time=   0.0s\n",
      "[CV] END lr__C=0.1, lr__penalty=elasticnet, pca__n_components=0.95; total time=   0.0s\n",
      "[CV] END lr__C=0.1, lr__penalty=elasticnet, pca__n_components=0.95; total time=   0.0s\n",
      "[CV] END lr__C=0.1, lr__penalty=elasticnet, pca__n_components=0.99; total time=   0.0s\n",
      "[CV] END lr__C=0.1, lr__penalty=elasticnet, pca__n_components=0.99; total time=   0.0s\n",
      "[CV] END lr__C=0.1, lr__penalty=elasticnet, pca__n_components=0.99; total time=   0.0s\n",
      "[CV] END ...lr__C=1.0, lr__penalty=l1, pca__n_components=0.8; total time=   0.1s\n",
      "[CV] END ...lr__C=1.0, lr__penalty=l1, pca__n_components=0.8; total time=   0.0s\n",
      "[CV] END lr__C=0.1, lr__penalty=elasticnet, pca__n_components=0.99; total time=   0.0s\n",
      "[CV] END ..lr__C=1.0, lr__penalty=l1, pca__n_components=0.85; total time=   0.0s\n",
      "[CV] END ...lr__C=1.0, lr__penalty=l1, pca__n_components=0.8; total time=   0.0s\n",
      "[CV] END ..lr__C=1.0, lr__penalty=l1, pca__n_components=0.85; total time=   0.0s\n",
      "[CV] END ...lr__C=1.0, lr__penalty=l1, pca__n_components=0.8; total time=   0.1s\n",
      "[CV] END ..lr__C=1.0, lr__penalty=l1, pca__n_components=0.85; total time=   0.1s\n",
      "[CV] END ...lr__C=1.0, lr__penalty=l1, pca__n_components=0.8; total time=   0.1s\n",
      "[CV] END ...lr__C=1.0, lr__penalty=l1, pca__n_components=0.9; total time=   0.0s\n",
      "[CV] END ..lr__C=1.0, lr__penalty=l1, pca__n_components=0.85; total time=   0.1s\n",
      "[CV] END ..lr__C=1.0, lr__penalty=l1, pca__n_components=0.85; total time=   0.1s\n",
      "[CV] END ...lr__C=1.0, lr__penalty=l1, pca__n_components=0.9; total time=   0.0s\n",
      "[CV] END ...lr__C=1.0, lr__penalty=l1, pca__n_components=0.9; total time=   0.0s\n",
      "[CV] END ...lr__C=1.0, lr__penalty=l1, pca__n_components=0.9; total time=   0.0s\n",
      "[CV] END ..lr__C=1.0, lr__penalty=l1, pca__n_components=0.95; total time=   0.1s\n",
      "[CV] END ...lr__C=1.0, lr__penalty=l1, pca__n_components=0.9; total time=   0.0s\n",
      "[CV] END ..lr__C=1.0, lr__penalty=l1, pca__n_components=0.95; total time=   0.0s\n",
      "[CV] END ..lr__C=1.0, lr__penalty=l1, pca__n_components=0.95; total time=   0.0s\n",
      "[CV] END ..lr__C=1.0, lr__penalty=l1, pca__n_components=0.99; total time=   0.0s\n",
      "[CV] END ..lr__C=1.0, lr__penalty=l1, pca__n_components=0.99; total time=   0.1s\n",
      "[CV] END ..lr__C=1.0, lr__penalty=l1, pca__n_components=0.95; total time=   0.1s\n",
      "[CV] END ..lr__C=1.0, lr__penalty=l1, pca__n_components=0.99; total time=   0.0s\n",
      "[CV] END ..lr__C=1.0, lr__penalty=l1, pca__n_components=0.95; total time=   0.1s\n",
      "[CV] END ..lr__C=1.0, lr__penalty=l1, pca__n_components=0.99; total time=   0.0s\n",
      "[CV] END ..lr__C=1.0, lr__penalty=l1, pca__n_components=0.99; total time=   0.0s\n",
      "[CV] END ...lr__C=1.0, lr__penalty=l2, pca__n_components=0.8; total time=   0.1s\n",
      "[CV] END ...lr__C=1.0, lr__penalty=l2, pca__n_components=0.8; total time=   0.1s\n",
      "[CV] END ...lr__C=1.0, lr__penalty=l2, pca__n_components=0.8; total time=   0.1s\n",
      "[CV] END ..lr__C=1.0, lr__penalty=l2, pca__n_components=0.85; total time=   0.1s\n",
      "[CV] END ..lr__C=1.0, lr__penalty=l2, pca__n_components=0.85; total time=   0.1s\n",
      "[CV] END ...lr__C=1.0, lr__penalty=l2, pca__n_components=0.9; total time=   0.1s\n",
      "[CV] END ...lr__C=1.0, lr__penalty=l2, pca__n_components=0.8; total time=   0.1s\n",
      "[CV] END ...lr__C=1.0, lr__penalty=l2, pca__n_components=0.9; total time=   0.1s\n",
      "[CV] END ..lr__C=1.0, lr__penalty=l2, pca__n_components=0.85; total time=   0.1s\n",
      "[CV] END ...lr__C=1.0, lr__penalty=l2, pca__n_components=0.8; total time=   0.1s\n",
      "[CV] END ...lr__C=1.0, lr__penalty=l2, pca__n_components=0.9; total time=   0.2s\n",
      "[CV] END ..lr__C=1.0, lr__penalty=l2, pca__n_components=0.85; total time=   0.1s\n",
      "[CV] END ...lr__C=1.0, lr__penalty=l2, pca__n_components=0.9; total time=   0.1s\n",
      "[CV] END ..lr__C=1.0, lr__penalty=l2, pca__n_components=0.85; total time=   0.1s\n",
      "[CV] END ..lr__C=1.0, lr__penalty=l2, pca__n_components=0.95; total time=   0.1s\n",
      "[CV] END ...lr__C=1.0, lr__penalty=l2, pca__n_components=0.9; total time=   0.1s\n",
      "[CV] END ..lr__C=1.0, lr__penalty=l2, pca__n_components=0.95; total time=   0.1s\n",
      "[CV] END ..lr__C=1.0, lr__penalty=l2, pca__n_components=0.95; total time=   0.1s\n",
      "[CV] END ..lr__C=1.0, lr__penalty=l2, pca__n_components=0.99; total time=   0.1s\n",
      "[CV] END ..lr__C=1.0, lr__penalty=l2, pca__n_components=0.99; total time=   0.1s\n",
      "[CV] END lr__C=1.0, lr__penalty=elasticnet, pca__n_components=0.8; total time=   0.0s\n",
      "[CV] END lr__C=1.0, lr__penalty=elasticnet, pca__n_components=0.8; total time=   0.0s\n",
      "[CV] END ..lr__C=1.0, lr__penalty=l2, pca__n_components=0.99; total time=   0.1s\n",
      "[CV] END lr__C=1.0, lr__penalty=elasticnet, pca__n_components=0.8; total time=   0.0s\n",
      "[CV] END ..lr__C=1.0, lr__penalty=l2, pca__n_components=0.95; total time=   0.1s\n",
      "[CV] END ..lr__C=1.0, lr__penalty=l2, pca__n_components=0.95; total time=   0.1s\n",
      "[CV] END lr__C=1.0, lr__penalty=elasticnet, pca__n_components=0.8; total time=   0.0s\n",
      "[CV] END lr__C=1.0, lr__penalty=elasticnet, pca__n_components=0.85; total time=   0.0s\n",
      "[CV] END ..lr__C=1.0, lr__penalty=l2, pca__n_components=0.99; total time=   0.1s\n",
      "[CV] END lr__C=1.0, lr__penalty=elasticnet, pca__n_components=0.8; total time=   0.1s\n",
      "[CV] END lr__C=1.0, lr__penalty=elasticnet, pca__n_components=0.85; total time=   0.0s\n",
      "[CV] END lr__C=1.0, lr__penalty=elasticnet, pca__n_components=0.85; total time=   0.0s\n",
      "[CV] END lr__C=1.0, lr__penalty=elasticnet, pca__n_components=0.85; total time=   0.0s\n",
      "[CV] END lr__C=1.0, lr__penalty=elasticnet, pca__n_components=0.9; total time=   0.0s\n",
      "[CV] END ..lr__C=1.0, lr__penalty=l2, pca__n_components=0.99; total time=   0.1s\n",
      "[CV] END lr__C=1.0, lr__penalty=elasticnet, pca__n_components=0.85; total time=   0.0s\n",
      "[CV] END lr__C=1.0, lr__penalty=elasticnet, pca__n_components=0.95; total time=   0.0s\n",
      "[CV] END lr__C=1.0, lr__penalty=elasticnet, pca__n_components=0.9; total time=   0.1s\n",
      "[CV] END lr__C=1.0, lr__penalty=elasticnet, pca__n_components=0.95; total time=   0.0s\n",
      "[CV] END lr__C=1.0, lr__penalty=elasticnet, pca__n_components=0.9; total time=   0.1s\n",
      "[CV] END lr__C=1.0, lr__penalty=elasticnet, pca__n_components=0.9; total time=   0.1s\n",
      "[CV] END lr__C=1.0, lr__penalty=elasticnet, pca__n_components=0.95; total time=   0.0s\n",
      "[CV] END lr__C=1.0, lr__penalty=elasticnet, pca__n_components=0.95; total time=   0.0s\n",
      "[CV] END lr__C=1.0, lr__penalty=elasticnet, pca__n_components=0.99; total time=   0.0s\n",
      "[CV] END lr__C=1.0, lr__penalty=elasticnet, pca__n_components=0.9; total time=   0.1s\n",
      "[CV] END lr__C=1.0, lr__penalty=elasticnet, pca__n_components=0.99; total time=   0.0s\n",
      "[CV] END lr__C=1.0, lr__penalty=elasticnet, pca__n_components=0.95; total time=   0.0s\n",
      "[CV] END lr__C=1.0, lr__penalty=elasticnet, pca__n_components=0.99; total time=   0.0s\n",
      "[CV] END lr__C=1.0, lr__penalty=elasticnet, pca__n_components=0.99; total time=   0.0s\n",
      "[CV] END ..lr__C=10.0, lr__penalty=l1, pca__n_components=0.8; total time=   0.0s\n",
      "[CV] END ..lr__C=10.0, lr__penalty=l1, pca__n_components=0.8; total time=   0.0s\n",
      "[CV] END lr__C=1.0, lr__penalty=elasticnet, pca__n_components=0.99; total time=   0.0s\n",
      "[CV] END ..lr__C=10.0, lr__penalty=l1, pca__n_components=0.8; total time=   0.0s\n",
      "[CV] END .lr__C=10.0, lr__penalty=l1, pca__n_components=0.85; total time=   0.0s\n",
      "[CV] END .lr__C=10.0, lr__penalty=l1, pca__n_components=0.85; total time=   0.1s\n",
      "[CV] END ..lr__C=10.0, lr__penalty=l1, pca__n_components=0.9; total time=   0.0s\n",
      "[CV] END ..lr__C=10.0, lr__penalty=l1, pca__n_components=0.9; total time=   0.0s\n",
      "[CV] END ..lr__C=10.0, lr__penalty=l1, pca__n_components=0.8; total time=   0.1s\n",
      "[CV] END .lr__C=10.0, lr__penalty=l1, pca__n_components=0.85; total time=   0.0s\n",
      "[CV] END ..lr__C=10.0, lr__penalty=l1, pca__n_components=0.8; total time=   0.1s\n",
      "[CV] END .lr__C=10.0, lr__penalty=l1, pca__n_components=0.85; total time=   0.0s\n",
      "[CV] END .lr__C=10.0, lr__penalty=l1, pca__n_components=0.85; total time=   0.1s\n",
      "[CV] END ..lr__C=10.0, lr__penalty=l1, pca__n_components=0.9; total time=   0.0s\n",
      "[CV] END ..lr__C=10.0, lr__penalty=l1, pca__n_components=0.9; total time=   0.0s\n",
      "[CV] END ..lr__C=10.0, lr__penalty=l1, pca__n_components=0.9; total time=   0.0s\n",
      "[CV] END .lr__C=10.0, lr__penalty=l1, pca__n_components=0.95; total time=   0.0s\n",
      "[CV] END .lr__C=10.0, lr__penalty=l1, pca__n_components=0.95; total time=   0.0s\n",
      "[CV] END .lr__C=10.0, lr__penalty=l1, pca__n_components=0.95; total time=   0.0s\n",
      "[CV] END .lr__C=10.0, lr__penalty=l1, pca__n_components=0.99; total time=   0.0s\n",
      "[CV] END .lr__C=10.0, lr__penalty=l1, pca__n_components=0.99; total time=   0.0s\n",
      "[CV] END .lr__C=10.0, lr__penalty=l1, pca__n_components=0.99; total time=   0.1s\n",
      "[CV] END .lr__C=10.0, lr__penalty=l1, pca__n_components=0.95; total time=   0.0s\n",
      "[CV] END .lr__C=10.0, lr__penalty=l1, pca__n_components=0.99; total time=   0.0s\n",
      "[CV] END .lr__C=10.0, lr__penalty=l1, pca__n_components=0.95; total time=   0.1s\n",
      "[CV] END .lr__C=10.0, lr__penalty=l1, pca__n_components=0.99; total time=   0.1s\n",
      "[CV] END ..lr__C=10.0, lr__penalty=l2, pca__n_components=0.8; total time=   0.1s\n",
      "[CV] END ..lr__C=10.0, lr__penalty=l2, pca__n_components=0.8; total time=   0.1s\n",
      "[CV] END ..lr__C=10.0, lr__penalty=l2, pca__n_components=0.8; total time=   0.1s\n",
      "[CV] END .lr__C=10.0, lr__penalty=l2, pca__n_components=0.85; total time=   0.1s\n",
      "[CV] END .lr__C=10.0, lr__penalty=l2, pca__n_components=0.85; total time=   0.1s\n",
      "[CV] END .lr__C=10.0, lr__penalty=l2, pca__n_components=0.85; total time=   0.1s\n",
      "[CV] END ..lr__C=10.0, lr__penalty=l2, pca__n_components=0.9; total time=   0.1s\n",
      "[CV] END ..lr__C=10.0, lr__penalty=l2, pca__n_components=0.8; total time=   0.1s\n",
      "[CV] END ..lr__C=10.0, lr__penalty=l2, pca__n_components=0.8; total time=   0.1s\n",
      "[CV] END ..lr__C=10.0, lr__penalty=l2, pca__n_components=0.9; total time=   0.1s\n",
      "[CV] END .lr__C=10.0, lr__penalty=l2, pca__n_components=0.85; total time=   0.1s\n",
      "[CV] END .lr__C=10.0, lr__penalty=l2, pca__n_components=0.95; total time=   0.1s\n",
      "[CV] END .lr__C=10.0, lr__penalty=l2, pca__n_components=0.85; total time=   0.1s\n",
      "[CV] END ..lr__C=10.0, lr__penalty=l2, pca__n_components=0.9; total time=   0.1s\n",
      "[CV] END ..lr__C=10.0, lr__penalty=l2, pca__n_components=0.9; total time=   0.1s\n",
      "[CV] END .lr__C=10.0, lr__penalty=l2, pca__n_components=0.95; total time=   0.1s\n",
      "[CV] END ..lr__C=10.0, lr__penalty=l2, pca__n_components=0.9; total time=   0.1s\n",
      "[CV] END .lr__C=10.0, lr__penalty=l2, pca__n_components=0.95; total time=   0.1s\n",
      "[CV] END .lr__C=10.0, lr__penalty=l2, pca__n_components=0.99; total time=   0.1s\n",
      "[CV] END lr__C=10.0, lr__penalty=elasticnet, pca__n_components=0.8; total time=   0.0s\n",
      "[CV] END .lr__C=10.0, lr__penalty=l2, pca__n_components=0.95; total time=   0.1s\n",
      "[CV] END lr__C=10.0, lr__penalty=elasticnet, pca__n_components=0.8; total time=   0.0s\n",
      "[CV] END lr__C=10.0, lr__penalty=elasticnet, pca__n_components=0.8; total time=   0.1s\n",
      "[CV] END lr__C=10.0, lr__penalty=elasticnet, pca__n_components=0.8; total time=   0.0s\n",
      "[CV] END lr__C=10.0, lr__penalty=elasticnet, pca__n_components=0.8; total time=   0.1s\n",
      "[CV] END .lr__C=10.0, lr__penalty=l2, pca__n_components=0.99; total time=   0.1s\n",
      "[CV] END lr__C=10.0, lr__penalty=elasticnet, pca__n_components=0.85; total time=   0.0s\n",
      "[CV] END lr__C=10.0, lr__penalty=elasticnet, pca__n_components=0.85; total time=   0.1s\n",
      "[CV] END .lr__C=10.0, lr__penalty=l2, pca__n_components=0.99; total time=   0.1s\n",
      "[CV] END .lr__C=10.0, lr__penalty=l2, pca__n_components=0.95; total time=   0.1s\n",
      "[CV] END .lr__C=10.0, lr__penalty=l2, pca__n_components=0.99; total time=   0.1s\n",
      "[CV] END lr__C=10.0, lr__penalty=elasticnet, pca__n_components=0.85; total time=   0.0s\n",
      "[CV] END lr__C=10.0, lr__penalty=elasticnet, pca__n_components=0.85; total time=   0.1s\n",
      "[CV] END lr__C=10.0, lr__penalty=elasticnet, pca__n_components=0.9; total time=   0.0s\n",
      "[CV] END lr__C=10.0, lr__penalty=elasticnet, pca__n_components=0.9; total time=   0.0s\n",
      "[CV] END lr__C=10.0, lr__penalty=elasticnet, pca__n_components=0.9; total time=   0.0s\n",
      "[CV] END lr__C=10.0, lr__penalty=elasticnet, pca__n_components=0.85; total time=   0.0s\n",
      "[CV] END lr__C=10.0, lr__penalty=elasticnet, pca__n_components=0.9; total time=   0.0s\n",
      "[CV] END lr__C=10.0, lr__penalty=elasticnet, pca__n_components=0.95; total time=   0.0s\n",
      "[CV] END .lr__C=10.0, lr__penalty=l2, pca__n_components=0.99; total time=   0.1s\n",
      "[CV] END lr__C=10.0, lr__penalty=elasticnet, pca__n_components=0.9; total time=   0.0s\n",
      "[CV] END lr__C=10.0, lr__penalty=elasticnet, pca__n_components=0.95; total time=   0.0s\n",
      "[CV] END lr__C=10.0, lr__penalty=elasticnet, pca__n_components=0.95; total time=   0.0s\n",
      "[CV] END lr__C=10.0, lr__penalty=elasticnet, pca__n_components=0.95; total time=   0.0s\n",
      "[CV] END lr__C=10.0, lr__penalty=elasticnet, pca__n_components=0.99; total time=   0.0s\n",
      "[CV] END lr__C=10.0, lr__penalty=elasticnet, pca__n_components=0.99; total time=   0.0s\n",
      "[CV] END lr__C=10.0, lr__penalty=elasticnet, pca__n_components=0.99; total time=   0.0s\n",
      "[CV] END lr__C=10.0, lr__penalty=elasticnet, pca__n_components=0.95; total time=   0.0s\n",
      "[CV] END .lr__C=100.0, lr__penalty=l1, pca__n_components=0.8; total time=   0.0s\n",
      "[CV] END .lr__C=100.0, lr__penalty=l1, pca__n_components=0.8; total time=   0.0s\n",
      "[CV] END lr__C=10.0, lr__penalty=elasticnet, pca__n_components=0.99; total time=   0.0s\n",
      "[CV] END lr__C=10.0, lr__penalty=elasticnet, pca__n_components=0.99; total time=   0.1s\n",
      "[CV] END lr__C=100.0, lr__penalty=l1, pca__n_components=0.85; total time=   0.0s\n",
      "[CV] END .lr__C=100.0, lr__penalty=l1, pca__n_components=0.8; total time=   0.0s\n",
      "[CV] END .lr__C=100.0, lr__penalty=l1, pca__n_components=0.8; total time=   0.0s\n",
      "[CV] END .lr__C=100.0, lr__penalty=l1, pca__n_components=0.8; total time=   0.0s\n",
      "[CV] END lr__C=100.0, lr__penalty=l1, pca__n_components=0.85; total time=   0.0s\n",
      "[CV] END lr__C=100.0, lr__penalty=l1, pca__n_components=0.85; total time=   0.0s\n",
      "[CV] END lr__C=100.0, lr__penalty=l1, pca__n_components=0.85; total time=   0.0s\n",
      "[CV] END .lr__C=100.0, lr__penalty=l1, pca__n_components=0.9; total time=   0.0s\n",
      "[CV] END .lr__C=100.0, lr__penalty=l1, pca__n_components=0.9; total time=   0.0s\n",
      "[CV] END lr__C=100.0, lr__penalty=l1, pca__n_components=0.85; total time=   0.1s\n",
      "[CV] END lr__C=100.0, lr__penalty=l1, pca__n_components=0.95; total time=   0.1s\n",
      "[CV] END lr__C=100.0, lr__penalty=l1, pca__n_components=0.95; total time=   0.0s\n",
      "[CV] END .lr__C=100.0, lr__penalty=l1, pca__n_components=0.9; total time=   0.0s\n",
      "[CV] END lr__C=100.0, lr__penalty=l1, pca__n_components=0.99; total time=   0.0s\n",
      "[CV] END lr__C=100.0, lr__penalty=l1, pca__n_components=0.95; total time=   0.1s\n",
      "[CV] END .lr__C=100.0, lr__penalty=l1, pca__n_components=0.9; total time=   0.1s\n",
      "[CV] END .lr__C=100.0, lr__penalty=l1, pca__n_components=0.9; total time=   0.0s\n",
      "[CV] END lr__C=100.0, lr__penalty=l1, pca__n_components=0.95; total time=   0.0s\n",
      "[CV] END lr__C=100.0, lr__penalty=l1, pca__n_components=0.95; total time=   0.0s\n",
      "[CV] END lr__C=100.0, lr__penalty=l1, pca__n_components=0.99; total time=   0.0s\n",
      "[CV] END lr__C=100.0, lr__penalty=l1, pca__n_components=0.99; total time=   0.0s\n",
      "[CV] END lr__C=100.0, lr__penalty=l1, pca__n_components=0.99; total time=   0.0s\n",
      "[CV] END lr__C=100.0, lr__penalty=l1, pca__n_components=0.99; total time=   0.1s\n",
      "[CV] END .lr__C=100.0, lr__penalty=l2, pca__n_components=0.8; total time=   0.1s\n",
      "[CV] END .lr__C=100.0, lr__penalty=l2, pca__n_components=0.8; total time=   0.1s\n",
      "[CV] END .lr__C=100.0, lr__penalty=l2, pca__n_components=0.8; total time=   0.1s\n",
      "[CV] END lr__C=100.0, lr__penalty=l2, pca__n_components=0.85; total time=   0.1s\n",
      "[CV] END lr__C=100.0, lr__penalty=l2, pca__n_components=0.85; total time=   0.1s\n",
      "[CV] END .lr__C=100.0, lr__penalty=l2, pca__n_components=0.9; total time=   0.1s\n",
      "[CV] END .lr__C=100.0, lr__penalty=l2, pca__n_components=0.9; total time=   0.1s\n",
      "[CV] END .lr__C=100.0, lr__penalty=l2, pca__n_components=0.8; total time=   0.1s\n",
      "[CV] END .lr__C=100.0, lr__penalty=l2, pca__n_components=0.8; total time=   0.1s\n",
      "[CV] END .lr__C=100.0, lr__penalty=l2, pca__n_components=0.9; total time=   0.1s\n",
      "[CV] END lr__C=100.0, lr__penalty=l2, pca__n_components=0.85; total time=   0.1s\n",
      "[CV] END lr__C=100.0, lr__penalty=l2, pca__n_components=0.85; total time=   0.1s\n",
      "[CV] END lr__C=100.0, lr__penalty=l2, pca__n_components=0.85; total time=   0.1s\n",
      "[CV] END .lr__C=100.0, lr__penalty=l2, pca__n_components=0.9; total time=   0.1s\n",
      "[CV] END .lr__C=100.0, lr__penalty=l2, pca__n_components=0.9; total time=   0.1s\n",
      "[CV] END lr__C=100.0, lr__penalty=l2, pca__n_components=0.95; total time=   0.1s\n",
      "[CV] END lr__C=100.0, lr__penalty=l2, pca__n_components=0.95; total time=   0.1s\n",
      "[CV] END lr__C=100.0, lr__penalty=elasticnet, pca__n_components=0.8; total time=   0.0s\n",
      "[CV] END lr__C=100.0, lr__penalty=elasticnet, pca__n_components=0.8; total time=   0.0s\n",
      "[CV] END lr__C=100.0, lr__penalty=l2, pca__n_components=0.95; total time=   0.1s\n",
      "[CV] END lr__C=100.0, lr__penalty=elasticnet, pca__n_components=0.8; total time=   0.0s\n",
      "[CV] END lr__C=100.0, lr__penalty=l2, pca__n_components=0.99; total time=   0.1s\n",
      "[CV] END lr__C=100.0, lr__penalty=l2, pca__n_components=0.99; total time=   0.1s\n",
      "[CV] END lr__C=100.0, lr__penalty=elasticnet, pca__n_components=0.8; total time=   0.0s\n",
      "[CV] END lr__C=100.0, lr__penalty=elasticnet, pca__n_components=0.85; total time=   0.0s\n",
      "[CV] END lr__C=100.0, lr__penalty=l2, pca__n_components=0.99; total time=   0.1s\n",
      "[CV] END lr__C=100.0, lr__penalty=elasticnet, pca__n_components=0.85; total time=   0.0s\n",
      "[CV] END lr__C=100.0, lr__penalty=l2, pca__n_components=0.95; total time=   0.1s\n",
      "[CV] END lr__C=100.0, lr__penalty=elasticnet, pca__n_components=0.85; total time=   0.0s\n",
      "[CV] END lr__C=100.0, lr__penalty=elasticnet, pca__n_components=0.8; total time=   0.0s\n",
      "[CV] END lr__C=100.0, lr__penalty=elasticnet, pca__n_components=0.85; total time=   0.0s\n",
      "[CV] END lr__C=100.0, lr__penalty=l2, pca__n_components=0.95; total time=   0.1s\n",
      "[CV] END lr__C=100.0, lr__penalty=elasticnet, pca__n_components=0.85; total time=   0.0s\n",
      "[CV] END lr__C=100.0, lr__penalty=l2, pca__n_components=0.99; total time=   0.1s\n",
      "[CV] END lr__C=100.0, lr__penalty=elasticnet, pca__n_components=0.9; total time=   0.0s\n",
      "[CV] END lr__C=100.0, lr__penalty=elasticnet, pca__n_components=0.9; total time=   0.0s\n",
      "[CV] END lr__C=100.0, lr__penalty=elasticnet, pca__n_components=0.9; total time=   0.0s\n",
      "[CV] END lr__C=100.0, lr__penalty=l2, pca__n_components=0.99; total time=   0.1s\n",
      "[CV] END lr__C=100.0, lr__penalty=elasticnet, pca__n_components=0.95; total time=   0.0s\n",
      "[CV] END lr__C=100.0, lr__penalty=elasticnet, pca__n_components=0.9; total time=   0.0s\n",
      "[CV] END lr__C=100.0, lr__penalty=elasticnet, pca__n_components=0.95; total time=   0.1s\n",
      "[CV] END lr__C=100.0, lr__penalty=elasticnet, pca__n_components=0.95; total time=   0.0s\n",
      "[CV] END lr__C=100.0, lr__penalty=elasticnet, pca__n_components=0.9; total time=   0.1s\n",
      "[CV] END lr__C=100.0, lr__penalty=elasticnet, pca__n_components=0.95; total time=   0.0s\n",
      "[CV] END lr__C=100.0, lr__penalty=elasticnet, pca__n_components=0.99; total time=   0.0s\n",
      "[CV] END lr__C=1000.0, lr__penalty=l1, pca__n_components=0.8; total time=   0.0s\n",
      "[CV] END lr__C=100.0, lr__penalty=elasticnet, pca__n_components=0.99; total time=   0.1s\n",
      "[CV] END lr__C=100.0, lr__penalty=elasticnet, pca__n_components=0.99; total time=   0.0s\n",
      "[CV] END lr__C=100.0, lr__penalty=elasticnet, pca__n_components=0.99; total time=   0.0s\n",
      "[CV] END lr__C=100.0, lr__penalty=elasticnet, pca__n_components=0.95; total time=   0.1s\n",
      "[CV] END lr__C=1000.0, lr__penalty=l1, pca__n_components=0.8; total time=   0.0s\n",
      "[CV] END lr__C=1000.0, lr__penalty=l1, pca__n_components=0.8; total time=   0.0s\n",
      "[CV] END lr__C=1000.0, lr__penalty=l1, pca__n_components=0.8; total time=   0.1s\n",
      "[CV] END lr__C=1000.0, lr__penalty=l1, pca__n_components=0.85; total time=   0.0s\n",
      "[CV] END lr__C=100.0, lr__penalty=elasticnet, pca__n_components=0.99; total time=   0.1s\n",
      "[CV] END lr__C=1000.0, lr__penalty=l1, pca__n_components=0.8; total time=   0.0s\n",
      "[CV] END lr__C=1000.0, lr__penalty=l1, pca__n_components=0.85; total time=   0.0s\n",
      "[CV] END lr__C=1000.0, lr__penalty=l1, pca__n_components=0.85; total time=   0.0s\n",
      "[CV] END lr__C=1000.0, lr__penalty=l1, pca__n_components=0.9; total time=   0.0s\n",
      "[CV] END lr__C=1000.0, lr__penalty=l1, pca__n_components=0.85; total time=   0.0s\n",
      "[CV] END lr__C=1000.0, lr__penalty=l1, pca__n_components=0.9; total time=   0.0s\n",
      "[CV] END lr__C=1000.0, lr__penalty=l1, pca__n_components=0.85; total time=   0.0s\n",
      "[CV] END lr__C=1000.0, lr__penalty=l1, pca__n_components=0.9; total time=   0.1s\n",
      "[CV] END lr__C=1000.0, lr__penalty=l1, pca__n_components=0.9; total time=   0.0s\n",
      "[CV] END lr__C=1000.0, lr__penalty=l1, pca__n_components=0.95; total time=   0.0s\n",
      "[CV] END lr__C=1000.0, lr__penalty=l1, pca__n_components=0.95; total time=   0.0s\n",
      "[CV] END lr__C=1000.0, lr__penalty=l1, pca__n_components=0.99; total time=   0.0s\n",
      "[CV] END lr__C=1000.0, lr__penalty=l1, pca__n_components=0.95; total time=   0.0s\n",
      "[CV] END lr__C=1000.0, lr__penalty=l1, pca__n_components=0.9; total time=   0.0s\n",
      "[CV] END lr__C=1000.0, lr__penalty=l1, pca__n_components=0.99; total time=   0.0s\n",
      "[CV] END lr__C=1000.0, lr__penalty=l1, pca__n_components=0.95; total time=   0.0s\n",
      "[CV] END lr__C=1000.0, lr__penalty=l1, pca__n_components=0.95; total time=   0.0s\n",
      "[CV] END lr__C=1000.0, lr__penalty=l1, pca__n_components=0.99; total time=   0.0s\n",
      "[CV] END lr__C=1000.0, lr__penalty=l1, pca__n_components=0.99; total time=   0.0s\n",
      "[CV] END lr__C=1000.0, lr__penalty=l1, pca__n_components=0.99; total time=   0.0s\n",
      "[CV] END lr__C=1000.0, lr__penalty=l2, pca__n_components=0.8; total time=   0.1s\n",
      "[CV] END lr__C=1000.0, lr__penalty=l2, pca__n_components=0.85; total time=   0.1s\n",
      "[CV] END lr__C=1000.0, lr__penalty=l2, pca__n_components=0.8; total time=   0.1s\n",
      "[CV] END lr__C=1000.0, lr__penalty=l2, pca__n_components=0.8; total time=   0.1s\n",
      "[CV] END lr__C=1000.0, lr__penalty=l2, pca__n_components=0.85; total time=   0.1s\n",
      "[CV] END lr__C=1000.0, lr__penalty=l2, pca__n_components=0.85; total time=   0.1s\n",
      "[CV] END lr__C=1000.0, lr__penalty=l2, pca__n_components=0.85; total time=   0.1s\n",
      "[CV] END lr__C=1000.0, lr__penalty=l2, pca__n_components=0.9; total time=   0.2s\n",
      "[CV] END lr__C=1000.0, lr__penalty=l2, pca__n_components=0.9; total time=   0.1s\n",
      "[CV] END lr__C=1000.0, lr__penalty=l2, pca__n_components=0.8; total time=   0.1s\n",
      "[CV] END lr__C=1000.0, lr__penalty=l2, pca__n_components=0.8; total time=   0.1s\n",
      "[CV] END lr__C=1000.0, lr__penalty=l2, pca__n_components=0.85; total time=   0.1s\n",
      "[CV] END lr__C=1000.0, lr__penalty=l2, pca__n_components=0.95; total time=   0.1s\n",
      "[CV] END lr__C=1000.0, lr__penalty=l2, pca__n_components=0.9; total time=   0.1s\n",
      "[CV] END lr__C=1000.0, lr__penalty=l2, pca__n_components=0.9; total time=   0.1s\n",
      "[CV] END lr__C=1000.0, lr__penalty=l2, pca__n_components=0.95; total time=   0.1s\n",
      "[CV] END lr__C=1000.0, lr__penalty=l2, pca__n_components=0.9; total time=   0.1s\n",
      "[CV] END lr__C=1000.0, lr__penalty=l2, pca__n_components=0.99; total time=   0.1s\n",
      "[CV] END lr__C=1000.0, lr__penalty=l2, pca__n_components=0.95; total time=   0.1s\n",
      "[CV] END lr__C=1000.0, lr__penalty=elasticnet, pca__n_components=0.8; total time=   0.0s\n",
      "[CV] END lr__C=1000.0, lr__penalty=l2, pca__n_components=0.95; total time=   0.1s\n",
      "[CV] END lr__C=1000.0, lr__penalty=l2, pca__n_components=0.99; total time=   0.1s\n",
      "[CV] END lr__C=1000.0, lr__penalty=elasticnet, pca__n_components=0.8; total time=   0.1s\n",
      "[CV] END lr__C=1000.0, lr__penalty=elasticnet, pca__n_components=0.8; total time=   0.0s\n",
      "[CV] END lr__C=1000.0, lr__penalty=elasticnet, pca__n_components=0.8; total time=   0.0s\n",
      "[CV] END lr__C=1000.0, lr__penalty=l2, pca__n_components=0.99; total time=   0.1s\n",
      "[CV] END lr__C=1000.0, lr__penalty=elasticnet, pca__n_components=0.8; total time=   0.0s\n",
      "[CV] END lr__C=1000.0, lr__penalty=l2, pca__n_components=0.95; total time=   0.1s\n",
      "[CV] END lr__C=1000.0, lr__penalty=l2, pca__n_components=0.99; total time=   0.1s\n",
      "[CV] END lr__C=1000.0, lr__penalty=elasticnet, pca__n_components=0.85; total time=   0.0s\n",
      "[CV] END lr__C=1000.0, lr__penalty=elasticnet, pca__n_components=0.85; total time=   0.0s\n",
      "[CV] END lr__C=1000.0, lr__penalty=elasticnet, pca__n_components=0.85; total time=   0.0s\n",
      "[CV] END lr__C=1000.0, lr__penalty=l2, pca__n_components=0.99; total time=   0.1s\n",
      "[CV] END lr__C=1000.0, lr__penalty=elasticnet, pca__n_components=0.9; total time=   0.0s\n",
      "[CV] END lr__C=1000.0, lr__penalty=elasticnet, pca__n_components=0.9; total time=   0.0s\n",
      "[CV] END lr__C=1000.0, lr__penalty=elasticnet, pca__n_components=0.85; total time=   0.1s\n",
      "[CV] END lr__C=1000.0, lr__penalty=elasticnet, pca__n_components=0.85; total time=   0.0s\n",
      "[CV] END lr__C=1000.0, lr__penalty=elasticnet, pca__n_components=0.9; total time=   0.1s\n",
      "[CV] END lr__C=1000.0, lr__penalty=elasticnet, pca__n_components=0.9; total time=   0.1s\n",
      "[CV] END lr__C=1000.0, lr__penalty=elasticnet, pca__n_components=0.9; total time=   0.0s\n",
      "[CV] END lr__C=1000.0, lr__penalty=elasticnet, pca__n_components=0.95; total time=   0.1s\n",
      "[CV] END lr__C=1000.0, lr__penalty=elasticnet, pca__n_components=0.95; total time=   0.0s\n",
      "[CV] END lr__C=1000.0, lr__penalty=elasticnet, pca__n_components=0.95; total time=   0.0s\n",
      "[CV] END lr__C=1000.0, lr__penalty=elasticnet, pca__n_components=0.95; total time=   0.0s\n",
      "[CV] END lr__C=1000.0, lr__penalty=elasticnet, pca__n_components=0.95; total time=   0.0s\n",
      "[CV] END lr__C=1000.0, lr__penalty=elasticnet, pca__n_components=0.99; total time=   0.0s\n",
      "[CV] END lr__C=1000.0, lr__penalty=elasticnet, pca__n_components=0.99; total time=   0.0s\n",
      "[CV] END lr__C=1000.0, lr__penalty=elasticnet, pca__n_components=0.99; total time=   0.0s\n",
      "[CV] END lr__C=1000.0, lr__penalty=elasticnet, pca__n_components=0.99; total time=   0.0s\n",
      "[CV] END lr__C=1000.0, lr__penalty=elasticnet, pca__n_components=0.99; total time=   0.0s\n"
     ]
    }
   ],
   "source": [
    "gs_lr = gs_lr.fit(X_train, y_train)"
   ]
  },
  {
   "cell_type": "code",
   "execution_count": 10,
   "metadata": {},
   "outputs": [
    {
     "name": "stdout",
     "output_type": "stream",
     "text": [
      "Highest f1 score: 0.02746898874162314\n",
      "Best parameters: {'lr__C': 0.001, 'lr__penalty': 'l2', 'pca__n_components': 0.8}\n"
     ]
    }
   ],
   "source": [
    "print(\"Highest f1 score: {}\".format(gs_lr.best_score_))\n",
    "print(\"Best parameters: {}\".format(gs_lr.best_params_))"
   ]
  },
  {
   "cell_type": "code",
   "execution_count": 11,
   "metadata": {},
   "outputs": [],
   "source": [
    "proba_lr = gs_lr.predict_proba(X_test)[:, 1]"
   ]
  },
  {
   "cell_type": "code",
   "execution_count": 12,
   "metadata": {},
   "outputs": [],
   "source": [
    "fpr_lr, tpr_lr, thresholds_lr = metrics.roc_curve(y_test, proba_lr)\n",
    "auc_lr = metrics.auc(fpr_lr, tpr_lr)"
   ]
  },
  {
   "attachments": {},
   "cell_type": "markdown",
   "metadata": {},
   "source": [
    "### SVM"
   ]
  },
  {
   "cell_type": "code",
   "execution_count": 13,
   "metadata": {},
   "outputs": [],
   "source": [
    "pipeline_svm = Pipeline([('imputer', SimpleImputer(missing_values=np.nan, strategy='mean')),\n",
    "                         ('scaler', StandardScaler()),\n",
    "                         ('pca', PCA()),\n",
    "                         ('svm', SVC(max_iter=50000, random_state=42, class_weight='balanced'))])"
   ]
  },
  {
   "cell_type": "code",
   "execution_count": 14,
   "metadata": {},
   "outputs": [],
   "source": [
    "gamma_range = st.loguniform(1e-1, 1e1)\n",
    "C_range = st.loguniform(1e-2, 1e2)\n",
    "\n",
    "param_grid_svm = [{'pca__n_components': [0.8, 0.85, 0.9, 0.95, 0.99],\n",
    "                   'svm__C': C_range,\n",
    "                   'svm__kernel': ['rbf'],\n",
    "                   'svm__gamma': ['scale']},\n",
    "                  {'pca__n_components': [0.8, 0.85, 0.9, 0.95, 0.99],\n",
    "                   'svm__C': C_range,\n",
    "                   'svm__kernel': ['rbf'],\n",
    "                   'svm__gamma': gamma_range}]\n",
    "\n",
    "rs_svm = RandomizedSearchCV(estimator=pipeline_svm,\n",
    "                            param_distributions=param_grid_svm,\n",
    "                            scoring='f1',\n",
    "                            cv=5,\n",
    "                            refit=True,\n",
    "                            n_jobs=-1,\n",
    "                            verbose=3,\n",
    "                            n_iter=50)"
   ]
  },
  {
   "cell_type": "code",
   "execution_count": 15,
   "metadata": {},
   "outputs": [
    {
     "name": "stdout",
     "output_type": "stream",
     "text": [
      "Fitting 5 folds for each of 50 candidates, totalling 250 fits\n"
     ]
    },
    {
     "name": "stderr",
     "output_type": "stream",
     "text": [
      "/Users/zhouenze/opt/anaconda3/lib/python3.9/site-packages/sklearn/svm/_base.py:299: ConvergenceWarning: Solver terminated early (max_iter=50000).  Consider pre-processing your data with StandardScaler or MinMaxScaler.\n",
      "  warnings.warn(\n",
      "/Users/zhouenze/opt/anaconda3/lib/python3.9/site-packages/sklearn/svm/_base.py:299: ConvergenceWarning: Solver terminated early (max_iter=50000).  Consider pre-processing your data with StandardScaler or MinMaxScaler.\n",
      "  warnings.warn(\n",
      "/Users/zhouenze/opt/anaconda3/lib/python3.9/site-packages/sklearn/svm/_base.py:299: ConvergenceWarning: Solver terminated early (max_iter=50000).  Consider pre-processing your data with StandardScaler or MinMaxScaler.\n",
      "  warnings.warn(\n",
      "/Users/zhouenze/opt/anaconda3/lib/python3.9/site-packages/sklearn/svm/_base.py:299: ConvergenceWarning: Solver terminated early (max_iter=50000).  Consider pre-processing your data with StandardScaler or MinMaxScaler.\n",
      "  warnings.warn(\n",
      "/Users/zhouenze/opt/anaconda3/lib/python3.9/site-packages/sklearn/svm/_base.py:299: ConvergenceWarning: Solver terminated early (max_iter=50000).  Consider pre-processing your data with StandardScaler or MinMaxScaler.\n",
      "  warnings.warn(\n",
      "/Users/zhouenze/opt/anaconda3/lib/python3.9/site-packages/sklearn/svm/_base.py:299: ConvergenceWarning: Solver terminated early (max_iter=50000).  Consider pre-processing your data with StandardScaler or MinMaxScaler.\n",
      "  warnings.warn(\n",
      "/Users/zhouenze/opt/anaconda3/lib/python3.9/site-packages/sklearn/svm/_base.py:299: ConvergenceWarning: Solver terminated early (max_iter=50000).  Consider pre-processing your data with StandardScaler or MinMaxScaler.\n",
      "  warnings.warn(\n",
      "/Users/zhouenze/opt/anaconda3/lib/python3.9/site-packages/sklearn/svm/_base.py:299: ConvergenceWarning: Solver terminated early (max_iter=50000).  Consider pre-processing your data with StandardScaler or MinMaxScaler.\n",
      "  warnings.warn(\n"
     ]
    },
    {
     "name": "stdout",
     "output_type": "stream",
     "text": [
      "[CV 3/5] END pca__n_components=0.9, svm__C=0.4084491294916575, svm__gamma=0.17738801734367338, svm__kernel=rbf;, score=0.335 total time= 3.3min\n",
      "[CV 3/5] END pca__n_components=0.85, svm__C=31.52141888516775, svm__gamma=scale, svm__kernel=rbf;, score=0.321 total time= 3.3min\n",
      "[CV 1/5] END pca__n_components=0.9, svm__C=0.4084491294916575, svm__gamma=0.17738801734367338, svm__kernel=rbf;, score=0.338 total time= 3.3min\n",
      "[CV 1/5] END pca__n_components=0.85, svm__C=31.52141888516775, svm__gamma=scale, svm__kernel=rbf;, score=0.331 total time= 3.3min\n",
      "[CV 2/5] END pca__n_components=0.9, svm__C=0.4084491294916575, svm__gamma=0.17738801734367338, svm__kernel=rbf;, score=0.339 total time= 3.3min\n",
      "[CV 2/5] END pca__n_components=0.85, svm__C=31.52141888516775, svm__gamma=scale, svm__kernel=rbf;, score=0.298 total time= 3.4min\n",
      "[CV 5/5] END pca__n_components=0.85, svm__C=31.52141888516775, svm__gamma=scale, svm__kernel=rbf;, score=0.289 total time= 3.4min\n",
      "[CV 4/5] END pca__n_components=0.85, svm__C=31.52141888516775, svm__gamma=scale, svm__kernel=rbf;, score=0.337 total time= 3.4min\n"
     ]
    },
    {
     "name": "stderr",
     "output_type": "stream",
     "text": [
      "/Users/zhouenze/opt/anaconda3/lib/python3.9/site-packages/sklearn/svm/_base.py:299: ConvergenceWarning: Solver terminated early (max_iter=50000).  Consider pre-processing your data with StandardScaler or MinMaxScaler.\n",
      "  warnings.warn(\n",
      "/Users/zhouenze/opt/anaconda3/lib/python3.9/site-packages/sklearn/svm/_base.py:299: ConvergenceWarning: Solver terminated early (max_iter=50000).  Consider pre-processing your data with StandardScaler or MinMaxScaler.\n",
      "  warnings.warn(\n",
      "/Users/zhouenze/opt/anaconda3/lib/python3.9/site-packages/sklearn/svm/_base.py:299: ConvergenceWarning: Solver terminated early (max_iter=50000).  Consider pre-processing your data with StandardScaler or MinMaxScaler.\n",
      "  warnings.warn(\n",
      "/Users/zhouenze/opt/anaconda3/lib/python3.9/site-packages/sklearn/svm/_base.py:299: ConvergenceWarning: Solver terminated early (max_iter=50000).  Consider pre-processing your data with StandardScaler or MinMaxScaler.\n",
      "  warnings.warn(\n",
      "/Users/zhouenze/opt/anaconda3/lib/python3.9/site-packages/sklearn/svm/_base.py:299: ConvergenceWarning: Solver terminated early (max_iter=50000).  Consider pre-processing your data with StandardScaler or MinMaxScaler.\n",
      "  warnings.warn(\n",
      "/Users/zhouenze/opt/anaconda3/lib/python3.9/site-packages/sklearn/svm/_base.py:299: ConvergenceWarning: Solver terminated early (max_iter=50000).  Consider pre-processing your data with StandardScaler or MinMaxScaler.\n",
      "  warnings.warn(\n",
      "/Users/zhouenze/opt/anaconda3/lib/python3.9/site-packages/sklearn/svm/_base.py:299: ConvergenceWarning: Solver terminated early (max_iter=50000).  Consider pre-processing your data with StandardScaler or MinMaxScaler.\n",
      "  warnings.warn(\n",
      "/Users/zhouenze/opt/anaconda3/lib/python3.9/site-packages/sklearn/svm/_base.py:299: ConvergenceWarning: Solver terminated early (max_iter=50000).  Consider pre-processing your data with StandardScaler or MinMaxScaler.\n",
      "  warnings.warn(\n"
     ]
    },
    {
     "name": "stdout",
     "output_type": "stream",
     "text": [
      "[CV 5/5] END pca__n_components=0.9, svm__C=0.4084491294916575, svm__gamma=0.17738801734367338, svm__kernel=rbf;, score=0.340 total time= 3.3min\n",
      "[CV 4/5] END pca__n_components=0.9, svm__C=0.4084491294916575, svm__gamma=0.17738801734367338, svm__kernel=rbf;, score=0.350 total time= 3.3min\n",
      "[CV 3/5] END pca__n_components=0.8, svm__C=0.2212426859968392, svm__gamma=3.795161697492403, svm__kernel=rbf;, score=0.322 total time= 3.3min\n",
      "[CV 2/5] END pca__n_components=0.8, svm__C=0.2212426859968392, svm__gamma=3.795161697492403, svm__kernel=rbf;, score=0.324 total time= 3.3min\n",
      "[CV 1/5] END pca__n_components=0.8, svm__C=0.2212426859968392, svm__gamma=3.795161697492403, svm__kernel=rbf;, score=0.328 total time= 3.3min\n",
      "[CV 4/5] END pca__n_components=0.8, svm__C=0.2212426859968392, svm__gamma=3.795161697492403, svm__kernel=rbf;, score=0.332 total time= 3.3min\n",
      "[CV 5/5] END pca__n_components=0.8, svm__C=0.2212426859968392, svm__gamma=3.795161697492403, svm__kernel=rbf;, score=0.324 total time= 3.3min\n",
      "[CV 1/5] END pca__n_components=0.95, svm__C=0.2586232658000995, svm__gamma=scale, svm__kernel=rbf;, score=0.342 total time= 3.4min\n"
     ]
    },
    {
     "name": "stderr",
     "output_type": "stream",
     "text": [
      "/Users/zhouenze/opt/anaconda3/lib/python3.9/site-packages/sklearn/svm/_base.py:299: ConvergenceWarning: Solver terminated early (max_iter=50000).  Consider pre-processing your data with StandardScaler or MinMaxScaler.\n",
      "  warnings.warn(\n",
      "/Users/zhouenze/opt/anaconda3/lib/python3.9/site-packages/sklearn/svm/_base.py:299: ConvergenceWarning: Solver terminated early (max_iter=50000).  Consider pre-processing your data with StandardScaler or MinMaxScaler.\n",
      "  warnings.warn(\n",
      "/Users/zhouenze/opt/anaconda3/lib/python3.9/site-packages/sklearn/svm/_base.py:299: ConvergenceWarning: Solver terminated early (max_iter=50000).  Consider pre-processing your data with StandardScaler or MinMaxScaler.\n",
      "  warnings.warn(\n",
      "/Users/zhouenze/opt/anaconda3/lib/python3.9/site-packages/sklearn/svm/_base.py:299: ConvergenceWarning: Solver terminated early (max_iter=50000).  Consider pre-processing your data with StandardScaler or MinMaxScaler.\n",
      "  warnings.warn(\n",
      "/Users/zhouenze/opt/anaconda3/lib/python3.9/site-packages/sklearn/svm/_base.py:299: ConvergenceWarning: Solver terminated early (max_iter=50000).  Consider pre-processing your data with StandardScaler or MinMaxScaler.\n",
      "  warnings.warn(\n",
      "/Users/zhouenze/opt/anaconda3/lib/python3.9/site-packages/sklearn/svm/_base.py:299: ConvergenceWarning: Solver terminated early (max_iter=50000).  Consider pre-processing your data with StandardScaler or MinMaxScaler.\n",
      "  warnings.warn(\n",
      "/Users/zhouenze/opt/anaconda3/lib/python3.9/site-packages/sklearn/svm/_base.py:299: ConvergenceWarning: Solver terminated early (max_iter=50000).  Consider pre-processing your data with StandardScaler or MinMaxScaler.\n",
      "  warnings.warn(\n",
      "/Users/zhouenze/opt/anaconda3/lib/python3.9/site-packages/sklearn/svm/_base.py:299: ConvergenceWarning: Solver terminated early (max_iter=50000).  Consider pre-processing your data with StandardScaler or MinMaxScaler.\n",
      "  warnings.warn(\n"
     ]
    },
    {
     "name": "stdout",
     "output_type": "stream",
     "text": [
      "[CV 1/5] END pca__n_components=0.8, svm__C=10.87159768225037, svm__gamma=1.843200146375293, svm__kernel=rbf;, score=0.320 total time= 3.3min\n",
      "[CV 3/5] END pca__n_components=0.95, svm__C=0.2586232658000995, svm__gamma=scale, svm__kernel=rbf;, score=0.342 total time= 3.4min\n",
      "[CV 2/5] END pca__n_components=0.95, svm__C=0.2586232658000995, svm__gamma=scale, svm__kernel=rbf;, score=0.340 total time= 3.4min\n",
      "[CV 3/5] END pca__n_components=0.8, svm__C=10.87159768225037, svm__gamma=1.843200146375293, svm__kernel=rbf;, score=0.305 total time= 3.3min\n",
      "[CV 4/5] END pca__n_components=0.95, svm__C=0.2586232658000995, svm__gamma=scale, svm__kernel=rbf;, score=0.342 total time= 3.4min\n",
      "[CV 2/5] END pca__n_components=0.8, svm__C=10.87159768225037, svm__gamma=1.843200146375293, svm__kernel=rbf;, score=0.312 total time= 3.4min\n",
      "[CV 5/5] END pca__n_components=0.95, svm__C=0.2586232658000995, svm__gamma=scale, svm__kernel=rbf;, score=0.341 total time= 3.4min\n",
      "[CV 4/5] END pca__n_components=0.8, svm__C=10.87159768225037, svm__gamma=1.843200146375293, svm__kernel=rbf;, score=0.327 total time= 3.3min\n"
     ]
    },
    {
     "name": "stderr",
     "output_type": "stream",
     "text": [
      "/Users/zhouenze/opt/anaconda3/lib/python3.9/site-packages/sklearn/svm/_base.py:299: ConvergenceWarning: Solver terminated early (max_iter=50000).  Consider pre-processing your data with StandardScaler or MinMaxScaler.\n",
      "  warnings.warn(\n",
      "/Users/zhouenze/opt/anaconda3/lib/python3.9/site-packages/sklearn/svm/_base.py:299: ConvergenceWarning: Solver terminated early (max_iter=50000).  Consider pre-processing your data with StandardScaler or MinMaxScaler.\n",
      "  warnings.warn(\n",
      "/Users/zhouenze/opt/anaconda3/lib/python3.9/site-packages/sklearn/svm/_base.py:299: ConvergenceWarning: Solver terminated early (max_iter=50000).  Consider pre-processing your data with StandardScaler or MinMaxScaler.\n",
      "  warnings.warn(\n",
      "/Users/zhouenze/opt/anaconda3/lib/python3.9/site-packages/sklearn/svm/_base.py:299: ConvergenceWarning: Solver terminated early (max_iter=50000).  Consider pre-processing your data with StandardScaler or MinMaxScaler.\n",
      "  warnings.warn(\n",
      "/Users/zhouenze/opt/anaconda3/lib/python3.9/site-packages/sklearn/svm/_base.py:299: ConvergenceWarning: Solver terminated early (max_iter=50000).  Consider pre-processing your data with StandardScaler or MinMaxScaler.\n",
      "  warnings.warn(\n",
      "/Users/zhouenze/opt/anaconda3/lib/python3.9/site-packages/sklearn/svm/_base.py:299: ConvergenceWarning: Solver terminated early (max_iter=50000).  Consider pre-processing your data with StandardScaler or MinMaxScaler.\n",
      "  warnings.warn(\n",
      "/Users/zhouenze/opt/anaconda3/lib/python3.9/site-packages/sklearn/svm/_base.py:299: ConvergenceWarning: Solver terminated early (max_iter=50000).  Consider pre-processing your data with StandardScaler or MinMaxScaler.\n",
      "  warnings.warn(\n",
      "/Users/zhouenze/opt/anaconda3/lib/python3.9/site-packages/sklearn/svm/_base.py:299: ConvergenceWarning: Solver terminated early (max_iter=50000).  Consider pre-processing your data with StandardScaler or MinMaxScaler.\n",
      "  warnings.warn(\n"
     ]
    },
    {
     "name": "stdout",
     "output_type": "stream",
     "text": [
      "[CV 3/5] END pca__n_components=0.85, svm__C=1.4626810577114366, svm__gamma=scale, svm__kernel=rbf;, score=0.334 total time= 3.2min\n",
      "[CV 2/5] END pca__n_components=0.85, svm__C=1.4626810577114366, svm__gamma=scale, svm__kernel=rbf;, score=0.336 total time= 3.2min\n",
      "[CV 1/5] END pca__n_components=0.85, svm__C=1.4626810577114366, svm__gamma=scale, svm__kernel=rbf;, score=0.337 total time= 3.2min\n",
      "[CV 4/5] END pca__n_components=0.85, svm__C=1.4626810577114366, svm__gamma=scale, svm__kernel=rbf;, score=0.348 total time= 3.2min\n",
      "[CV 5/5] END pca__n_components=0.85, svm__C=1.4626810577114366, svm__gamma=scale, svm__kernel=rbf;, score=0.338 total time= 3.2min\n",
      "[CV 5/5] END pca__n_components=0.8, svm__C=10.87159768225037, svm__gamma=1.843200146375293, svm__kernel=rbf;, score=0.312 total time= 3.3min\n",
      "[CV 1/5] END pca__n_components=0.99, svm__C=0.12446331453906231, svm__gamma=scale, svm__kernel=rbf;, score=0.330 total time= 3.4min\n",
      "[CV 2/5] END pca__n_components=0.99, svm__C=0.12446331453906231, svm__gamma=scale, svm__kernel=rbf;, score=0.328 total time= 3.4min\n"
     ]
    },
    {
     "name": "stderr",
     "output_type": "stream",
     "text": [
      "/Users/zhouenze/opt/anaconda3/lib/python3.9/site-packages/sklearn/svm/_base.py:299: ConvergenceWarning: Solver terminated early (max_iter=50000).  Consider pre-processing your data with StandardScaler or MinMaxScaler.\n",
      "  warnings.warn(\n",
      "/Users/zhouenze/opt/anaconda3/lib/python3.9/site-packages/sklearn/svm/_base.py:299: ConvergenceWarning: Solver terminated early (max_iter=50000).  Consider pre-processing your data with StandardScaler or MinMaxScaler.\n",
      "  warnings.warn(\n",
      "/Users/zhouenze/opt/anaconda3/lib/python3.9/site-packages/sklearn/svm/_base.py:299: ConvergenceWarning: Solver terminated early (max_iter=50000).  Consider pre-processing your data with StandardScaler or MinMaxScaler.\n",
      "  warnings.warn(\n",
      "/Users/zhouenze/opt/anaconda3/lib/python3.9/site-packages/sklearn/svm/_base.py:299: ConvergenceWarning: Solver terminated early (max_iter=50000).  Consider pre-processing your data with StandardScaler or MinMaxScaler.\n",
      "  warnings.warn(\n",
      "/Users/zhouenze/opt/anaconda3/lib/python3.9/site-packages/sklearn/svm/_base.py:299: ConvergenceWarning: Solver terminated early (max_iter=50000).  Consider pre-processing your data with StandardScaler or MinMaxScaler.\n",
      "  warnings.warn(\n",
      "/Users/zhouenze/opt/anaconda3/lib/python3.9/site-packages/sklearn/svm/_base.py:299: ConvergenceWarning: Solver terminated early (max_iter=50000).  Consider pre-processing your data with StandardScaler or MinMaxScaler.\n",
      "  warnings.warn(\n",
      "/Users/zhouenze/opt/anaconda3/lib/python3.9/site-packages/sklearn/svm/_base.py:299: ConvergenceWarning: Solver terminated early (max_iter=50000).  Consider pre-processing your data with StandardScaler or MinMaxScaler.\n",
      "  warnings.warn(\n",
      "/Users/zhouenze/opt/anaconda3/lib/python3.9/site-packages/sklearn/svm/_base.py:299: ConvergenceWarning: Solver terminated early (max_iter=50000).  Consider pre-processing your data with StandardScaler or MinMaxScaler.\n",
      "  warnings.warn(\n"
     ]
    },
    {
     "name": "stdout",
     "output_type": "stream",
     "text": [
      "[CV 1/5] END pca__n_components=0.8, svm__C=0.8961368412741487, svm__gamma=0.6524202511698287, svm__kernel=rbf;, score=0.327 total time= 3.2min\n",
      "[CV 3/5] END pca__n_components=0.8, svm__C=0.8961368412741487, svm__gamma=0.6524202511698287, svm__kernel=rbf;, score=0.321 total time= 3.2min\n",
      "[CV 2/5] END pca__n_components=0.8, svm__C=0.8961368412741487, svm__gamma=0.6524202511698287, svm__kernel=rbf;, score=0.323 total time= 3.2min\n",
      "[CV 3/5] END pca__n_components=0.99, svm__C=0.12446331453906231, svm__gamma=scale, svm__kernel=rbf;, score=0.333 total time= 3.4min\n",
      "[CV 5/5] END pca__n_components=0.99, svm__C=0.12446331453906231, svm__gamma=scale, svm__kernel=rbf;, score=0.334 total time= 3.4min\n",
      "[CV 4/5] END pca__n_components=0.99, svm__C=0.12446331453906231, svm__gamma=scale, svm__kernel=rbf;, score=0.329 total time= 3.4min\n",
      "[CV 4/5] END pca__n_components=0.8, svm__C=0.8961368412741487, svm__gamma=0.6524202511698287, svm__kernel=rbf;, score=0.334 total time= 3.2min\n",
      "[CV 5/5] END pca__n_components=0.8, svm__C=0.8961368412741487, svm__gamma=0.6524202511698287, svm__kernel=rbf;, score=0.326 total time= 3.2min\n"
     ]
    },
    {
     "name": "stderr",
     "output_type": "stream",
     "text": [
      "/Users/zhouenze/opt/anaconda3/lib/python3.9/site-packages/sklearn/svm/_base.py:299: ConvergenceWarning: Solver terminated early (max_iter=50000).  Consider pre-processing your data with StandardScaler or MinMaxScaler.\n",
      "  warnings.warn(\n",
      "/Users/zhouenze/opt/anaconda3/lib/python3.9/site-packages/sklearn/svm/_base.py:299: ConvergenceWarning: Solver terminated early (max_iter=50000).  Consider pre-processing your data with StandardScaler or MinMaxScaler.\n",
      "  warnings.warn(\n",
      "/Users/zhouenze/opt/anaconda3/lib/python3.9/site-packages/sklearn/svm/_base.py:299: ConvergenceWarning: Solver terminated early (max_iter=50000).  Consider pre-processing your data with StandardScaler or MinMaxScaler.\n",
      "  warnings.warn(\n",
      "/Users/zhouenze/opt/anaconda3/lib/python3.9/site-packages/sklearn/svm/_base.py:299: ConvergenceWarning: Solver terminated early (max_iter=50000).  Consider pre-processing your data with StandardScaler or MinMaxScaler.\n",
      "  warnings.warn(\n",
      "/Users/zhouenze/opt/anaconda3/lib/python3.9/site-packages/sklearn/svm/_base.py:299: ConvergenceWarning: Solver terminated early (max_iter=50000).  Consider pre-processing your data with StandardScaler or MinMaxScaler.\n",
      "  warnings.warn(\n",
      "/Users/zhouenze/opt/anaconda3/lib/python3.9/site-packages/sklearn/svm/_base.py:299: ConvergenceWarning: Solver terminated early (max_iter=50000).  Consider pre-processing your data with StandardScaler or MinMaxScaler.\n",
      "  warnings.warn(\n",
      "/Users/zhouenze/opt/anaconda3/lib/python3.9/site-packages/sklearn/svm/_base.py:299: ConvergenceWarning: Solver terminated early (max_iter=50000).  Consider pre-processing your data with StandardScaler or MinMaxScaler.\n",
      "  warnings.warn(\n",
      "/Users/zhouenze/opt/anaconda3/lib/python3.9/site-packages/sklearn/svm/_base.py:299: ConvergenceWarning: Solver terminated early (max_iter=50000).  Consider pre-processing your data with StandardScaler or MinMaxScaler.\n",
      "  warnings.warn(\n"
     ]
    },
    {
     "name": "stdout",
     "output_type": "stream",
     "text": [
      "[CV 1/5] END pca__n_components=0.95, svm__C=0.9898358850194187, svm__gamma=0.38235695689098037, svm__kernel=rbf;, score=0.331 total time= 3.3min\n",
      "[CV 3/5] END pca__n_components=0.95, svm__C=0.9898358850194187, svm__gamma=0.38235695689098037, svm__kernel=rbf;, score=0.327 total time= 3.4min\n",
      "[CV 2/5] END pca__n_components=0.95, svm__C=0.9898358850194187, svm__gamma=0.38235695689098037, svm__kernel=rbf;, score=0.324 total time= 3.4min\n",
      "[CV 4/5] END pca__n_components=0.95, svm__C=0.9898358850194187, svm__gamma=0.38235695689098037, svm__kernel=rbf;, score=0.341 total time= 3.4min\n",
      "[CV 5/5] END pca__n_components=0.95, svm__C=0.9898358850194187, svm__gamma=0.38235695689098037, svm__kernel=rbf;, score=0.328 total time= 3.4min\n",
      "[CV 1/5] END pca__n_components=0.95, svm__C=0.2832254923697065, svm__gamma=scale, svm__kernel=rbf;, score=0.339 total time= 3.4min\n",
      "[CV 2/5] END pca__n_components=0.95, svm__C=0.2832254923697065, svm__gamma=scale, svm__kernel=rbf;, score=0.340 total time= 3.4min\n",
      "[CV 3/5] END pca__n_components=0.95, svm__C=0.2832254923697065, svm__gamma=scale, svm__kernel=rbf;, score=0.341 total time= 3.4min\n"
     ]
    },
    {
     "name": "stderr",
     "output_type": "stream",
     "text": [
      "/Users/zhouenze/opt/anaconda3/lib/python3.9/site-packages/sklearn/svm/_base.py:299: ConvergenceWarning: Solver terminated early (max_iter=50000).  Consider pre-processing your data with StandardScaler or MinMaxScaler.\n",
      "  warnings.warn(\n",
      "/Users/zhouenze/opt/anaconda3/lib/python3.9/site-packages/sklearn/svm/_base.py:299: ConvergenceWarning: Solver terminated early (max_iter=50000).  Consider pre-processing your data with StandardScaler or MinMaxScaler.\n",
      "  warnings.warn(\n",
      "/Users/zhouenze/opt/anaconda3/lib/python3.9/site-packages/sklearn/svm/_base.py:299: ConvergenceWarning: Solver terminated early (max_iter=50000).  Consider pre-processing your data with StandardScaler or MinMaxScaler.\n",
      "  warnings.warn(\n",
      "/Users/zhouenze/opt/anaconda3/lib/python3.9/site-packages/sklearn/svm/_base.py:299: ConvergenceWarning: Solver terminated early (max_iter=50000).  Consider pre-processing your data with StandardScaler or MinMaxScaler.\n",
      "  warnings.warn(\n",
      "/Users/zhouenze/opt/anaconda3/lib/python3.9/site-packages/sklearn/svm/_base.py:299: ConvergenceWarning: Solver terminated early (max_iter=50000).  Consider pre-processing your data with StandardScaler or MinMaxScaler.\n",
      "  warnings.warn(\n",
      "/Users/zhouenze/opt/anaconda3/lib/python3.9/site-packages/sklearn/svm/_base.py:299: ConvergenceWarning: Solver terminated early (max_iter=50000).  Consider pre-processing your data with StandardScaler or MinMaxScaler.\n",
      "  warnings.warn(\n",
      "/Users/zhouenze/opt/anaconda3/lib/python3.9/site-packages/sklearn/svm/_base.py:299: ConvergenceWarning: Solver terminated early (max_iter=50000).  Consider pre-processing your data with StandardScaler or MinMaxScaler.\n",
      "  warnings.warn(\n",
      "/Users/zhouenze/opt/anaconda3/lib/python3.9/site-packages/sklearn/svm/_base.py:299: ConvergenceWarning: Solver terminated early (max_iter=50000).  Consider pre-processing your data with StandardScaler or MinMaxScaler.\n",
      "  warnings.warn(\n"
     ]
    },
    {
     "name": "stdout",
     "output_type": "stream",
     "text": [
      "[CV 1/5] END pca__n_components=0.9, svm__C=0.02899665673477955, svm__gamma=scale, svm__kernel=rbf;, score=0.249 total time= 3.3min\n",
      "[CV 4/5] END pca__n_components=0.95, svm__C=0.2832254923697065, svm__gamma=scale, svm__kernel=rbf;, score=0.345 total time= 3.4min\n",
      "[CV 2/5] END pca__n_components=0.9, svm__C=0.02899665673477955, svm__gamma=scale, svm__kernel=rbf;, score=0.266 total time= 3.3min\n",
      "[CV 5/5] END pca__n_components=0.95, svm__C=0.2832254923697065, svm__gamma=scale, svm__kernel=rbf;, score=0.344 total time= 3.4min\n",
      "[CV 3/5] END pca__n_components=0.9, svm__C=0.02899665673477955, svm__gamma=scale, svm__kernel=rbf;, score=0.284 total time= 3.3min\n",
      "[CV 4/5] END pca__n_components=0.9, svm__C=0.02899665673477955, svm__gamma=scale, svm__kernel=rbf;, score=0.269 total time= 3.3min\n",
      "[CV 1/5] END pca__n_components=0.85, svm__C=4.871006211816912, svm__gamma=scale, svm__kernel=rbf;, score=0.333 total time= 3.2min\n",
      "[CV 5/5] END pca__n_components=0.9, svm__C=0.02899665673477955, svm__gamma=scale, svm__kernel=rbf;, score=0.254 total time= 3.3min\n"
     ]
    },
    {
     "name": "stderr",
     "output_type": "stream",
     "text": [
      "/Users/zhouenze/opt/anaconda3/lib/python3.9/site-packages/sklearn/svm/_base.py:299: ConvergenceWarning: Solver terminated early (max_iter=50000).  Consider pre-processing your data with StandardScaler or MinMaxScaler.\n",
      "  warnings.warn(\n",
      "/Users/zhouenze/opt/anaconda3/lib/python3.9/site-packages/sklearn/svm/_base.py:299: ConvergenceWarning: Solver terminated early (max_iter=50000).  Consider pre-processing your data with StandardScaler or MinMaxScaler.\n",
      "  warnings.warn(\n",
      "/Users/zhouenze/opt/anaconda3/lib/python3.9/site-packages/sklearn/svm/_base.py:299: ConvergenceWarning: Solver terminated early (max_iter=50000).  Consider pre-processing your data with StandardScaler or MinMaxScaler.\n",
      "  warnings.warn(\n",
      "/Users/zhouenze/opt/anaconda3/lib/python3.9/site-packages/sklearn/svm/_base.py:299: ConvergenceWarning: Solver terminated early (max_iter=50000).  Consider pre-processing your data with StandardScaler or MinMaxScaler.\n",
      "  warnings.warn(\n",
      "/Users/zhouenze/opt/anaconda3/lib/python3.9/site-packages/sklearn/svm/_base.py:299: ConvergenceWarning: Solver terminated early (max_iter=50000).  Consider pre-processing your data with StandardScaler or MinMaxScaler.\n",
      "  warnings.warn(\n",
      "/Users/zhouenze/opt/anaconda3/lib/python3.9/site-packages/sklearn/svm/_base.py:299: ConvergenceWarning: Solver terminated early (max_iter=50000).  Consider pre-processing your data with StandardScaler or MinMaxScaler.\n",
      "  warnings.warn(\n",
      "/Users/zhouenze/opt/anaconda3/lib/python3.9/site-packages/sklearn/svm/_base.py:299: ConvergenceWarning: Solver terminated early (max_iter=50000).  Consider pre-processing your data with StandardScaler or MinMaxScaler.\n",
      "  warnings.warn(\n",
      "/Users/zhouenze/opt/anaconda3/lib/python3.9/site-packages/sklearn/svm/_base.py:299: ConvergenceWarning: Solver terminated early (max_iter=50000).  Consider pre-processing your data with StandardScaler or MinMaxScaler.\n",
      "  warnings.warn(\n"
     ]
    },
    {
     "name": "stdout",
     "output_type": "stream",
     "text": [
      "[CV 2/5] END pca__n_components=0.85, svm__C=4.871006211816912, svm__gamma=scale, svm__kernel=rbf;, score=0.335 total time= 3.2min\n",
      "[CV 3/5] END pca__n_components=0.85, svm__C=4.871006211816912, svm__gamma=scale, svm__kernel=rbf;, score=0.331 total time= 3.2min\n",
      "[CV 5/5] END pca__n_components=0.85, svm__C=4.871006211816912, svm__gamma=scale, svm__kernel=rbf;, score=0.330 total time= 3.2min\n",
      "[CV 4/5] END pca__n_components=0.85, svm__C=4.871006211816912, svm__gamma=scale, svm__kernel=rbf;, score=0.343 total time= 3.3min\n",
      "[CV 1/5] END pca__n_components=0.85, svm__C=0.36582368300163093, svm__gamma=0.13795079573858057, svm__kernel=rbf;, score=0.335 total time= 3.2min\n",
      "[CV 2/5] END pca__n_components=0.85, svm__C=0.36582368300163093, svm__gamma=0.13795079573858057, svm__kernel=rbf;, score=0.338 total time= 3.2min\n",
      "[CV 3/5] END pca__n_components=0.85, svm__C=0.36582368300163093, svm__gamma=0.13795079573858057, svm__kernel=rbf;, score=0.332 total time= 3.2min\n",
      "[CV 4/5] END pca__n_components=0.85, svm__C=0.36582368300163093, svm__gamma=0.13795079573858057, svm__kernel=rbf;, score=0.346 total time= 3.2min\n"
     ]
    },
    {
     "name": "stderr",
     "output_type": "stream",
     "text": [
      "/Users/zhouenze/opt/anaconda3/lib/python3.9/site-packages/sklearn/svm/_base.py:299: ConvergenceWarning: Solver terminated early (max_iter=50000).  Consider pre-processing your data with StandardScaler or MinMaxScaler.\n",
      "  warnings.warn(\n",
      "/Users/zhouenze/opt/anaconda3/lib/python3.9/site-packages/sklearn/svm/_base.py:299: ConvergenceWarning: Solver terminated early (max_iter=50000).  Consider pre-processing your data with StandardScaler or MinMaxScaler.\n",
      "  warnings.warn(\n",
      "/Users/zhouenze/opt/anaconda3/lib/python3.9/site-packages/sklearn/svm/_base.py:299: ConvergenceWarning: Solver terminated early (max_iter=50000).  Consider pre-processing your data with StandardScaler or MinMaxScaler.\n",
      "  warnings.warn(\n",
      "/Users/zhouenze/opt/anaconda3/lib/python3.9/site-packages/sklearn/svm/_base.py:299: ConvergenceWarning: Solver terminated early (max_iter=50000).  Consider pre-processing your data with StandardScaler or MinMaxScaler.\n",
      "  warnings.warn(\n",
      "/Users/zhouenze/opt/anaconda3/lib/python3.9/site-packages/sklearn/svm/_base.py:299: ConvergenceWarning: Solver terminated early (max_iter=50000).  Consider pre-processing your data with StandardScaler or MinMaxScaler.\n",
      "  warnings.warn(\n",
      "/Users/zhouenze/opt/anaconda3/lib/python3.9/site-packages/sklearn/svm/_base.py:299: ConvergenceWarning: Solver terminated early (max_iter=50000).  Consider pre-processing your data with StandardScaler or MinMaxScaler.\n",
      "  warnings.warn(\n",
      "/Users/zhouenze/opt/anaconda3/lib/python3.9/site-packages/sklearn/svm/_base.py:299: ConvergenceWarning: Solver terminated early (max_iter=50000).  Consider pre-processing your data with StandardScaler or MinMaxScaler.\n",
      "  warnings.warn(\n",
      "/Users/zhouenze/opt/anaconda3/lib/python3.9/site-packages/sklearn/svm/_base.py:299: ConvergenceWarning: Solver terminated early (max_iter=50000).  Consider pre-processing your data with StandardScaler or MinMaxScaler.\n",
      "  warnings.warn(\n"
     ]
    },
    {
     "name": "stdout",
     "output_type": "stream",
     "text": [
      "[CV 5/5] END pca__n_components=0.85, svm__C=0.36582368300163093, svm__gamma=0.13795079573858057, svm__kernel=rbf;, score=0.345 total time= 3.2min\n",
      "[CV 1/5] END pca__n_components=0.9, svm__C=0.0887896548776321, svm__gamma=scale, svm__kernel=rbf;, score=0.308 total time= 3.3min\n",
      "[CV 3/5] END pca__n_components=0.9, svm__C=0.0887896548776321, svm__gamma=scale, svm__kernel=rbf;, score=0.308 total time= 3.3min\n",
      "[CV 1/5] END pca__n_components=0.8, svm__C=0.04326284392758757, svm__gamma=0.3807440596403437, svm__kernel=rbf;, score=0.303 total time= 3.2min\n",
      "[CV 2/5] END pca__n_components=0.9, svm__C=0.0887896548776321, svm__gamma=scale, svm__kernel=rbf;, score=0.322 total time= 3.3min\n",
      "[CV 4/5] END pca__n_components=0.9, svm__C=0.0887896548776321, svm__gamma=scale, svm__kernel=rbf;, score=0.320 total time= 3.3min\n",
      "[CV 5/5] END pca__n_components=0.9, svm__C=0.0887896548776321, svm__gamma=scale, svm__kernel=rbf;, score=0.308 total time= 3.3min\n",
      "[CV 2/5] END pca__n_components=0.8, svm__C=0.04326284392758757, svm__gamma=0.3807440596403437, svm__kernel=rbf;, score=0.305 total time= 3.2min\n"
     ]
    },
    {
     "name": "stderr",
     "output_type": "stream",
     "text": [
      "/Users/zhouenze/opt/anaconda3/lib/python3.9/site-packages/sklearn/svm/_base.py:299: ConvergenceWarning: Solver terminated early (max_iter=50000).  Consider pre-processing your data with StandardScaler or MinMaxScaler.\n",
      "  warnings.warn(\n",
      "/Users/zhouenze/opt/anaconda3/lib/python3.9/site-packages/sklearn/svm/_base.py:299: ConvergenceWarning: Solver terminated early (max_iter=50000).  Consider pre-processing your data with StandardScaler or MinMaxScaler.\n",
      "  warnings.warn(\n",
      "/Users/zhouenze/opt/anaconda3/lib/python3.9/site-packages/sklearn/svm/_base.py:299: ConvergenceWarning: Solver terminated early (max_iter=50000).  Consider pre-processing your data with StandardScaler or MinMaxScaler.\n",
      "  warnings.warn(\n",
      "/Users/zhouenze/opt/anaconda3/lib/python3.9/site-packages/sklearn/svm/_base.py:299: ConvergenceWarning: Solver terminated early (max_iter=50000).  Consider pre-processing your data with StandardScaler or MinMaxScaler.\n",
      "  warnings.warn(\n",
      "/Users/zhouenze/opt/anaconda3/lib/python3.9/site-packages/sklearn/svm/_base.py:299: ConvergenceWarning: Solver terminated early (max_iter=50000).  Consider pre-processing your data with StandardScaler or MinMaxScaler.\n",
      "  warnings.warn(\n",
      "/Users/zhouenze/opt/anaconda3/lib/python3.9/site-packages/sklearn/svm/_base.py:299: ConvergenceWarning: Solver terminated early (max_iter=50000).  Consider pre-processing your data with StandardScaler or MinMaxScaler.\n",
      "  warnings.warn(\n",
      "/Users/zhouenze/opt/anaconda3/lib/python3.9/site-packages/sklearn/svm/_base.py:299: ConvergenceWarning: Solver terminated early (max_iter=50000).  Consider pre-processing your data with StandardScaler or MinMaxScaler.\n",
      "  warnings.warn(\n",
      "/Users/zhouenze/opt/anaconda3/lib/python3.9/site-packages/sklearn/svm/_base.py:299: ConvergenceWarning: Solver terminated early (max_iter=50000).  Consider pre-processing your data with StandardScaler or MinMaxScaler.\n",
      "  warnings.warn(\n"
     ]
    },
    {
     "name": "stdout",
     "output_type": "stream",
     "text": [
      "[CV 3/5] END pca__n_components=0.8, svm__C=0.04326284392758757, svm__gamma=0.3807440596403437, svm__kernel=rbf;, score=0.308 total time= 3.2min\n",
      "[CV 4/5] END pca__n_components=0.8, svm__C=0.04326284392758757, svm__gamma=0.3807440596403437, svm__kernel=rbf;, score=0.320 total time= 3.2min\n",
      "[CV 5/5] END pca__n_components=0.8, svm__C=0.04326284392758757, svm__gamma=0.3807440596403437, svm__kernel=rbf;, score=0.299 total time= 3.2min\n",
      "[CV 3/5] END pca__n_components=0.85, svm__C=1.001937818764558, svm__gamma=scale, svm__kernel=rbf;, score=0.333 total time= 3.2min\n",
      "[CV 1/5] END pca__n_components=0.85, svm__C=1.001937818764558, svm__gamma=scale, svm__kernel=rbf;, score=0.333 total time= 3.3min\n",
      "[CV 2/5] END pca__n_components=0.85, svm__C=1.001937818764558, svm__gamma=scale, svm__kernel=rbf;, score=0.336 total time= 3.3min\n",
      "[CV 4/5] END pca__n_components=0.85, svm__C=1.001937818764558, svm__gamma=scale, svm__kernel=rbf;, score=0.346 total time= 3.2min\n",
      "[CV 5/5] END pca__n_components=0.85, svm__C=1.001937818764558, svm__gamma=scale, svm__kernel=rbf;, score=0.345 total time= 3.2min\n"
     ]
    },
    {
     "name": "stderr",
     "output_type": "stream",
     "text": [
      "/Users/zhouenze/opt/anaconda3/lib/python3.9/site-packages/sklearn/svm/_base.py:299: ConvergenceWarning: Solver terminated early (max_iter=50000).  Consider pre-processing your data with StandardScaler or MinMaxScaler.\n",
      "  warnings.warn(\n",
      "/Users/zhouenze/opt/anaconda3/lib/python3.9/site-packages/sklearn/svm/_base.py:299: ConvergenceWarning: Solver terminated early (max_iter=50000).  Consider pre-processing your data with StandardScaler or MinMaxScaler.\n",
      "  warnings.warn(\n",
      "/Users/zhouenze/opt/anaconda3/lib/python3.9/site-packages/sklearn/svm/_base.py:299: ConvergenceWarning: Solver terminated early (max_iter=50000).  Consider pre-processing your data with StandardScaler or MinMaxScaler.\n",
      "  warnings.warn(\n",
      "/Users/zhouenze/opt/anaconda3/lib/python3.9/site-packages/sklearn/svm/_base.py:299: ConvergenceWarning: Solver terminated early (max_iter=50000).  Consider pre-processing your data with StandardScaler or MinMaxScaler.\n",
      "  warnings.warn(\n",
      "/Users/zhouenze/opt/anaconda3/lib/python3.9/site-packages/sklearn/svm/_base.py:299: ConvergenceWarning: Solver terminated early (max_iter=50000).  Consider pre-processing your data with StandardScaler or MinMaxScaler.\n",
      "  warnings.warn(\n",
      "/Users/zhouenze/opt/anaconda3/lib/python3.9/site-packages/sklearn/svm/_base.py:299: ConvergenceWarning: Solver terminated early (max_iter=50000).  Consider pre-processing your data with StandardScaler or MinMaxScaler.\n",
      "  warnings.warn(\n",
      "/Users/zhouenze/opt/anaconda3/lib/python3.9/site-packages/sklearn/svm/_base.py:299: ConvergenceWarning: Solver terminated early (max_iter=50000).  Consider pre-processing your data with StandardScaler or MinMaxScaler.\n",
      "  warnings.warn(\n",
      "/Users/zhouenze/opt/anaconda3/lib/python3.9/site-packages/sklearn/svm/_base.py:299: ConvergenceWarning: Solver terminated early (max_iter=50000).  Consider pre-processing your data with StandardScaler or MinMaxScaler.\n",
      "  warnings.warn(\n"
     ]
    },
    {
     "name": "stdout",
     "output_type": "stream",
     "text": [
      "[CV 1/5] END pca__n_components=0.8, svm__C=0.2113696396263812, svm__gamma=0.425919070826795, svm__kernel=rbf;, score=0.332 total time= 3.1min\n",
      "[CV 2/5] END pca__n_components=0.8, svm__C=0.2113696396263812, svm__gamma=0.425919070826795, svm__kernel=rbf;, score=0.332 total time= 3.1min\n",
      "[CV 3/5] END pca__n_components=0.8, svm__C=0.2113696396263812, svm__gamma=0.425919070826795, svm__kernel=rbf;, score=0.330 total time= 3.1min\n",
      "[CV 4/5] END pca__n_components=0.8, svm__C=0.2113696396263812, svm__gamma=0.425919070826795, svm__kernel=rbf;, score=0.337 total time= 3.1min\n",
      "[CV 5/5] END pca__n_components=0.8, svm__C=0.2113696396263812, svm__gamma=0.425919070826795, svm__kernel=rbf;, score=0.340 total time= 3.1min\n",
      "[CV 1/5] END pca__n_components=0.99, svm__C=0.02625757511324587, svm__gamma=1.2787237730818237, svm__kernel=rbf;, score=0.139 total time= 3.4min\n",
      "[CV 2/5] END pca__n_components=0.99, svm__C=0.02625757511324587, svm__gamma=1.2787237730818237, svm__kernel=rbf;, score=0.136 total time= 3.4min\n",
      "[CV 3/5] END pca__n_components=0.99, svm__C=0.02625757511324587, svm__gamma=1.2787237730818237, svm__kernel=rbf;, score=0.204 total time= 3.4min\n"
     ]
    },
    {
     "name": "stderr",
     "output_type": "stream",
     "text": [
      "/Users/zhouenze/opt/anaconda3/lib/python3.9/site-packages/sklearn/svm/_base.py:299: ConvergenceWarning: Solver terminated early (max_iter=50000).  Consider pre-processing your data with StandardScaler or MinMaxScaler.\n",
      "  warnings.warn(\n",
      "/Users/zhouenze/opt/anaconda3/lib/python3.9/site-packages/sklearn/svm/_base.py:299: ConvergenceWarning: Solver terminated early (max_iter=50000).  Consider pre-processing your data with StandardScaler or MinMaxScaler.\n",
      "  warnings.warn(\n",
      "/Users/zhouenze/opt/anaconda3/lib/python3.9/site-packages/sklearn/svm/_base.py:299: ConvergenceWarning: Solver terminated early (max_iter=50000).  Consider pre-processing your data with StandardScaler or MinMaxScaler.\n",
      "  warnings.warn(\n",
      "/Users/zhouenze/opt/anaconda3/lib/python3.9/site-packages/sklearn/svm/_base.py:299: ConvergenceWarning: Solver terminated early (max_iter=50000).  Consider pre-processing your data with StandardScaler or MinMaxScaler.\n",
      "  warnings.warn(\n",
      "/Users/zhouenze/opt/anaconda3/lib/python3.9/site-packages/sklearn/svm/_base.py:299: ConvergenceWarning: Solver terminated early (max_iter=50000).  Consider pre-processing your data with StandardScaler or MinMaxScaler.\n",
      "  warnings.warn(\n",
      "/Users/zhouenze/opt/anaconda3/lib/python3.9/site-packages/sklearn/svm/_base.py:299: ConvergenceWarning: Solver terminated early (max_iter=50000).  Consider pre-processing your data with StandardScaler or MinMaxScaler.\n",
      "  warnings.warn(\n"
     ]
    },
    {
     "name": "stdout",
     "output_type": "stream",
     "text": [
      "[CV 4/5] END pca__n_components=0.99, svm__C=0.02625757511324587, svm__gamma=1.2787237730818237, svm__kernel=rbf;, score=0.137 total time= 3.3min\n",
      "[CV 5/5] END pca__n_components=0.99, svm__C=0.02625757511324587, svm__gamma=1.2787237730818237, svm__kernel=rbf;, score=0.194 total time= 3.3min\n"
     ]
    },
    {
     "name": "stderr",
     "output_type": "stream",
     "text": [
      "/Users/zhouenze/opt/anaconda3/lib/python3.9/site-packages/sklearn/svm/_base.py:299: ConvergenceWarning: Solver terminated early (max_iter=50000).  Consider pre-processing your data with StandardScaler or MinMaxScaler.\n",
      "  warnings.warn(\n",
      "/Users/zhouenze/opt/anaconda3/lib/python3.9/site-packages/sklearn/svm/_base.py:299: ConvergenceWarning: Solver terminated early (max_iter=50000).  Consider pre-processing your data with StandardScaler or MinMaxScaler.\n",
      "  warnings.warn(\n"
     ]
    },
    {
     "name": "stdout",
     "output_type": "stream",
     "text": [
      "[CV 1/5] END pca__n_components=0.99, svm__C=0.09229690564683946, svm__gamma=scale, svm__kernel=rbf;, score=0.314 total time= 3.2min\n",
      "[CV 1/5] END pca__n_components=0.95, svm__C=80.54718451832153, svm__gamma=0.25304110170888494, svm__kernel=rbf;, score=0.247 total time= 3.6min\n",
      "[CV 3/5] END pca__n_components=0.95, svm__C=80.54718451832153, svm__gamma=0.25304110170888494, svm__kernel=rbf;, score=0.155 total time= 3.6min\n",
      "[CV 2/5] END pca__n_components=0.95, svm__C=80.54718451832153, svm__gamma=0.25304110170888494, svm__kernel=rbf;, score=0.161 total time= 3.6min\n",
      "[CV 5/5] END pca__n_components=0.95, svm__C=80.54718451832153, svm__gamma=0.25304110170888494, svm__kernel=rbf;, score=0.200 total time= 3.6min\n",
      "[CV 4/5] END pca__n_components=0.95, svm__C=80.54718451832153, svm__gamma=0.25304110170888494, svm__kernel=rbf;, score=0.277 total time= 3.6min\n"
     ]
    },
    {
     "name": "stderr",
     "output_type": "stream",
     "text": [
      "/Users/zhouenze/opt/anaconda3/lib/python3.9/site-packages/sklearn/svm/_base.py:299: ConvergenceWarning: Solver terminated early (max_iter=50000).  Consider pre-processing your data with StandardScaler or MinMaxScaler.\n",
      "  warnings.warn(\n",
      "/Users/zhouenze/opt/anaconda3/lib/python3.9/site-packages/sklearn/svm/_base.py:299: ConvergenceWarning: Solver terminated early (max_iter=50000).  Consider pre-processing your data with StandardScaler or MinMaxScaler.\n",
      "  warnings.warn(\n",
      "/Users/zhouenze/opt/anaconda3/lib/python3.9/site-packages/sklearn/svm/_base.py:299: ConvergenceWarning: Solver terminated early (max_iter=50000).  Consider pre-processing your data with StandardScaler or MinMaxScaler.\n",
      "  warnings.warn(\n",
      "/Users/zhouenze/opt/anaconda3/lib/python3.9/site-packages/sklearn/svm/_base.py:299: ConvergenceWarning: Solver terminated early (max_iter=50000).  Consider pre-processing your data with StandardScaler or MinMaxScaler.\n",
      "  warnings.warn(\n",
      "/Users/zhouenze/opt/anaconda3/lib/python3.9/site-packages/sklearn/svm/_base.py:299: ConvergenceWarning: Solver terminated early (max_iter=50000).  Consider pre-processing your data with StandardScaler or MinMaxScaler.\n",
      "  warnings.warn(\n",
      "/Users/zhouenze/opt/anaconda3/lib/python3.9/site-packages/sklearn/svm/_base.py:299: ConvergenceWarning: Solver terminated early (max_iter=50000).  Consider pre-processing your data with StandardScaler or MinMaxScaler.\n",
      "  warnings.warn(\n"
     ]
    },
    {
     "name": "stdout",
     "output_type": "stream",
     "text": [
      "[CV 2/5] END pca__n_components=0.99, svm__C=0.09229690564683946, svm__gamma=scale, svm__kernel=rbf;, score=0.313 total time= 3.2min\n"
     ]
    },
    {
     "name": "stderr",
     "output_type": "stream",
     "text": [
      "/Users/zhouenze/opt/anaconda3/lib/python3.9/site-packages/sklearn/svm/_base.py:299: ConvergenceWarning: Solver terminated early (max_iter=50000).  Consider pre-processing your data with StandardScaler or MinMaxScaler.\n",
      "  warnings.warn(\n",
      "/Users/zhouenze/opt/anaconda3/lib/python3.9/site-packages/sklearn/svm/_base.py:299: ConvergenceWarning: Solver terminated early (max_iter=50000).  Consider pre-processing your data with StandardScaler or MinMaxScaler.\n",
      "  warnings.warn(\n"
     ]
    },
    {
     "name": "stdout",
     "output_type": "stream",
     "text": [
      "[CV 3/5] END pca__n_components=0.99, svm__C=0.09229690564683946, svm__gamma=scale, svm__kernel=rbf;, score=0.317 total time= 3.2min\n",
      "[CV 4/5] END pca__n_components=0.99, svm__C=0.09229690564683946, svm__gamma=scale, svm__kernel=rbf;, score=0.322 total time= 3.2min\n",
      "[CV 5/5] END pca__n_components=0.99, svm__C=0.09229690564683946, svm__gamma=scale, svm__kernel=rbf;, score=0.312 total time= 3.2min\n",
      "[CV 1/5] END pca__n_components=0.8, svm__C=54.31337190648749, svm__gamma=0.1037954578030824, svm__kernel=rbf;, score=0.249 total time= 3.2min\n",
      "[CV 2/5] END pca__n_components=0.8, svm__C=54.31337190648749, svm__gamma=0.1037954578030824, svm__kernel=rbf;, score=0.248 total time= 3.2min\n",
      "[CV 3/5] END pca__n_components=0.8, svm__C=54.31337190648749, svm__gamma=0.1037954578030824, svm__kernel=rbf;, score=0.275 total time= 3.2min\n",
      "[CV 4/5] END pca__n_components=0.8, svm__C=54.31337190648749, svm__gamma=0.1037954578030824, svm__kernel=rbf;, score=0.195 total time= 3.2min\n"
     ]
    },
    {
     "name": "stderr",
     "output_type": "stream",
     "text": [
      "/Users/zhouenze/opt/anaconda3/lib/python3.9/site-packages/sklearn/svm/_base.py:299: ConvergenceWarning: Solver terminated early (max_iter=50000).  Consider pre-processing your data with StandardScaler or MinMaxScaler.\n",
      "  warnings.warn(\n",
      "/Users/zhouenze/opt/anaconda3/lib/python3.9/site-packages/sklearn/svm/_base.py:299: ConvergenceWarning: Solver terminated early (max_iter=50000).  Consider pre-processing your data with StandardScaler or MinMaxScaler.\n",
      "  warnings.warn(\n",
      "/Users/zhouenze/opt/anaconda3/lib/python3.9/site-packages/sklearn/svm/_base.py:299: ConvergenceWarning: Solver terminated early (max_iter=50000).  Consider pre-processing your data with StandardScaler or MinMaxScaler.\n",
      "  warnings.warn(\n",
      "/Users/zhouenze/opt/anaconda3/lib/python3.9/site-packages/sklearn/svm/_base.py:299: ConvergenceWarning: Solver terminated early (max_iter=50000).  Consider pre-processing your data with StandardScaler or MinMaxScaler.\n",
      "  warnings.warn(\n",
      "/Users/zhouenze/opt/anaconda3/lib/python3.9/site-packages/sklearn/svm/_base.py:299: ConvergenceWarning: Solver terminated early (max_iter=50000).  Consider pre-processing your data with StandardScaler or MinMaxScaler.\n",
      "  warnings.warn(\n",
      "/Users/zhouenze/opt/anaconda3/lib/python3.9/site-packages/sklearn/svm/_base.py:299: ConvergenceWarning: Solver terminated early (max_iter=50000).  Consider pre-processing your data with StandardScaler or MinMaxScaler.\n",
      "  warnings.warn(\n",
      "/Users/zhouenze/opt/anaconda3/lib/python3.9/site-packages/sklearn/svm/_base.py:299: ConvergenceWarning: Solver terminated early (max_iter=50000).  Consider pre-processing your data with StandardScaler or MinMaxScaler.\n",
      "  warnings.warn(\n",
      "/Users/zhouenze/opt/anaconda3/lib/python3.9/site-packages/sklearn/svm/_base.py:299: ConvergenceWarning: Solver terminated early (max_iter=50000).  Consider pre-processing your data with StandardScaler or MinMaxScaler.\n",
      "  warnings.warn(\n"
     ]
    },
    {
     "name": "stdout",
     "output_type": "stream",
     "text": [
      "[CV 5/5] END pca__n_components=0.8, svm__C=54.31337190648749, svm__gamma=0.1037954578030824, svm__kernel=rbf;, score=0.273 total time= 3.2min\n",
      "[CV 1/5] END pca__n_components=0.85, svm__C=27.27772843781288, svm__gamma=0.1587779569274156, svm__kernel=rbf;, score=0.254 total time= 3.1min\n",
      "[CV 3/5] END pca__n_components=0.85, svm__C=27.27772843781288, svm__gamma=0.1587779569274156, svm__kernel=rbf;, score=0.316 total time= 3.1min\n",
      "[CV 2/5] END pca__n_components=0.85, svm__C=27.27772843781288, svm__gamma=0.1587779569274156, svm__kernel=rbf;, score=0.317 total time= 3.1min\n",
      "[CV 4/5] END pca__n_components=0.85, svm__C=27.27772843781288, svm__gamma=0.1587779569274156, svm__kernel=rbf;, score=0.324 total time= 3.1min\n",
      "[CV 5/5] END pca__n_components=0.85, svm__C=27.27772843781288, svm__gamma=0.1587779569274156, svm__kernel=rbf;, score=0.327 total time= 3.1min\n",
      "[CV 1/5] END pca__n_components=0.9, svm__C=0.012694372416833341, svm__gamma=0.37121098657171464, svm__kernel=rbf;, score=0.126 total time= 3.1min\n",
      "[CV 2/5] END pca__n_components=0.9, svm__C=0.012694372416833341, svm__gamma=0.37121098657171464, svm__kernel=rbf;, score=0.126 total time= 3.1min\n"
     ]
    },
    {
     "name": "stderr",
     "output_type": "stream",
     "text": [
      "/Users/zhouenze/opt/anaconda3/lib/python3.9/site-packages/sklearn/svm/_base.py:299: ConvergenceWarning: Solver terminated early (max_iter=50000).  Consider pre-processing your data with StandardScaler or MinMaxScaler.\n",
      "  warnings.warn(\n",
      "/Users/zhouenze/opt/anaconda3/lib/python3.9/site-packages/sklearn/svm/_base.py:299: ConvergenceWarning: Solver terminated early (max_iter=50000).  Consider pre-processing your data with StandardScaler or MinMaxScaler.\n",
      "  warnings.warn(\n",
      "/Users/zhouenze/opt/anaconda3/lib/python3.9/site-packages/sklearn/svm/_base.py:299: ConvergenceWarning: Solver terminated early (max_iter=50000).  Consider pre-processing your data with StandardScaler or MinMaxScaler.\n",
      "  warnings.warn(\n",
      "/Users/zhouenze/opt/anaconda3/lib/python3.9/site-packages/sklearn/svm/_base.py:299: ConvergenceWarning: Solver terminated early (max_iter=50000).  Consider pre-processing your data with StandardScaler or MinMaxScaler.\n",
      "  warnings.warn(\n",
      "/Users/zhouenze/opt/anaconda3/lib/python3.9/site-packages/sklearn/svm/_base.py:299: ConvergenceWarning: Solver terminated early (max_iter=50000).  Consider pre-processing your data with StandardScaler or MinMaxScaler.\n",
      "  warnings.warn(\n",
      "/Users/zhouenze/opt/anaconda3/lib/python3.9/site-packages/sklearn/svm/_base.py:299: ConvergenceWarning: Solver terminated early (max_iter=50000).  Consider pre-processing your data with StandardScaler or MinMaxScaler.\n",
      "  warnings.warn(\n",
      "/Users/zhouenze/opt/anaconda3/lib/python3.9/site-packages/sklearn/svm/_base.py:299: ConvergenceWarning: Solver terminated early (max_iter=50000).  Consider pre-processing your data with StandardScaler or MinMaxScaler.\n",
      "  warnings.warn(\n",
      "/Users/zhouenze/opt/anaconda3/lib/python3.9/site-packages/sklearn/svm/_base.py:299: ConvergenceWarning: Solver terminated early (max_iter=50000).  Consider pre-processing your data with StandardScaler or MinMaxScaler.\n",
      "  warnings.warn(\n"
     ]
    },
    {
     "name": "stdout",
     "output_type": "stream",
     "text": [
      "[CV 4/5] END pca__n_components=0.9, svm__C=0.012694372416833341, svm__gamma=0.37121098657171464, svm__kernel=rbf;, score=0.126 total time= 3.2min\n",
      "[CV 3/5] END pca__n_components=0.9, svm__C=0.012694372416833341, svm__gamma=0.37121098657171464, svm__kernel=rbf;, score=0.143 total time= 3.2min\n",
      "[CV 1/5] END pca__n_components=0.8, svm__C=3.2980503183398286, svm__gamma=scale, svm__kernel=rbf;, score=0.335 total time= 3.1min\n",
      "[CV 2/5] END pca__n_components=0.8, svm__C=3.2980503183398286, svm__gamma=scale, svm__kernel=rbf;, score=0.332 total time= 3.1min\n",
      "[CV 5/5] END pca__n_components=0.9, svm__C=0.012694372416833341, svm__gamma=0.37121098657171464, svm__kernel=rbf;, score=0.159 total time= 3.2min\n",
      "[CV 3/5] END pca__n_components=0.8, svm__C=3.2980503183398286, svm__gamma=scale, svm__kernel=rbf;, score=0.330 total time= 3.1min\n",
      "[CV 4/5] END pca__n_components=0.8, svm__C=3.2980503183398286, svm__gamma=scale, svm__kernel=rbf;, score=0.346 total time= 3.1min\n",
      "[CV 5/5] END pca__n_components=0.8, svm__C=3.2980503183398286, svm__gamma=scale, svm__kernel=rbf;, score=0.337 total time= 3.1min\n"
     ]
    },
    {
     "name": "stderr",
     "output_type": "stream",
     "text": [
      "/Users/zhouenze/opt/anaconda3/lib/python3.9/site-packages/sklearn/svm/_base.py:299: ConvergenceWarning: Solver terminated early (max_iter=50000).  Consider pre-processing your data with StandardScaler or MinMaxScaler.\n",
      "  warnings.warn(\n",
      "/Users/zhouenze/opt/anaconda3/lib/python3.9/site-packages/sklearn/svm/_base.py:299: ConvergenceWarning: Solver terminated early (max_iter=50000).  Consider pre-processing your data with StandardScaler or MinMaxScaler.\n",
      "  warnings.warn(\n",
      "/Users/zhouenze/opt/anaconda3/lib/python3.9/site-packages/sklearn/svm/_base.py:299: ConvergenceWarning: Solver terminated early (max_iter=50000).  Consider pre-processing your data with StandardScaler or MinMaxScaler.\n",
      "  warnings.warn(\n",
      "/Users/zhouenze/opt/anaconda3/lib/python3.9/site-packages/sklearn/svm/_base.py:299: ConvergenceWarning: Solver terminated early (max_iter=50000).  Consider pre-processing your data with StandardScaler or MinMaxScaler.\n",
      "  warnings.warn(\n",
      "/Users/zhouenze/opt/anaconda3/lib/python3.9/site-packages/sklearn/svm/_base.py:299: ConvergenceWarning: Solver terminated early (max_iter=50000).  Consider pre-processing your data with StandardScaler or MinMaxScaler.\n",
      "  warnings.warn(\n",
      "/Users/zhouenze/opt/anaconda3/lib/python3.9/site-packages/sklearn/svm/_base.py:299: ConvergenceWarning: Solver terminated early (max_iter=50000).  Consider pre-processing your data with StandardScaler or MinMaxScaler.\n",
      "  warnings.warn(\n",
      "/Users/zhouenze/opt/anaconda3/lib/python3.9/site-packages/sklearn/svm/_base.py:299: ConvergenceWarning: Solver terminated early (max_iter=50000).  Consider pre-processing your data with StandardScaler or MinMaxScaler.\n",
      "  warnings.warn(\n",
      "/Users/zhouenze/opt/anaconda3/lib/python3.9/site-packages/sklearn/svm/_base.py:299: ConvergenceWarning: Solver terminated early (max_iter=50000).  Consider pre-processing your data with StandardScaler or MinMaxScaler.\n",
      "  warnings.warn(\n"
     ]
    },
    {
     "name": "stdout",
     "output_type": "stream",
     "text": [
      "[CV 1/5] END pca__n_components=0.85, svm__C=0.25378047365764755, svm__gamma=scale, svm__kernel=rbf;, score=0.334 total time= 3.0min\n",
      "[CV 2/5] END pca__n_components=0.85, svm__C=0.25378047365764755, svm__gamma=scale, svm__kernel=rbf;, score=0.334 total time= 3.0min\n",
      "[CV 3/5] END pca__n_components=0.85, svm__C=0.25378047365764755, svm__gamma=scale, svm__kernel=rbf;, score=0.334 total time= 3.1min\n",
      "[CV 4/5] END pca__n_components=0.85, svm__C=0.25378047365764755, svm__gamma=scale, svm__kernel=rbf;, score=0.339 total time= 3.0min\n",
      "[CV 5/5] END pca__n_components=0.85, svm__C=0.25378047365764755, svm__gamma=scale, svm__kernel=rbf;, score=0.340 total time= 3.0min\n",
      "[CV 1/5] END pca__n_components=0.85, svm__C=20.794396652002206, svm__gamma=scale, svm__kernel=rbf;, score=0.316 total time= 3.1min\n",
      "[CV 2/5] END pca__n_components=0.85, svm__C=20.794396652002206, svm__gamma=scale, svm__kernel=rbf;, score=0.330 total time= 3.1min\n",
      "[CV 3/5] END pca__n_components=0.85, svm__C=20.794396652002206, svm__gamma=scale, svm__kernel=rbf;, score=0.325 total time= 3.1min\n"
     ]
    },
    {
     "name": "stderr",
     "output_type": "stream",
     "text": [
      "/Users/zhouenze/opt/anaconda3/lib/python3.9/site-packages/sklearn/svm/_base.py:299: ConvergenceWarning: Solver terminated early (max_iter=50000).  Consider pre-processing your data with StandardScaler or MinMaxScaler.\n",
      "  warnings.warn(\n",
      "/Users/zhouenze/opt/anaconda3/lib/python3.9/site-packages/sklearn/svm/_base.py:299: ConvergenceWarning: Solver terminated early (max_iter=50000).  Consider pre-processing your data with StandardScaler or MinMaxScaler.\n",
      "  warnings.warn(\n",
      "/Users/zhouenze/opt/anaconda3/lib/python3.9/site-packages/sklearn/svm/_base.py:299: ConvergenceWarning: Solver terminated early (max_iter=50000).  Consider pre-processing your data with StandardScaler or MinMaxScaler.\n",
      "  warnings.warn(\n",
      "/Users/zhouenze/opt/anaconda3/lib/python3.9/site-packages/sklearn/svm/_base.py:299: ConvergenceWarning: Solver terminated early (max_iter=50000).  Consider pre-processing your data with StandardScaler or MinMaxScaler.\n",
      "  warnings.warn(\n",
      "/Users/zhouenze/opt/anaconda3/lib/python3.9/site-packages/sklearn/svm/_base.py:299: ConvergenceWarning: Solver terminated early (max_iter=50000).  Consider pre-processing your data with StandardScaler or MinMaxScaler.\n",
      "  warnings.warn(\n",
      "/Users/zhouenze/opt/anaconda3/lib/python3.9/site-packages/sklearn/svm/_base.py:299: ConvergenceWarning: Solver terminated early (max_iter=50000).  Consider pre-processing your data with StandardScaler or MinMaxScaler.\n",
      "  warnings.warn(\n"
     ]
    },
    {
     "name": "stdout",
     "output_type": "stream",
     "text": [
      "[CV 4/5] END pca__n_components=0.85, svm__C=20.794396652002206, svm__gamma=scale, svm__kernel=rbf;, score=0.339 total time= 3.1min\n",
      "[CV 5/5] END pca__n_components=0.85, svm__C=20.794396652002206, svm__gamma=scale, svm__kernel=rbf;, score=0.325 total time= 3.1min\n"
     ]
    },
    {
     "name": "stderr",
     "output_type": "stream",
     "text": [
      "/Users/zhouenze/opt/anaconda3/lib/python3.9/site-packages/sklearn/svm/_base.py:299: ConvergenceWarning: Solver terminated early (max_iter=50000).  Consider pre-processing your data with StandardScaler or MinMaxScaler.\n",
      "  warnings.warn(\n",
      "/Users/zhouenze/opt/anaconda3/lib/python3.9/site-packages/sklearn/svm/_base.py:299: ConvergenceWarning: Solver terminated early (max_iter=50000).  Consider pre-processing your data with StandardScaler or MinMaxScaler.\n",
      "  warnings.warn(\n"
     ]
    },
    {
     "name": "stdout",
     "output_type": "stream",
     "text": [
      "[CV 1/5] END pca__n_components=0.99, svm__C=8.681830923058568, svm__gamma=0.31678286376882503, svm__kernel=rbf;, score=0.322 total time= 3.2min\n",
      "[CV 3/5] END pca__n_components=0.99, svm__C=8.681830923058568, svm__gamma=0.31678286376882503, svm__kernel=rbf;, score=0.323 total time= 3.2min\n",
      "[CV 2/5] END pca__n_components=0.99, svm__C=8.681830923058568, svm__gamma=0.31678286376882503, svm__kernel=rbf;, score=0.314 total time= 3.2min\n",
      "[CV 4/5] END pca__n_components=0.99, svm__C=8.681830923058568, svm__gamma=0.31678286376882503, svm__kernel=rbf;, score=0.328 total time= 3.2min\n",
      "[CV 1/5] END pca__n_components=0.99, svm__C=2.309763644041746, svm__gamma=1.2326188089126284, svm__kernel=rbf;, score=0.313 total time= 3.1min\n",
      "[CV 5/5] END pca__n_components=0.99, svm__C=8.681830923058568, svm__gamma=0.31678286376882503, svm__kernel=rbf;, score=0.324 total time= 3.2min\n"
     ]
    },
    {
     "name": "stderr",
     "output_type": "stream",
     "text": [
      "/Users/zhouenze/opt/anaconda3/lib/python3.9/site-packages/sklearn/svm/_base.py:299: ConvergenceWarning: Solver terminated early (max_iter=50000).  Consider pre-processing your data with StandardScaler or MinMaxScaler.\n",
      "  warnings.warn(\n",
      "/Users/zhouenze/opt/anaconda3/lib/python3.9/site-packages/sklearn/svm/_base.py:299: ConvergenceWarning: Solver terminated early (max_iter=50000).  Consider pre-processing your data with StandardScaler or MinMaxScaler.\n",
      "  warnings.warn(\n",
      "/Users/zhouenze/opt/anaconda3/lib/python3.9/site-packages/sklearn/svm/_base.py:299: ConvergenceWarning: Solver terminated early (max_iter=50000).  Consider pre-processing your data with StandardScaler or MinMaxScaler.\n",
      "  warnings.warn(\n",
      "/Users/zhouenze/opt/anaconda3/lib/python3.9/site-packages/sklearn/svm/_base.py:299: ConvergenceWarning: Solver terminated early (max_iter=50000).  Consider pre-processing your data with StandardScaler or MinMaxScaler.\n",
      "  warnings.warn(\n"
     ]
    },
    {
     "name": "stdout",
     "output_type": "stream",
     "text": [
      "[CV 3/5] END pca__n_components=0.99, svm__C=2.309763644041746, svm__gamma=1.2326188089126284, svm__kernel=rbf;, score=0.313 total time= 3.1min\n"
     ]
    },
    {
     "name": "stderr",
     "output_type": "stream",
     "text": [
      "/Users/zhouenze/opt/anaconda3/lib/python3.9/site-packages/sklearn/svm/_base.py:299: ConvergenceWarning: Solver terminated early (max_iter=50000).  Consider pre-processing your data with StandardScaler or MinMaxScaler.\n",
      "  warnings.warn(\n"
     ]
    },
    {
     "name": "stdout",
     "output_type": "stream",
     "text": [
      "[CV 2/5] END pca__n_components=0.99, svm__C=2.309763644041746, svm__gamma=1.2326188089126284, svm__kernel=rbf;, score=0.310 total time= 3.4min\n",
      "[CV 4/5] END pca__n_components=0.99, svm__C=2.309763644041746, svm__gamma=1.2326188089126284, svm__kernel=rbf;, score=0.322 total time= 3.1min\n"
     ]
    },
    {
     "name": "stderr",
     "output_type": "stream",
     "text": [
      "/Users/zhouenze/opt/anaconda3/lib/python3.9/site-packages/sklearn/svm/_base.py:299: ConvergenceWarning: Solver terminated early (max_iter=50000).  Consider pre-processing your data with StandardScaler or MinMaxScaler.\n",
      "  warnings.warn(\n"
     ]
    },
    {
     "name": "stdout",
     "output_type": "stream",
     "text": [
      "[CV 5/5] END pca__n_components=0.99, svm__C=2.309763644041746, svm__gamma=1.2326188089126284, svm__kernel=rbf;, score=0.312 total time= 3.1min\n"
     ]
    },
    {
     "name": "stderr",
     "output_type": "stream",
     "text": [
      "/Users/zhouenze/opt/anaconda3/lib/python3.9/site-packages/sklearn/svm/_base.py:299: ConvergenceWarning: Solver terminated early (max_iter=50000).  Consider pre-processing your data with StandardScaler or MinMaxScaler.\n",
      "  warnings.warn(\n",
      "/Users/zhouenze/opt/anaconda3/lib/python3.9/site-packages/sklearn/svm/_base.py:299: ConvergenceWarning: Solver terminated early (max_iter=50000).  Consider pre-processing your data with StandardScaler or MinMaxScaler.\n",
      "  warnings.warn(\n"
     ]
    },
    {
     "name": "stdout",
     "output_type": "stream",
     "text": [
      "[CV 1/5] END pca__n_components=0.9, svm__C=85.3681673049755, svm__gamma=0.3445267289951243, svm__kernel=rbf;, score=0.190 total time= 3.6min\n",
      "[CV 2/5] END pca__n_components=0.9, svm__C=85.3681673049755, svm__gamma=0.3445267289951243, svm__kernel=rbf;, score=0.183 total time= 3.6min\n",
      "[CV 3/5] END pca__n_components=0.9, svm__C=85.3681673049755, svm__gamma=0.3445267289951243, svm__kernel=rbf;, score=0.161 total time= 3.6min\n",
      "[CV 4/5] END pca__n_components=0.9, svm__C=85.3681673049755, svm__gamma=0.3445267289951243, svm__kernel=rbf;, score=0.198 total time= 3.6min\n"
     ]
    },
    {
     "name": "stderr",
     "output_type": "stream",
     "text": [
      "/Users/zhouenze/opt/anaconda3/lib/python3.9/site-packages/sklearn/svm/_base.py:299: ConvergenceWarning: Solver terminated early (max_iter=50000).  Consider pre-processing your data with StandardScaler or MinMaxScaler.\n",
      "  warnings.warn(\n",
      "/Users/zhouenze/opt/anaconda3/lib/python3.9/site-packages/sklearn/svm/_base.py:299: ConvergenceWarning: Solver terminated early (max_iter=50000).  Consider pre-processing your data with StandardScaler or MinMaxScaler.\n",
      "  warnings.warn(\n",
      "/Users/zhouenze/opt/anaconda3/lib/python3.9/site-packages/sklearn/svm/_base.py:299: ConvergenceWarning: Solver terminated early (max_iter=50000).  Consider pre-processing your data with StandardScaler or MinMaxScaler.\n",
      "  warnings.warn(\n",
      "/Users/zhouenze/opt/anaconda3/lib/python3.9/site-packages/sklearn/svm/_base.py:299: ConvergenceWarning: Solver terminated early (max_iter=50000).  Consider pre-processing your data with StandardScaler or MinMaxScaler.\n",
      "  warnings.warn(\n",
      "/Users/zhouenze/opt/anaconda3/lib/python3.9/site-packages/sklearn/svm/_base.py:299: ConvergenceWarning: Solver terminated early (max_iter=50000).  Consider pre-processing your data with StandardScaler or MinMaxScaler.\n",
      "  warnings.warn(\n",
      "/Users/zhouenze/opt/anaconda3/lib/python3.9/site-packages/sklearn/svm/_base.py:299: ConvergenceWarning: Solver terminated early (max_iter=50000).  Consider pre-processing your data with StandardScaler or MinMaxScaler.\n",
      "  warnings.warn(\n"
     ]
    },
    {
     "name": "stdout",
     "output_type": "stream",
     "text": [
      "[CV 5/5] END pca__n_components=0.9, svm__C=85.3681673049755, svm__gamma=0.3445267289951243, svm__kernel=rbf;, score=0.212 total time= 3.6min\n"
     ]
    },
    {
     "name": "stderr",
     "output_type": "stream",
     "text": [
      "/Users/zhouenze/opt/anaconda3/lib/python3.9/site-packages/sklearn/svm/_base.py:299: ConvergenceWarning: Solver terminated early (max_iter=50000).  Consider pre-processing your data with StandardScaler or MinMaxScaler.\n",
      "  warnings.warn(\n"
     ]
    },
    {
     "name": "stdout",
     "output_type": "stream",
     "text": [
      "[CV 1/5] END pca__n_components=0.85, svm__C=79.92229083035545, svm__gamma=scale, svm__kernel=rbf;, score=0.244 total time= 3.3min\n"
     ]
    },
    {
     "name": "stderr",
     "output_type": "stream",
     "text": [
      "/Users/zhouenze/opt/anaconda3/lib/python3.9/site-packages/sklearn/svm/_base.py:299: ConvergenceWarning: Solver terminated early (max_iter=50000).  Consider pre-processing your data with StandardScaler or MinMaxScaler.\n",
      "  warnings.warn(\n"
     ]
    },
    {
     "name": "stdout",
     "output_type": "stream",
     "text": [
      "[CV 2/5] END pca__n_components=0.85, svm__C=79.92229083035545, svm__gamma=scale, svm__kernel=rbf;, score=0.234 total time= 3.3min\n",
      "[CV 3/5] END pca__n_components=0.85, svm__C=79.92229083035545, svm__gamma=scale, svm__kernel=rbf;, score=0.224 total time= 3.3min\n",
      "[CV 4/5] END pca__n_components=0.85, svm__C=79.92229083035545, svm__gamma=scale, svm__kernel=rbf;, score=0.139 total time= 3.3min\n",
      "[CV 1/5] END pca__n_components=0.9, svm__C=0.010801552399729804, svm__gamma=scale, svm__kernel=rbf;, score=0.125 total time= 3.1min\n",
      "[CV 5/5] END pca__n_components=0.85, svm__C=79.92229083035545, svm__gamma=scale, svm__kernel=rbf;, score=0.171 total time= 3.3min\n",
      "[CV 2/5] END pca__n_components=0.9, svm__C=0.010801552399729804, svm__gamma=scale, svm__kernel=rbf;, score=0.125 total time= 3.1min\n"
     ]
    },
    {
     "name": "stderr",
     "output_type": "stream",
     "text": [
      "/Users/zhouenze/opt/anaconda3/lib/python3.9/site-packages/sklearn/svm/_base.py:299: ConvergenceWarning: Solver terminated early (max_iter=50000).  Consider pre-processing your data with StandardScaler or MinMaxScaler.\n",
      "  warnings.warn(\n",
      "/Users/zhouenze/opt/anaconda3/lib/python3.9/site-packages/sklearn/svm/_base.py:299: ConvergenceWarning: Solver terminated early (max_iter=50000).  Consider pre-processing your data with StandardScaler or MinMaxScaler.\n",
      "  warnings.warn(\n",
      "/Users/zhouenze/opt/anaconda3/lib/python3.9/site-packages/sklearn/svm/_base.py:299: ConvergenceWarning: Solver terminated early (max_iter=50000).  Consider pre-processing your data with StandardScaler or MinMaxScaler.\n",
      "  warnings.warn(\n",
      "/Users/zhouenze/opt/anaconda3/lib/python3.9/site-packages/sklearn/svm/_base.py:299: ConvergenceWarning: Solver terminated early (max_iter=50000).  Consider pre-processing your data with StandardScaler or MinMaxScaler.\n",
      "  warnings.warn(\n"
     ]
    },
    {
     "name": "stdout",
     "output_type": "stream",
     "text": [
      "[CV 3/5] END pca__n_components=0.9, svm__C=0.010801552399729804, svm__gamma=scale, svm__kernel=rbf;, score=0.125 total time= 3.4min\n",
      "[CV 4/5] END pca__n_components=0.9, svm__C=0.010801552399729804, svm__gamma=scale, svm__kernel=rbf;, score=0.125 total time= 3.4min\n",
      "[CV 5/5] END pca__n_components=0.9, svm__C=0.010801552399729804, svm__gamma=scale, svm__kernel=rbf;, score=0.125 total time= 3.4min\n"
     ]
    },
    {
     "name": "stderr",
     "output_type": "stream",
     "text": [
      "/Users/zhouenze/opt/anaconda3/lib/python3.9/site-packages/sklearn/svm/_base.py:299: ConvergenceWarning: Solver terminated early (max_iter=50000).  Consider pre-processing your data with StandardScaler or MinMaxScaler.\n",
      "  warnings.warn(\n",
      "/Users/zhouenze/opt/anaconda3/lib/python3.9/site-packages/sklearn/svm/_base.py:299: ConvergenceWarning: Solver terminated early (max_iter=50000).  Consider pre-processing your data with StandardScaler or MinMaxScaler.\n",
      "  warnings.warn(\n",
      "/Users/zhouenze/opt/anaconda3/lib/python3.9/site-packages/sklearn/svm/_base.py:299: ConvergenceWarning: Solver terminated early (max_iter=50000).  Consider pre-processing your data with StandardScaler or MinMaxScaler.\n",
      "  warnings.warn(\n",
      "/Users/zhouenze/opt/anaconda3/lib/python3.9/site-packages/sklearn/svm/_base.py:299: ConvergenceWarning: Solver terminated early (max_iter=50000).  Consider pre-processing your data with StandardScaler or MinMaxScaler.\n",
      "  warnings.warn(\n"
     ]
    },
    {
     "name": "stdout",
     "output_type": "stream",
     "text": [
      "[CV 1/5] END pca__n_components=0.95, svm__C=47.408932071532725, svm__gamma=scale, svm__kernel=rbf;, score=0.325 total time= 3.7min\n",
      "[CV 3/5] END pca__n_components=0.95, svm__C=47.408932071532725, svm__gamma=scale, svm__kernel=rbf;, score=0.218 total time= 3.7min\n",
      "[CV 2/5] END pca__n_components=0.95, svm__C=47.408932071532725, svm__gamma=scale, svm__kernel=rbf;, score=0.170 total time= 3.7min\n",
      "[CV 4/5] END pca__n_components=0.95, svm__C=47.408932071532725, svm__gamma=scale, svm__kernel=rbf;, score=0.303 total time= 3.7min\n",
      "[CV 5/5] END pca__n_components=0.95, svm__C=47.408932071532725, svm__gamma=scale, svm__kernel=rbf;, score=0.173 total time= 3.7min\n"
     ]
    },
    {
     "name": "stderr",
     "output_type": "stream",
     "text": [
      "/Users/zhouenze/opt/anaconda3/lib/python3.9/site-packages/sklearn/svm/_base.py:299: ConvergenceWarning: Solver terminated early (max_iter=50000).  Consider pre-processing your data with StandardScaler or MinMaxScaler.\n",
      "  warnings.warn(\n",
      "/Users/zhouenze/opt/anaconda3/lib/python3.9/site-packages/sklearn/svm/_base.py:299: ConvergenceWarning: Solver terminated early (max_iter=50000).  Consider pre-processing your data with StandardScaler or MinMaxScaler.\n",
      "  warnings.warn(\n",
      "/Users/zhouenze/opt/anaconda3/lib/python3.9/site-packages/sklearn/svm/_base.py:299: ConvergenceWarning: Solver terminated early (max_iter=50000).  Consider pre-processing your data with StandardScaler or MinMaxScaler.\n",
      "  warnings.warn(\n",
      "/Users/zhouenze/opt/anaconda3/lib/python3.9/site-packages/sklearn/svm/_base.py:299: ConvergenceWarning: Solver terminated early (max_iter=50000).  Consider pre-processing your data with StandardScaler or MinMaxScaler.\n",
      "  warnings.warn(\n"
     ]
    },
    {
     "name": "stdout",
     "output_type": "stream",
     "text": [
      "[CV 1/5] END pca__n_components=0.99, svm__C=2.010987382235814, svm__gamma=0.32188444596834653, svm__kernel=rbf;, score=0.329 total time= 3.3min\n",
      "[CV 2/5] END pca__n_components=0.99, svm__C=2.010987382235814, svm__gamma=0.32188444596834653, svm__kernel=rbf;, score=0.324 total time= 3.3min\n"
     ]
    },
    {
     "name": "stderr",
     "output_type": "stream",
     "text": [
      "/Users/zhouenze/opt/anaconda3/lib/python3.9/site-packages/sklearn/svm/_base.py:299: ConvergenceWarning: Solver terminated early (max_iter=50000).  Consider pre-processing your data with StandardScaler or MinMaxScaler.\n",
      "  warnings.warn(\n",
      "/Users/zhouenze/opt/anaconda3/lib/python3.9/site-packages/sklearn/svm/_base.py:299: ConvergenceWarning: Solver terminated early (max_iter=50000).  Consider pre-processing your data with StandardScaler or MinMaxScaler.\n",
      "  warnings.warn(\n"
     ]
    },
    {
     "name": "stdout",
     "output_type": "stream",
     "text": [
      "[CV 3/5] END pca__n_components=0.99, svm__C=2.010987382235814, svm__gamma=0.32188444596834653, svm__kernel=rbf;, score=0.325 total time= 3.3min\n"
     ]
    },
    {
     "name": "stderr",
     "output_type": "stream",
     "text": [
      "/Users/zhouenze/opt/anaconda3/lib/python3.9/site-packages/sklearn/svm/_base.py:299: ConvergenceWarning: Solver terminated early (max_iter=50000).  Consider pre-processing your data with StandardScaler or MinMaxScaler.\n",
      "  warnings.warn(\n",
      "/Users/zhouenze/opt/anaconda3/lib/python3.9/site-packages/sklearn/svm/_base.py:299: ConvergenceWarning: Solver terminated early (max_iter=50000).  Consider pre-processing your data with StandardScaler or MinMaxScaler.\n",
      "  warnings.warn(\n"
     ]
    },
    {
     "name": "stdout",
     "output_type": "stream",
     "text": [
      "[CV 4/5] END pca__n_components=0.99, svm__C=2.010987382235814, svm__gamma=0.32188444596834653, svm__kernel=rbf;, score=0.338 total time= 3.3min\n",
      "[CV 1/5] END pca__n_components=0.85, svm__C=0.017396025163981355, svm__gamma=scale, svm__kernel=rbf;, score=0.125 total time= 3.2min\n",
      "[CV 2/5] END pca__n_components=0.85, svm__C=0.017396025163981355, svm__gamma=scale, svm__kernel=rbf;, score=0.125 total time= 3.2min\n",
      "[CV 3/5] END pca__n_components=0.85, svm__C=0.017396025163981355, svm__gamma=scale, svm__kernel=rbf;, score=0.128 total time= 3.2min\n",
      "[CV 5/5] END pca__n_components=0.99, svm__C=2.010987382235814, svm__gamma=0.32188444596834653, svm__kernel=rbf;, score=0.328 total time= 3.3min\n"
     ]
    },
    {
     "name": "stderr",
     "output_type": "stream",
     "text": [
      "/Users/zhouenze/opt/anaconda3/lib/python3.9/site-packages/sklearn/svm/_base.py:299: ConvergenceWarning: Solver terminated early (max_iter=50000).  Consider pre-processing your data with StandardScaler or MinMaxScaler.\n",
      "  warnings.warn(\n",
      "/Users/zhouenze/opt/anaconda3/lib/python3.9/site-packages/sklearn/svm/_base.py:299: ConvergenceWarning: Solver terminated early (max_iter=50000).  Consider pre-processing your data with StandardScaler or MinMaxScaler.\n",
      "  warnings.warn(\n",
      "/Users/zhouenze/opt/anaconda3/lib/python3.9/site-packages/sklearn/svm/_base.py:299: ConvergenceWarning: Solver terminated early (max_iter=50000).  Consider pre-processing your data with StandardScaler or MinMaxScaler.\n",
      "  warnings.warn(\n",
      "/Users/zhouenze/opt/anaconda3/lib/python3.9/site-packages/sklearn/svm/_base.py:299: ConvergenceWarning: Solver terminated early (max_iter=50000).  Consider pre-processing your data with StandardScaler or MinMaxScaler.\n",
      "  warnings.warn(\n"
     ]
    },
    {
     "name": "stdout",
     "output_type": "stream",
     "text": [
      "[CV 4/5] END pca__n_components=0.85, svm__C=0.017396025163981355, svm__gamma=scale, svm__kernel=rbf;, score=0.125 total time= 3.2min\n",
      "[CV 5/5] END pca__n_components=0.85, svm__C=0.017396025163981355, svm__gamma=scale, svm__kernel=rbf;, score=0.126 total time= 3.3min\n",
      "[CV 1/5] END pca__n_components=0.9, svm__C=3.1974489102820667, svm__gamma=scale, svm__kernel=rbf;, score=0.332 total time= 3.3min\n"
     ]
    },
    {
     "name": "stderr",
     "output_type": "stream",
     "text": [
      "/Users/zhouenze/opt/anaconda3/lib/python3.9/site-packages/sklearn/svm/_base.py:299: ConvergenceWarning: Solver terminated early (max_iter=50000).  Consider pre-processing your data with StandardScaler or MinMaxScaler.\n",
      "  warnings.warn(\n",
      "/Users/zhouenze/opt/anaconda3/lib/python3.9/site-packages/sklearn/svm/_base.py:299: ConvergenceWarning: Solver terminated early (max_iter=50000).  Consider pre-processing your data with StandardScaler or MinMaxScaler.\n",
      "  warnings.warn(\n",
      "/Users/zhouenze/opt/anaconda3/lib/python3.9/site-packages/sklearn/svm/_base.py:299: ConvergenceWarning: Solver terminated early (max_iter=50000).  Consider pre-processing your data with StandardScaler or MinMaxScaler.\n",
      "  warnings.warn(\n",
      "/Users/zhouenze/opt/anaconda3/lib/python3.9/site-packages/sklearn/svm/_base.py:299: ConvergenceWarning: Solver terminated early (max_iter=50000).  Consider pre-processing your data with StandardScaler or MinMaxScaler.\n",
      "  warnings.warn(\n"
     ]
    },
    {
     "name": "stdout",
     "output_type": "stream",
     "text": [
      "[CV 2/5] END pca__n_components=0.9, svm__C=3.1974489102820667, svm__gamma=scale, svm__kernel=rbf;, score=0.337 total time= 3.2min\n",
      "[CV 3/5] END pca__n_components=0.9, svm__C=3.1974489102820667, svm__gamma=scale, svm__kernel=rbf;, score=0.328 total time= 3.2min\n",
      "[CV 1/5] END pca__n_components=0.99, svm__C=7.993286420126475, svm__gamma=2.1775670993488077, svm__kernel=rbf;, score=0.291 total time= 3.1min\n",
      "[CV 4/5] END pca__n_components=0.9, svm__C=3.1974489102820667, svm__gamma=scale, svm__kernel=rbf;, score=0.339 total time= 3.2min\n",
      "[CV 5/5] END pca__n_components=0.9, svm__C=3.1974489102820667, svm__gamma=scale, svm__kernel=rbf;, score=0.337 total time= 3.2min\n"
     ]
    },
    {
     "name": "stderr",
     "output_type": "stream",
     "text": [
      "/Users/zhouenze/opt/anaconda3/lib/python3.9/site-packages/sklearn/svm/_base.py:299: ConvergenceWarning: Solver terminated early (max_iter=50000).  Consider pre-processing your data with StandardScaler or MinMaxScaler.\n",
      "  warnings.warn(\n",
      "/Users/zhouenze/opt/anaconda3/lib/python3.9/site-packages/sklearn/svm/_base.py:299: ConvergenceWarning: Solver terminated early (max_iter=50000).  Consider pre-processing your data with StandardScaler or MinMaxScaler.\n",
      "  warnings.warn(\n",
      "/Users/zhouenze/opt/anaconda3/lib/python3.9/site-packages/sklearn/svm/_base.py:299: ConvergenceWarning: Solver terminated early (max_iter=50000).  Consider pre-processing your data with StandardScaler or MinMaxScaler.\n",
      "  warnings.warn(\n",
      "/Users/zhouenze/opt/anaconda3/lib/python3.9/site-packages/sklearn/svm/_base.py:299: ConvergenceWarning: Solver terminated early (max_iter=50000).  Consider pre-processing your data with StandardScaler or MinMaxScaler.\n",
      "  warnings.warn(\n"
     ]
    },
    {
     "name": "stdout",
     "output_type": "stream",
     "text": [
      "[CV 2/5] END pca__n_components=0.99, svm__C=7.993286420126475, svm__gamma=2.1775670993488077, svm__kernel=rbf;, score=0.286 total time= 3.1min\n",
      "[CV 3/5] END pca__n_components=0.99, svm__C=7.993286420126475, svm__gamma=2.1775670993488077, svm__kernel=rbf;, score=0.281 total time= 3.2min\n",
      "[CV 4/5] END pca__n_components=0.99, svm__C=7.993286420126475, svm__gamma=2.1775670993488077, svm__kernel=rbf;, score=0.296 total time= 3.2min\n"
     ]
    },
    {
     "name": "stderr",
     "output_type": "stream",
     "text": [
      "/Users/zhouenze/opt/anaconda3/lib/python3.9/site-packages/sklearn/svm/_base.py:299: ConvergenceWarning: Solver terminated early (max_iter=50000).  Consider pre-processing your data with StandardScaler or MinMaxScaler.\n",
      "  warnings.warn(\n",
      "/Users/zhouenze/opt/anaconda3/lib/python3.9/site-packages/sklearn/svm/_base.py:299: ConvergenceWarning: Solver terminated early (max_iter=50000).  Consider pre-processing your data with StandardScaler or MinMaxScaler.\n",
      "  warnings.warn(\n",
      "/Users/zhouenze/opt/anaconda3/lib/python3.9/site-packages/sklearn/svm/_base.py:299: ConvergenceWarning: Solver terminated early (max_iter=50000).  Consider pre-processing your data with StandardScaler or MinMaxScaler.\n",
      "  warnings.warn(\n",
      "/Users/zhouenze/opt/anaconda3/lib/python3.9/site-packages/sklearn/svm/_base.py:299: ConvergenceWarning: Solver terminated early (max_iter=50000).  Consider pre-processing your data with StandardScaler or MinMaxScaler.\n",
      "  warnings.warn(\n"
     ]
    },
    {
     "name": "stdout",
     "output_type": "stream",
     "text": [
      "[CV 5/5] END pca__n_components=0.99, svm__C=7.993286420126475, svm__gamma=2.1775670993488077, svm__kernel=rbf;, score=0.286 total time= 3.1min\n",
      "[CV 1/5] END pca__n_components=0.9, svm__C=0.6847640628227332, svm__gamma=scale, svm__kernel=rbf;, score=0.338 total time= 3.3min\n",
      "[CV 2/5] END pca__n_components=0.9, svm__C=0.6847640628227332, svm__gamma=scale, svm__kernel=rbf;, score=0.341 total time= 3.3min\n",
      "[CV 3/5] END pca__n_components=0.9, svm__C=0.6847640628227332, svm__gamma=scale, svm__kernel=rbf;, score=0.336 total time= 3.2min\n",
      "[CV 4/5] END pca__n_components=0.9, svm__C=0.6847640628227332, svm__gamma=scale, svm__kernel=rbf;, score=0.347 total time= 3.3min\n"
     ]
    },
    {
     "name": "stderr",
     "output_type": "stream",
     "text": [
      "/Users/zhouenze/opt/anaconda3/lib/python3.9/site-packages/sklearn/svm/_base.py:299: ConvergenceWarning: Solver terminated early (max_iter=50000).  Consider pre-processing your data with StandardScaler or MinMaxScaler.\n",
      "  warnings.warn(\n",
      "/Users/zhouenze/opt/anaconda3/lib/python3.9/site-packages/sklearn/svm/_base.py:299: ConvergenceWarning: Solver terminated early (max_iter=50000).  Consider pre-processing your data with StandardScaler or MinMaxScaler.\n",
      "  warnings.warn(\n",
      "/Users/zhouenze/opt/anaconda3/lib/python3.9/site-packages/sklearn/svm/_base.py:299: ConvergenceWarning: Solver terminated early (max_iter=50000).  Consider pre-processing your data with StandardScaler or MinMaxScaler.\n",
      "  warnings.warn(\n",
      "/Users/zhouenze/opt/anaconda3/lib/python3.9/site-packages/sklearn/svm/_base.py:299: ConvergenceWarning: Solver terminated early (max_iter=50000).  Consider pre-processing your data with StandardScaler or MinMaxScaler.\n",
      "  warnings.warn(\n"
     ]
    },
    {
     "name": "stdout",
     "output_type": "stream",
     "text": [
      "[CV 5/5] END pca__n_components=0.9, svm__C=0.6847640628227332, svm__gamma=scale, svm__kernel=rbf;, score=0.341 total time= 3.3min\n",
      "[CV 1/5] END pca__n_components=0.8, svm__C=0.46767827524969496, svm__gamma=scale, svm__kernel=rbf;, score=0.336 total time= 3.2min\n",
      "[CV 2/5] END pca__n_components=0.8, svm__C=0.46767827524969496, svm__gamma=scale, svm__kernel=rbf;, score=0.338 total time= 3.2min\n"
     ]
    },
    {
     "name": "stderr",
     "output_type": "stream",
     "text": [
      "/Users/zhouenze/opt/anaconda3/lib/python3.9/site-packages/sklearn/svm/_base.py:299: ConvergenceWarning: Solver terminated early (max_iter=50000).  Consider pre-processing your data with StandardScaler or MinMaxScaler.\n",
      "  warnings.warn(\n",
      "/Users/zhouenze/opt/anaconda3/lib/python3.9/site-packages/sklearn/svm/_base.py:299: ConvergenceWarning: Solver terminated early (max_iter=50000).  Consider pre-processing your data with StandardScaler or MinMaxScaler.\n",
      "  warnings.warn(\n"
     ]
    },
    {
     "name": "stdout",
     "output_type": "stream",
     "text": [
      "[CV 3/5] END pca__n_components=0.8, svm__C=0.46767827524969496, svm__gamma=scale, svm__kernel=rbf;, score=0.331 total time= 3.2min\n"
     ]
    },
    {
     "name": "stderr",
     "output_type": "stream",
     "text": [
      "/Users/zhouenze/opt/anaconda3/lib/python3.9/site-packages/sklearn/svm/_base.py:299: ConvergenceWarning: Solver terminated early (max_iter=50000).  Consider pre-processing your data with StandardScaler or MinMaxScaler.\n",
      "  warnings.warn(\n",
      "/Users/zhouenze/opt/anaconda3/lib/python3.9/site-packages/sklearn/svm/_base.py:299: ConvergenceWarning: Solver terminated early (max_iter=50000).  Consider pre-processing your data with StandardScaler or MinMaxScaler.\n",
      "  warnings.warn(\n"
     ]
    },
    {
     "name": "stdout",
     "output_type": "stream",
     "text": [
      "[CV 4/5] END pca__n_components=0.8, svm__C=0.46767827524969496, svm__gamma=scale, svm__kernel=rbf;, score=0.353 total time= 3.2min\n",
      "[CV 5/5] END pca__n_components=0.8, svm__C=0.46767827524969496, svm__gamma=scale, svm__kernel=rbf;, score=0.340 total time= 3.2min\n",
      "[CV 1/5] END pca__n_components=0.8, svm__C=0.018994447365174458, svm__gamma=8.94354735746291, svm__kernel=rbf;, score=0.125 total time= 3.4min\n",
      "[CV 2/5] END pca__n_components=0.8, svm__C=0.018994447365174458, svm__gamma=8.94354735746291, svm__kernel=rbf;, score=0.125 total time= 3.4min\n"
     ]
    },
    {
     "name": "stderr",
     "output_type": "stream",
     "text": [
      "/Users/zhouenze/opt/anaconda3/lib/python3.9/site-packages/sklearn/svm/_base.py:299: ConvergenceWarning: Solver terminated early (max_iter=50000).  Consider pre-processing your data with StandardScaler or MinMaxScaler.\n",
      "  warnings.warn(\n",
      "/Users/zhouenze/opt/anaconda3/lib/python3.9/site-packages/sklearn/svm/_base.py:299: ConvergenceWarning: Solver terminated early (max_iter=50000).  Consider pre-processing your data with StandardScaler or MinMaxScaler.\n",
      "  warnings.warn(\n",
      "/Users/zhouenze/opt/anaconda3/lib/python3.9/site-packages/sklearn/svm/_base.py:299: ConvergenceWarning: Solver terminated early (max_iter=50000).  Consider pre-processing your data with StandardScaler or MinMaxScaler.\n",
      "  warnings.warn(\n",
      "/Users/zhouenze/opt/anaconda3/lib/python3.9/site-packages/sklearn/svm/_base.py:299: ConvergenceWarning: Solver terminated early (max_iter=50000).  Consider pre-processing your data with StandardScaler or MinMaxScaler.\n",
      "  warnings.warn(\n"
     ]
    },
    {
     "name": "stdout",
     "output_type": "stream",
     "text": [
      "[CV 3/5] END pca__n_components=0.8, svm__C=0.018994447365174458, svm__gamma=8.94354735746291, svm__kernel=rbf;, score=0.125 total time= 3.4min\n",
      "[CV 1/5] END pca__n_components=0.9, svm__C=17.014677737406195, svm__gamma=5.267095471347719, svm__kernel=rbf;, score=0.252 total time= 3.1min\n",
      "[CV 4/5] END pca__n_components=0.8, svm__C=0.018994447365174458, svm__gamma=8.94354735746291, svm__kernel=rbf;, score=0.125 total time= 3.4min\n",
      "[CV 5/5] END pca__n_components=0.8, svm__C=0.018994447365174458, svm__gamma=8.94354735746291, svm__kernel=rbf;, score=0.125 total time= 3.4min\n"
     ]
    },
    {
     "name": "stderr",
     "output_type": "stream",
     "text": [
      "/Users/zhouenze/opt/anaconda3/lib/python3.9/site-packages/sklearn/svm/_base.py:299: ConvergenceWarning: Solver terminated early (max_iter=50000).  Consider pre-processing your data with StandardScaler or MinMaxScaler.\n",
      "  warnings.warn(\n",
      "/Users/zhouenze/opt/anaconda3/lib/python3.9/site-packages/sklearn/svm/_base.py:299: ConvergenceWarning: Solver terminated early (max_iter=50000).  Consider pre-processing your data with StandardScaler or MinMaxScaler.\n",
      "  warnings.warn(\n",
      "/Users/zhouenze/opt/anaconda3/lib/python3.9/site-packages/sklearn/svm/_base.py:299: ConvergenceWarning: Solver terminated early (max_iter=50000).  Consider pre-processing your data with StandardScaler or MinMaxScaler.\n",
      "  warnings.warn(\n",
      "/Users/zhouenze/opt/anaconda3/lib/python3.9/site-packages/sklearn/svm/_base.py:299: ConvergenceWarning: Solver terminated early (max_iter=50000).  Consider pre-processing your data with StandardScaler or MinMaxScaler.\n",
      "  warnings.warn(\n"
     ]
    },
    {
     "name": "stdout",
     "output_type": "stream",
     "text": [
      "[CV 2/5] END pca__n_components=0.9, svm__C=17.014677737406195, svm__gamma=5.267095471347719, svm__kernel=rbf;, score=0.232 total time= 3.1min\n",
      "[CV 3/5] END pca__n_components=0.9, svm__C=17.014677737406195, svm__gamma=5.267095471347719, svm__kernel=rbf;, score=0.248 total time= 3.1min\n",
      "[CV 5/5] END pca__n_components=0.9, svm__C=17.014677737406195, svm__gamma=5.267095471347719, svm__kernel=rbf;, score=0.252 total time= 3.1min\n",
      "[CV 4/5] END pca__n_components=0.9, svm__C=17.014677737406195, svm__gamma=5.267095471347719, svm__kernel=rbf;, score=0.248 total time= 3.1min\n"
     ]
    },
    {
     "name": "stderr",
     "output_type": "stream",
     "text": [
      "/Users/zhouenze/opt/anaconda3/lib/python3.9/site-packages/sklearn/svm/_base.py:299: ConvergenceWarning: Solver terminated early (max_iter=50000).  Consider pre-processing your data with StandardScaler or MinMaxScaler.\n",
      "  warnings.warn(\n",
      "/Users/zhouenze/opt/anaconda3/lib/python3.9/site-packages/sklearn/svm/_base.py:299: ConvergenceWarning: Solver terminated early (max_iter=50000).  Consider pre-processing your data with StandardScaler or MinMaxScaler.\n",
      "  warnings.warn(\n",
      "/Users/zhouenze/opt/anaconda3/lib/python3.9/site-packages/sklearn/svm/_base.py:299: ConvergenceWarning: Solver terminated early (max_iter=50000).  Consider pre-processing your data with StandardScaler or MinMaxScaler.\n",
      "  warnings.warn(\n",
      "/Users/zhouenze/opt/anaconda3/lib/python3.9/site-packages/sklearn/svm/_base.py:299: ConvergenceWarning: Solver terminated early (max_iter=50000).  Consider pre-processing your data with StandardScaler or MinMaxScaler.\n",
      "  warnings.warn(\n",
      "/Users/zhouenze/opt/anaconda3/lib/python3.9/site-packages/sklearn/svm/_base.py:299: ConvergenceWarning: Solver terminated early (max_iter=50000).  Consider pre-processing your data with StandardScaler or MinMaxScaler.\n",
      "  warnings.warn(\n"
     ]
    },
    {
     "name": "stdout",
     "output_type": "stream",
     "text": [
      "[CV 1/5] END pca__n_components=0.8, svm__C=1.5033886488396206, svm__gamma=6.386539264498472, svm__kernel=rbf;, score=0.314 total time= 3.1min\n",
      "[CV 2/5] END pca__n_components=0.8, svm__C=1.5033886488396206, svm__gamma=6.386539264498472, svm__kernel=rbf;, score=0.304 total time= 3.1min\n",
      "[CV 3/5] END pca__n_components=0.8, svm__C=1.5033886488396206, svm__gamma=6.386539264498472, svm__kernel=rbf;, score=0.303 total time= 3.1min\n",
      "[CV 4/5] END pca__n_components=0.8, svm__C=1.5033886488396206, svm__gamma=6.386539264498472, svm__kernel=rbf;, score=0.326 total time= 3.1min\n"
     ]
    },
    {
     "name": "stderr",
     "output_type": "stream",
     "text": [
      "/Users/zhouenze/opt/anaconda3/lib/python3.9/site-packages/sklearn/svm/_base.py:299: ConvergenceWarning: Solver terminated early (max_iter=50000).  Consider pre-processing your data with StandardScaler or MinMaxScaler.\n",
      "  warnings.warn(\n",
      "/Users/zhouenze/opt/anaconda3/lib/python3.9/site-packages/sklearn/svm/_base.py:299: ConvergenceWarning: Solver terminated early (max_iter=50000).  Consider pre-processing your data with StandardScaler or MinMaxScaler.\n",
      "  warnings.warn(\n",
      "/Users/zhouenze/opt/anaconda3/lib/python3.9/site-packages/sklearn/svm/_base.py:299: ConvergenceWarning: Solver terminated early (max_iter=50000).  Consider pre-processing your data with StandardScaler or MinMaxScaler.\n",
      "  warnings.warn(\n"
     ]
    },
    {
     "name": "stdout",
     "output_type": "stream",
     "text": [
      "[CV 5/5] END pca__n_components=0.8, svm__C=1.5033886488396206, svm__gamma=6.386539264498472, svm__kernel=rbf;, score=0.307 total time= 3.1min\n",
      "[CV 1/5] END pca__n_components=0.99, svm__C=1.9685381175861145, svm__gamma=0.28011094351749194, svm__kernel=rbf;, score=0.331 total time= 3.3min\n",
      "[CV 2/5] END pca__n_components=0.99, svm__C=1.9685381175861145, svm__gamma=0.28011094351749194, svm__kernel=rbf;, score=0.328 total time= 3.3min\n",
      "[CV 3/5] END pca__n_components=0.99, svm__C=1.9685381175861145, svm__gamma=0.28011094351749194, svm__kernel=rbf;, score=0.327 total time= 3.3min\n"
     ]
    },
    {
     "name": "stderr",
     "output_type": "stream",
     "text": [
      "/Users/zhouenze/opt/anaconda3/lib/python3.9/site-packages/sklearn/svm/_base.py:299: ConvergenceWarning: Solver terminated early (max_iter=50000).  Consider pre-processing your data with StandardScaler or MinMaxScaler.\n",
      "  warnings.warn(\n",
      "/Users/zhouenze/opt/anaconda3/lib/python3.9/site-packages/sklearn/svm/_base.py:299: ConvergenceWarning: Solver terminated early (max_iter=50000).  Consider pre-processing your data with StandardScaler or MinMaxScaler.\n",
      "  warnings.warn(\n",
      "/Users/zhouenze/opt/anaconda3/lib/python3.9/site-packages/sklearn/svm/_base.py:299: ConvergenceWarning: Solver terminated early (max_iter=50000).  Consider pre-processing your data with StandardScaler or MinMaxScaler.\n",
      "  warnings.warn(\n",
      "/Users/zhouenze/opt/anaconda3/lib/python3.9/site-packages/sklearn/svm/_base.py:299: ConvergenceWarning: Solver terminated early (max_iter=50000).  Consider pre-processing your data with StandardScaler or MinMaxScaler.\n",
      "  warnings.warn(\n",
      "/Users/zhouenze/opt/anaconda3/lib/python3.9/site-packages/sklearn/svm/_base.py:299: ConvergenceWarning: Solver terminated early (max_iter=50000).  Consider pre-processing your data with StandardScaler or MinMaxScaler.\n",
      "  warnings.warn(\n"
     ]
    },
    {
     "name": "stdout",
     "output_type": "stream",
     "text": [
      "[CV 4/5] END pca__n_components=0.99, svm__C=1.9685381175861145, svm__gamma=0.28011094351749194, svm__kernel=rbf;, score=0.340 total time= 3.4min\n",
      "[CV 5/5] END pca__n_components=0.99, svm__C=1.9685381175861145, svm__gamma=0.28011094351749194, svm__kernel=rbf;, score=0.330 total time= 3.4min\n",
      "[CV 1/5] END pca__n_components=0.99, svm__C=18.34148134639152, svm__gamma=scale, svm__kernel=rbf;, score=0.325 total time= 3.4min\n",
      "[CV 2/5] END pca__n_components=0.99, svm__C=18.34148134639152, svm__gamma=scale, svm__kernel=rbf;, score=0.336 total time= 3.4min\n"
     ]
    },
    {
     "name": "stderr",
     "output_type": "stream",
     "text": [
      "/Users/zhouenze/opt/anaconda3/lib/python3.9/site-packages/sklearn/svm/_base.py:299: ConvergenceWarning: Solver terminated early (max_iter=50000).  Consider pre-processing your data with StandardScaler or MinMaxScaler.\n",
      "  warnings.warn(\n",
      "/Users/zhouenze/opt/anaconda3/lib/python3.9/site-packages/sklearn/svm/_base.py:299: ConvergenceWarning: Solver terminated early (max_iter=50000).  Consider pre-processing your data with StandardScaler or MinMaxScaler.\n",
      "  warnings.warn(\n",
      "/Users/zhouenze/opt/anaconda3/lib/python3.9/site-packages/sklearn/svm/_base.py:299: ConvergenceWarning: Solver terminated early (max_iter=50000).  Consider pre-processing your data with StandardScaler or MinMaxScaler.\n",
      "  warnings.warn(\n"
     ]
    },
    {
     "name": "stdout",
     "output_type": "stream",
     "text": [
      "[CV 3/5] END pca__n_components=0.99, svm__C=18.34148134639152, svm__gamma=scale, svm__kernel=rbf;, score=0.328 total time= 3.4min\n",
      "[CV 4/5] END pca__n_components=0.99, svm__C=18.34148134639152, svm__gamma=scale, svm__kernel=rbf;, score=0.326 total time= 3.4min\n",
      "[CV 1/5] END pca__n_components=0.9, svm__C=1.4304680060716681, svm__gamma=0.22555819760892648, svm__kernel=rbf;, score=0.335 total time= 3.2min\n",
      "[CV 5/5] END pca__n_components=0.99, svm__C=18.34148134639152, svm__gamma=scale, svm__kernel=rbf;, score=0.332 total time= 3.4min\n"
     ]
    },
    {
     "name": "stderr",
     "output_type": "stream",
     "text": [
      "/Users/zhouenze/opt/anaconda3/lib/python3.9/site-packages/sklearn/svm/_base.py:299: ConvergenceWarning: Solver terminated early (max_iter=50000).  Consider pre-processing your data with StandardScaler or MinMaxScaler.\n",
      "  warnings.warn(\n",
      "/Users/zhouenze/opt/anaconda3/lib/python3.9/site-packages/sklearn/svm/_base.py:299: ConvergenceWarning: Solver terminated early (max_iter=50000).  Consider pre-processing your data with StandardScaler or MinMaxScaler.\n",
      "  warnings.warn(\n",
      "/Users/zhouenze/opt/anaconda3/lib/python3.9/site-packages/sklearn/svm/_base.py:299: ConvergenceWarning: Solver terminated early (max_iter=50000).  Consider pre-processing your data with StandardScaler or MinMaxScaler.\n",
      "  warnings.warn(\n",
      "/Users/zhouenze/opt/anaconda3/lib/python3.9/site-packages/sklearn/svm/_base.py:299: ConvergenceWarning: Solver terminated early (max_iter=50000).  Consider pre-processing your data with StandardScaler or MinMaxScaler.\n",
      "  warnings.warn(\n",
      "/Users/zhouenze/opt/anaconda3/lib/python3.9/site-packages/sklearn/svm/_base.py:299: ConvergenceWarning: Solver terminated early (max_iter=50000).  Consider pre-processing your data with StandardScaler or MinMaxScaler.\n",
      "  warnings.warn(\n"
     ]
    },
    {
     "name": "stdout",
     "output_type": "stream",
     "text": [
      "[CV 3/5] END pca__n_components=0.9, svm__C=1.4304680060716681, svm__gamma=0.22555819760892648, svm__kernel=rbf;, score=0.327 total time= 3.2min\n",
      "[CV 2/5] END pca__n_components=0.9, svm__C=1.4304680060716681, svm__gamma=0.22555819760892648, svm__kernel=rbf;, score=0.330 total time= 3.3min\n",
      "[CV 4/5] END pca__n_components=0.9, svm__C=1.4304680060716681, svm__gamma=0.22555819760892648, svm__kernel=rbf;, score=0.338 total time= 3.2min\n",
      "[CV 5/5] END pca__n_components=0.9, svm__C=1.4304680060716681, svm__gamma=0.22555819760892648, svm__kernel=rbf;, score=0.336 total time= 3.2min\n"
     ]
    },
    {
     "name": "stderr",
     "output_type": "stream",
     "text": [
      "/Users/zhouenze/opt/anaconda3/lib/python3.9/site-packages/sklearn/svm/_base.py:299: ConvergenceWarning: Solver terminated early (max_iter=50000).  Consider pre-processing your data with StandardScaler or MinMaxScaler.\n",
      "  warnings.warn(\n",
      "/Users/zhouenze/opt/anaconda3/lib/python3.9/site-packages/sklearn/svm/_base.py:299: ConvergenceWarning: Solver terminated early (max_iter=50000).  Consider pre-processing your data with StandardScaler or MinMaxScaler.\n",
      "  warnings.warn(\n",
      "/Users/zhouenze/opt/anaconda3/lib/python3.9/site-packages/sklearn/svm/_base.py:299: ConvergenceWarning: Solver terminated early (max_iter=50000).  Consider pre-processing your data with StandardScaler or MinMaxScaler.\n",
      "  warnings.warn(\n"
     ]
    },
    {
     "name": "stdout",
     "output_type": "stream",
     "text": [
      "[CV 1/5] END pca__n_components=0.9, svm__C=0.06266678042765515, svm__gamma=4.602822393805502, svm__kernel=rbf;, score=0.245 total time= 3.4min\n",
      "[CV 2/5] END pca__n_components=0.9, svm__C=0.06266678042765515, svm__gamma=4.602822393805502, svm__kernel=rbf;, score=0.234 total time= 3.4min\n",
      "[CV 3/5] END pca__n_components=0.9, svm__C=0.06266678042765515, svm__gamma=4.602822393805502, svm__kernel=rbf;, score=0.258 total time= 3.4min\n",
      "[CV 4/5] END pca__n_components=0.9, svm__C=0.06266678042765515, svm__gamma=4.602822393805502, svm__kernel=rbf;, score=0.253 total time= 3.4min\n"
     ]
    },
    {
     "name": "stderr",
     "output_type": "stream",
     "text": [
      "/Users/zhouenze/opt/anaconda3/lib/python3.9/site-packages/sklearn/svm/_base.py:299: ConvergenceWarning: Solver terminated early (max_iter=50000).  Consider pre-processing your data with StandardScaler or MinMaxScaler.\n",
      "  warnings.warn(\n",
      "/Users/zhouenze/opt/anaconda3/lib/python3.9/site-packages/sklearn/svm/_base.py:299: ConvergenceWarning: Solver terminated early (max_iter=50000).  Consider pre-processing your data with StandardScaler or MinMaxScaler.\n",
      "  warnings.warn(\n",
      "/Users/zhouenze/opt/anaconda3/lib/python3.9/site-packages/sklearn/svm/_base.py:299: ConvergenceWarning: Solver terminated early (max_iter=50000).  Consider pre-processing your data with StandardScaler or MinMaxScaler.\n",
      "  warnings.warn(\n",
      "/Users/zhouenze/opt/anaconda3/lib/python3.9/site-packages/sklearn/svm/_base.py:299: ConvergenceWarning: Solver terminated early (max_iter=50000).  Consider pre-processing your data with StandardScaler or MinMaxScaler.\n",
      "  warnings.warn(\n",
      "/Users/zhouenze/opt/anaconda3/lib/python3.9/site-packages/sklearn/svm/_base.py:299: ConvergenceWarning: Solver terminated early (max_iter=50000).  Consider pre-processing your data with StandardScaler or MinMaxScaler.\n",
      "  warnings.warn(\n"
     ]
    },
    {
     "name": "stdout",
     "output_type": "stream",
     "text": [
      "[CV 5/5] END pca__n_components=0.9, svm__C=0.06266678042765515, svm__gamma=4.602822393805502, svm__kernel=rbf;, score=0.253 total time= 3.4min\n",
      "[CV 1/5] END pca__n_components=0.99, svm__C=0.14375638659690046, svm__gamma=0.28054683227494864, svm__kernel=rbf;, score=0.332 total time= 3.4min\n",
      "[CV 2/5] END pca__n_components=0.99, svm__C=0.14375638659690046, svm__gamma=0.28054683227494864, svm__kernel=rbf;, score=0.327 total time= 3.4min\n",
      "[CV 3/5] END pca__n_components=0.99, svm__C=0.14375638659690046, svm__gamma=0.28054683227494864, svm__kernel=rbf;, score=0.333 total time= 3.4min\n"
     ]
    },
    {
     "name": "stderr",
     "output_type": "stream",
     "text": [
      "/Users/zhouenze/opt/anaconda3/lib/python3.9/site-packages/sklearn/svm/_base.py:299: ConvergenceWarning: Solver terminated early (max_iter=50000).  Consider pre-processing your data with StandardScaler or MinMaxScaler.\n",
      "  warnings.warn(\n",
      "/Users/zhouenze/opt/anaconda3/lib/python3.9/site-packages/sklearn/svm/_base.py:299: ConvergenceWarning: Solver terminated early (max_iter=50000).  Consider pre-processing your data with StandardScaler or MinMaxScaler.\n",
      "  warnings.warn(\n",
      "/Users/zhouenze/opt/anaconda3/lib/python3.9/site-packages/sklearn/svm/_base.py:299: ConvergenceWarning: Solver terminated early (max_iter=50000).  Consider pre-processing your data with StandardScaler or MinMaxScaler.\n",
      "  warnings.warn(\n"
     ]
    },
    {
     "name": "stdout",
     "output_type": "stream",
     "text": [
      "[CV 4/5] END pca__n_components=0.99, svm__C=0.14375638659690046, svm__gamma=0.28054683227494864, svm__kernel=rbf;, score=0.339 total time= 3.4min\n",
      "[CV 5/5] END pca__n_components=0.99, svm__C=0.14375638659690046, svm__gamma=0.28054683227494864, svm__kernel=rbf;, score=0.333 total time= 3.3min\n",
      "[CV 1/5] END pca__n_components=0.95, svm__C=34.31261285800621, svm__gamma=scale, svm__kernel=rbf;, score=0.312 total time= 3.5min\n",
      "[CV 2/5] END pca__n_components=0.95, svm__C=34.31261285800621, svm__gamma=scale, svm__kernel=rbf;, score=0.269 total time= 3.5min\n"
     ]
    },
    {
     "name": "stderr",
     "output_type": "stream",
     "text": [
      "/Users/zhouenze/opt/anaconda3/lib/python3.9/site-packages/sklearn/svm/_base.py:299: ConvergenceWarning: Solver terminated early (max_iter=50000).  Consider pre-processing your data with StandardScaler or MinMaxScaler.\n",
      "  warnings.warn(\n",
      "/Users/zhouenze/opt/anaconda3/lib/python3.9/site-packages/sklearn/svm/_base.py:299: ConvergenceWarning: Solver terminated early (max_iter=50000).  Consider pre-processing your data with StandardScaler or MinMaxScaler.\n",
      "  warnings.warn(\n",
      "/Users/zhouenze/opt/anaconda3/lib/python3.9/site-packages/sklearn/svm/_base.py:299: ConvergenceWarning: Solver terminated early (max_iter=50000).  Consider pre-processing your data with StandardScaler or MinMaxScaler.\n",
      "  warnings.warn(\n",
      "/Users/zhouenze/opt/anaconda3/lib/python3.9/site-packages/sklearn/svm/_base.py:299: ConvergenceWarning: Solver terminated early (max_iter=50000).  Consider pre-processing your data with StandardScaler or MinMaxScaler.\n",
      "  warnings.warn(\n",
      "/Users/zhouenze/opt/anaconda3/lib/python3.9/site-packages/sklearn/svm/_base.py:299: ConvergenceWarning: Solver terminated early (max_iter=50000).  Consider pre-processing your data with StandardScaler or MinMaxScaler.\n",
      "  warnings.warn(\n"
     ]
    },
    {
     "name": "stdout",
     "output_type": "stream",
     "text": [
      "[CV 1/5] END pca__n_components=0.8, svm__C=0.10875923643119881, svm__gamma=scale, svm__kernel=rbf;, score=0.313 total time= 3.2min\n"
     ]
    },
    {
     "name": "stderr",
     "output_type": "stream",
     "text": [
      "/Users/zhouenze/opt/anaconda3/lib/python3.9/site-packages/sklearn/svm/_base.py:299: ConvergenceWarning: Solver terminated early (max_iter=50000).  Consider pre-processing your data with StandardScaler or MinMaxScaler.\n",
      "  warnings.warn(\n"
     ]
    },
    {
     "name": "stdout",
     "output_type": "stream",
     "text": [
      "[CV 3/5] END pca__n_components=0.95, svm__C=34.31261285800621, svm__gamma=scale, svm__kernel=rbf;, score=0.211 total time= 3.5min\n",
      "[CV 4/5] END pca__n_components=0.95, svm__C=34.31261285800621, svm__gamma=scale, svm__kernel=rbf;, score=0.321 total time= 3.5min\n"
     ]
    },
    {
     "name": "stderr",
     "output_type": "stream",
     "text": [
      "/Users/zhouenze/opt/anaconda3/lib/python3.9/site-packages/sklearn/svm/_base.py:299: ConvergenceWarning: Solver terminated early (max_iter=50000).  Consider pre-processing your data with StandardScaler or MinMaxScaler.\n",
      "  warnings.warn(\n"
     ]
    },
    {
     "name": "stdout",
     "output_type": "stream",
     "text": [
      "[CV 5/5] END pca__n_components=0.95, svm__C=34.31261285800621, svm__gamma=scale, svm__kernel=rbf;, score=0.295 total time= 3.5min\n"
     ]
    },
    {
     "name": "stderr",
     "output_type": "stream",
     "text": [
      "/Users/zhouenze/opt/anaconda3/lib/python3.9/site-packages/sklearn/svm/_base.py:299: ConvergenceWarning: Solver terminated early (max_iter=50000).  Consider pre-processing your data with StandardScaler or MinMaxScaler.\n",
      "  warnings.warn(\n"
     ]
    },
    {
     "name": "stdout",
     "output_type": "stream",
     "text": [
      "[CV 2/5] END pca__n_components=0.8, svm__C=0.10875923643119881, svm__gamma=scale, svm__kernel=rbf;, score=0.307 total time= 3.2min\n",
      "[CV 3/5] END pca__n_components=0.8, svm__C=0.10875923643119881, svm__gamma=scale, svm__kernel=rbf;, score=0.314 total time= 3.2min\n",
      "[CV 4/5] END pca__n_components=0.8, svm__C=0.10875923643119881, svm__gamma=scale, svm__kernel=rbf;, score=0.317 total time= 3.2min\n",
      "[CV 5/5] END pca__n_components=0.8, svm__C=0.10875923643119881, svm__gamma=scale, svm__kernel=rbf;, score=0.309 total time= 3.2min\n"
     ]
    },
    {
     "name": "stderr",
     "output_type": "stream",
     "text": [
      "/Users/zhouenze/opt/anaconda3/lib/python3.9/site-packages/sklearn/svm/_base.py:299: ConvergenceWarning: Solver terminated early (max_iter=50000).  Consider pre-processing your data with StandardScaler or MinMaxScaler.\n",
      "  warnings.warn(\n",
      "/Users/zhouenze/opt/anaconda3/lib/python3.9/site-packages/sklearn/svm/_base.py:299: ConvergenceWarning: Solver terminated early (max_iter=50000).  Consider pre-processing your data with StandardScaler or MinMaxScaler.\n",
      "  warnings.warn(\n",
      "/Users/zhouenze/opt/anaconda3/lib/python3.9/site-packages/sklearn/svm/_base.py:299: ConvergenceWarning: Solver terminated early (max_iter=50000).  Consider pre-processing your data with StandardScaler or MinMaxScaler.\n",
      "  warnings.warn(\n",
      "/Users/zhouenze/opt/anaconda3/lib/python3.9/site-packages/sklearn/svm/_base.py:299: ConvergenceWarning: Solver terminated early (max_iter=50000).  Consider pre-processing your data with StandardScaler or MinMaxScaler.\n",
      "  warnings.warn(\n",
      "/Users/zhouenze/opt/anaconda3/lib/python3.9/site-packages/sklearn/svm/_base.py:299: ConvergenceWarning: Solver terminated early (max_iter=50000).  Consider pre-processing your data with StandardScaler or MinMaxScaler.\n",
      "  warnings.warn(\n"
     ]
    },
    {
     "name": "stdout",
     "output_type": "stream",
     "text": [
      "[CV 1/5] END pca__n_components=0.9, svm__C=0.047617807075303775, svm__gamma=scale, svm__kernel=rbf;, score=0.283 total time= 3.3min\n"
     ]
    },
    {
     "name": "stderr",
     "output_type": "stream",
     "text": [
      "/Users/zhouenze/opt/anaconda3/lib/python3.9/site-packages/sklearn/svm/_base.py:299: ConvergenceWarning: Solver terminated early (max_iter=50000).  Consider pre-processing your data with StandardScaler or MinMaxScaler.\n",
      "  warnings.warn(\n"
     ]
    },
    {
     "name": "stdout",
     "output_type": "stream",
     "text": [
      "[CV 2/5] END pca__n_components=0.9, svm__C=0.047617807075303775, svm__gamma=scale, svm__kernel=rbf;, score=0.300 total time= 3.3min\n",
      "[CV 3/5] END pca__n_components=0.9, svm__C=0.047617807075303775, svm__gamma=scale, svm__kernel=rbf;, score=0.302 total time= 3.3min\n"
     ]
    },
    {
     "name": "stderr",
     "output_type": "stream",
     "text": [
      "/Users/zhouenze/opt/anaconda3/lib/python3.9/site-packages/sklearn/svm/_base.py:299: ConvergenceWarning: Solver terminated early (max_iter=50000).  Consider pre-processing your data with StandardScaler or MinMaxScaler.\n",
      "  warnings.warn(\n"
     ]
    },
    {
     "name": "stdout",
     "output_type": "stream",
     "text": [
      "[CV 4/5] END pca__n_components=0.9, svm__C=0.047617807075303775, svm__gamma=scale, svm__kernel=rbf;, score=0.294 total time= 3.3min\n"
     ]
    },
    {
     "name": "stderr",
     "output_type": "stream",
     "text": [
      "/Users/zhouenze/opt/anaconda3/lib/python3.9/site-packages/sklearn/svm/_base.py:299: ConvergenceWarning: Solver terminated early (max_iter=50000).  Consider pre-processing your data with StandardScaler or MinMaxScaler.\n",
      "  warnings.warn(\n"
     ]
    },
    {
     "name": "stdout",
     "output_type": "stream",
     "text": [
      "[CV 5/5] END pca__n_components=0.9, svm__C=0.047617807075303775, svm__gamma=scale, svm__kernel=rbf;, score=0.283 total time= 3.2min\n",
      "[CV 1/5] END pca__n_components=0.85, svm__C=14.138464872715373, svm__gamma=scale, svm__kernel=rbf;, score=0.333 total time= 3.1min\n",
      "[CV 2/5] END pca__n_components=0.85, svm__C=14.138464872715373, svm__gamma=scale, svm__kernel=rbf;, score=0.329 total time= 3.1min\n",
      "[CV 3/5] END pca__n_components=0.85, svm__C=14.138464872715373, svm__gamma=scale, svm__kernel=rbf;, score=0.329 total time= 3.0min\n"
     ]
    },
    {
     "name": "stderr",
     "output_type": "stream",
     "text": [
      "/Users/zhouenze/opt/anaconda3/lib/python3.9/site-packages/sklearn/svm/_base.py:299: ConvergenceWarning: Solver terminated early (max_iter=50000).  Consider pre-processing your data with StandardScaler or MinMaxScaler.\n",
      "  warnings.warn(\n",
      "/Users/zhouenze/opt/anaconda3/lib/python3.9/site-packages/sklearn/svm/_base.py:299: ConvergenceWarning: Solver terminated early (max_iter=50000).  Consider pre-processing your data with StandardScaler or MinMaxScaler.\n",
      "  warnings.warn(\n"
     ]
    },
    {
     "name": "stdout",
     "output_type": "stream",
     "text": [
      "[CV 4/5] END pca__n_components=0.85, svm__C=14.138464872715373, svm__gamma=scale, svm__kernel=rbf;, score=0.339 total time= 2.5min\n",
      "[CV 5/5] END pca__n_components=0.85, svm__C=14.138464872715373, svm__gamma=scale, svm__kernel=rbf;, score=0.328 total time= 2.4min\n"
     ]
    }
   ],
   "source": [
    "rs_svm = rs_svm.fit(X_train, y_train)"
   ]
  },
  {
   "cell_type": "code",
   "execution_count": 16,
   "metadata": {},
   "outputs": [
    {
     "name": "stdout",
     "output_type": "stream",
     "text": [
      "Highest f1 score: 0.3417826575033856\n",
      "Best parameters: {'pca__n_components': 0.95, 'svm__C': 0.2832254923697065, 'svm__gamma': 'scale', 'svm__kernel': 'rbf'}\n"
     ]
    }
   ],
   "source": [
    "print(\"Highest f1 score: {}\".format(rs_svm.best_score_))\n",
    "print(\"Best parameters: {}\".format(rs_svm.best_params_))"
   ]
  },
  {
   "attachments": {},
   "cell_type": "markdown",
   "metadata": {},
   "source": [
    "### Random Forest"
   ]
  },
  {
   "cell_type": "code",
   "execution_count": 17,
   "metadata": {},
   "outputs": [],
   "source": [
    "pipeline_rf = Pipeline([('imputer', SimpleImputer(missing_values=np.nan, strategy='mean')),\n",
    "                        ('scaler', StandardScaler()),\n",
    "                        ('pca', PCA()),\n",
    "                        ('rf', RandomForestClassifier(criterion='gini', random_state=42, class_weight='balanced', n_jobs=-1))])"
   ]
  },
  {
   "cell_type": "code",
   "execution_count": 18,
   "metadata": {},
   "outputs": [],
   "source": [
    "param_grid_rf = {'pca__n_components': [0.8, 0.85, 0.9, 0.95, 0.99],\n",
    "                 'rf__n_estimators': [10, 50, 100, 200, 500],\n",
    "                 'rf__max_depth': [2, 3, 4, 5, 6, 7, 8, 9, 10, None]}\n",
    "\n",
    "rs_rf = RandomizedSearchCV(estimator=pipeline_rf,\n",
    "                           param_distributions=param_grid_rf,\n",
    "                           scoring='f1',\n",
    "                           cv=5,\n",
    "                           refit=True,\n",
    "                           n_jobs=-1,\n",
    "                           verbose=3,\n",
    "                           n_iter=50)"
   ]
  },
  {
   "cell_type": "code",
   "execution_count": 19,
   "metadata": {},
   "outputs": [
    {
     "name": "stdout",
     "output_type": "stream",
     "text": [
      "Fitting 5 folds for each of 50 candidates, totalling 250 fits\n",
      "[CV 1/5] END pca__n_components=0.8, rf__max_depth=8, rf__n_estimators=100;, score=0.365 total time=  10.1s\n",
      "[CV 2/5] END pca__n_components=0.8, rf__max_depth=8, rf__n_estimators=100;, score=0.356 total time=  13.9s\n",
      "[CV 3/5] END pca__n_components=0.8, rf__max_depth=8, rf__n_estimators=100;, score=0.359 total time=  15.4s\n",
      "[CV 4/5] END pca__n_components=0.8, rf__max_depth=8, rf__n_estimators=100;, score=0.364 total time=  13.6s\n",
      "[CV 1/5] END pca__n_components=0.8, rf__max_depth=10, rf__n_estimators=10;, score=0.363 total time=   2.7s\n",
      "[CV 2/5] END pca__n_components=0.8, rf__max_depth=10, rf__n_estimators=10;, score=0.358 total time=   2.5s\n",
      "[CV 2/5] END pca__n_components=0.85, rf__max_depth=3, rf__n_estimators=500;, score=0.326 total time=  26.7s\n",
      "[CV 4/5] END pca__n_components=0.85, rf__max_depth=3, rf__n_estimators=500;, score=0.359 total time=  26.7s\n",
      "[CV 5/5] END pca__n_components=0.85, rf__max_depth=3, rf__n_estimators=500;, score=0.347 total time=  26.7s\n",
      "[CV 1/5] END pca__n_components=0.85, rf__max_depth=3, rf__n_estimators=500;, score=0.330 total time=  26.8s\n",
      "[CV 3/5] END pca__n_components=0.85, rf__max_depth=3, rf__n_estimators=500;, score=0.336 total time=  27.0s\n",
      "[CV 3/5] END pca__n_components=0.8, rf__max_depth=10, rf__n_estimators=10;, score=0.351 total time=   2.5s\n",
      "[CV 4/5] END pca__n_components=0.8, rf__max_depth=10, rf__n_estimators=10;, score=0.368 total time=   2.6s\n",
      "[CV 5/5] END pca__n_components=0.8, rf__max_depth=10, rf__n_estimators=10;, score=0.361 total time=   2.6s\n",
      "[CV 5/5] END pca__n_components=0.8, rf__max_depth=8, rf__n_estimators=100;, score=0.364 total time=  11.1s\n",
      "[CV 2/5] END pca__n_components=0.9, rf__max_depth=3, rf__n_estimators=200;, score=0.324 total time=  11.8s\n",
      "[CV 3/5] END pca__n_components=0.9, rf__max_depth=3, rf__n_estimators=200;, score=0.331 total time=  11.9s\n",
      "[CV 1/5] END pca__n_components=0.9, rf__max_depth=3, rf__n_estimators=200;, score=0.327 total time=  12.2s\n",
      "[CV 4/5] END pca__n_components=0.9, rf__max_depth=3, rf__n_estimators=200;, score=0.356 total time=  12.0s\n",
      "[CV 5/5] END pca__n_components=0.9, rf__max_depth=3, rf__n_estimators=200;, score=0.345 total time=  11.8s\n",
      "[CV 1/5] END pca__n_components=0.99, rf__max_depth=2, rf__n_estimators=500;, score=0.323 total time=  21.5s\n",
      "[CV 2/5] END pca__n_components=0.99, rf__max_depth=2, rf__n_estimators=500;, score=0.324 total time=  21.3s\n",
      "[CV 1/5] END pca__n_components=0.99, rf__max_depth=8, rf__n_estimators=100;, score=0.365 total time=  12.5s\n",
      "[CV 2/5] END pca__n_components=0.99, rf__max_depth=8, rf__n_estimators=100;, score=0.355 total time=  12.6s\n",
      "[CV 3/5] END pca__n_components=0.99, rf__max_depth=2, rf__n_estimators=500;, score=0.318 total time=  21.5s\n",
      "[CV 3/5] END pca__n_components=0.99, rf__max_depth=8, rf__n_estimators=100;, score=0.355 total time=  12.6s\n",
      "[CV 4/5] END pca__n_components=0.99, rf__max_depth=2, rf__n_estimators=500;, score=0.354 total time=  20.3s\n",
      "[CV 5/5] END pca__n_components=0.99, rf__max_depth=2, rf__n_estimators=500;, score=0.337 total time=  21.2s\n",
      "[CV 4/5] END pca__n_components=0.99, rf__max_depth=8, rf__n_estimators=100;, score=0.369 total time=  12.9s\n",
      "[CV 5/5] END pca__n_components=0.99, rf__max_depth=8, rf__n_estimators=100;, score=0.365 total time=  12.9s\n",
      "[CV 1/5] END pca__n_components=0.8, rf__max_depth=8, rf__n_estimators=50;, score=0.360 total time=   6.7s\n",
      "[CV 2/5] END pca__n_components=0.8, rf__max_depth=8, rf__n_estimators=50;, score=0.351 total time=   6.8s\n",
      "[CV 3/5] END pca__n_components=0.8, rf__max_depth=8, rf__n_estimators=50;, score=0.353 total time=   6.9s\n",
      "[CV 4/5] END pca__n_components=0.8, rf__max_depth=8, rf__n_estimators=50;, score=0.363 total time=   6.8s\n",
      "[CV 1/5] END pca__n_components=0.99, rf__max_depth=6, rf__n_estimators=50;, score=0.361 total time=   6.0s\n",
      "[CV 5/5] END pca__n_components=0.8, rf__max_depth=8, rf__n_estimators=50;, score=0.361 total time=   7.2s\n",
      "[CV 2/5] END pca__n_components=0.99, rf__max_depth=6, rf__n_estimators=50;, score=0.348 total time=   5.8s\n",
      "[CV 1/5] END pca__n_components=0.99, rf__max_depth=9, rf__n_estimators=200;, score=0.370 total time=  28.2s\n",
      "[CV 2/5] END pca__n_components=0.99, rf__max_depth=9, rf__n_estimators=200;, score=0.359 total time=  27.9s\n",
      "[CV 3/5] END pca__n_components=0.99, rf__max_depth=9, rf__n_estimators=200;, score=0.359 total time=  28.2s\n",
      "[CV 4/5] END pca__n_components=0.99, rf__max_depth=9, rf__n_estimators=200;, score=0.374 total time=  27.7s\n",
      "[CV 3/5] END pca__n_components=0.99, rf__max_depth=6, rf__n_estimators=50;, score=0.349 total time=   4.9s\n",
      "[CV 4/5] END pca__n_components=0.99, rf__max_depth=6, rf__n_estimators=50;, score=0.369 total time=   4.4s\n",
      "[CV 5/5] END pca__n_components=0.99, rf__max_depth=6, rf__n_estimators=50;, score=0.359 total time=   4.6s\n",
      "[CV 5/5] END pca__n_components=0.99, rf__max_depth=9, rf__n_estimators=200;, score=0.366 total time=  26.1s\n",
      "[CV 1/5] END pca__n_components=0.95, rf__max_depth=8, rf__n_estimators=100;, score=0.365 total time=  12.2s\n",
      "[CV 2/5] END pca__n_components=0.95, rf__max_depth=8, rf__n_estimators=100;, score=0.355 total time=  12.3s\n",
      "[CV 3/5] END pca__n_components=0.95, rf__max_depth=8, rf__n_estimators=100;, score=0.355 total time=  11.9s\n",
      "[CV 1/5] END pca__n_components=0.85, rf__max_depth=5, rf__n_estimators=50;, score=0.354 total time=   4.2s\n",
      "[CV 2/5] END pca__n_components=0.85, rf__max_depth=5, rf__n_estimators=50;, score=0.342 total time=   4.3s\n",
      "[CV 4/5] END pca__n_components=0.95, rf__max_depth=8, rf__n_estimators=100;, score=0.369 total time=  12.1s\n",
      "[CV 5/5] END pca__n_components=0.95, rf__max_depth=8, rf__n_estimators=100;, score=0.365 total time=  12.2s\n",
      "[CV 3/5] END pca__n_components=0.85, rf__max_depth=5, rf__n_estimators=50;, score=0.349 total time=   4.2s\n",
      "[CV 4/5] END pca__n_components=0.85, rf__max_depth=5, rf__n_estimators=50;, score=0.362 total time=   4.4s\n",
      "[CV 5/5] END pca__n_components=0.85, rf__max_depth=5, rf__n_estimators=50;, score=0.360 total time=   4.5s\n",
      "[CV 2/5] END pca__n_components=0.95, rf__max_depth=4, rf__n_estimators=500;, score=0.319 total time=  33.7s\n",
      "[CV 1/5] END pca__n_components=0.95, rf__max_depth=4, rf__n_estimators=500;, score=0.332 total time=  33.9s\n",
      "[CV 3/5] END pca__n_components=0.95, rf__max_depth=4, rf__n_estimators=500;, score=0.329 total time=  33.9s\n",
      "[CV 4/5] END pca__n_components=0.95, rf__max_depth=4, rf__n_estimators=500;, score=0.342 total time=  34.0s\n",
      "[CV 5/5] END pca__n_components=0.95, rf__max_depth=4, rf__n_estimators=500;, score=0.340 total time=  33.6s\n",
      "[CV 1/5] END pca__n_components=0.9, rf__max_depth=None, rf__n_estimators=50;, score=0.206 total time=  10.2s\n",
      "[CV 2/5] END pca__n_components=0.9, rf__max_depth=None, rf__n_estimators=50;, score=0.186 total time=  10.0s\n",
      "[CV 3/5] END pca__n_components=0.9, rf__max_depth=None, rf__n_estimators=50;, score=0.169 total time=  10.4s\n",
      "[CV 4/5] END pca__n_components=0.9, rf__max_depth=None, rf__n_estimators=50;, score=0.197 total time=  10.3s\n",
      "[CV 5/5] END pca__n_components=0.9, rf__max_depth=None, rf__n_estimators=50;, score=0.184 total time=  10.3s\n",
      "[CV 1/5] END pca__n_components=0.8, rf__max_depth=10, rf__n_estimators=200;, score=0.375 total time=  28.1s\n",
      "[CV 2/5] END pca__n_components=0.8, rf__max_depth=10, rf__n_estimators=200;, score=0.363 total time=  28.1s\n",
      "[CV 3/5] END pca__n_components=0.8, rf__max_depth=10, rf__n_estimators=200;, score=0.363 total time=  28.1s\n",
      "[CV 1/5] END pca__n_components=0.95, rf__max_depth=3, rf__n_estimators=50;, score=0.326 total time=   2.9s\n",
      "[CV 2/5] END pca__n_components=0.95, rf__max_depth=3, rf__n_estimators=50;, score=0.315 total time=   3.2s\n",
      "[CV 1/5] END pca__n_components=0.99, rf__max_depth=6, rf__n_estimators=500;, score=0.359 total time=  46.5s\n",
      "[CV 3/5] END pca__n_components=0.95, rf__max_depth=3, rf__n_estimators=50;, score=0.322 total time=   3.0s\n",
      "[CV 2/5] END pca__n_components=0.99, rf__max_depth=6, rf__n_estimators=500;, score=0.346 total time=  46.6s\n",
      "[CV 3/5] END pca__n_components=0.99, rf__max_depth=6, rf__n_estimators=500;, score=0.352 total time=  46.4s\n",
      "[CV 4/5] END pca__n_components=0.95, rf__max_depth=3, rf__n_estimators=50;, score=0.349 total time=   3.0s\n",
      "[CV 5/5] END pca__n_components=0.95, rf__max_depth=3, rf__n_estimators=50;, score=0.342 total time=   3.1s\n",
      "[CV 4/5] END pca__n_components=0.99, rf__max_depth=6, rf__n_estimators=500;, score=0.365 total time=  45.5s\n",
      "[CV 5/5] END pca__n_components=0.99, rf__max_depth=6, rf__n_estimators=500;, score=0.358 total time=  46.4s\n",
      "[CV 4/5] END pca__n_components=0.8, rf__max_depth=10, rf__n_estimators=200;, score=0.377 total time=  27.5s\n",
      "[CV 5/5] END pca__n_components=0.8, rf__max_depth=10, rf__n_estimators=200;, score=0.371 total time=  27.4s\n",
      "[CV 1/5] END pca__n_components=0.99, rf__max_depth=None, rf__n_estimators=100;, score=0.196 total time=  20.2s\n",
      "[CV 2/5] END pca__n_components=0.99, rf__max_depth=None, rf__n_estimators=100;, score=0.184 total time=  20.5s\n",
      "[CV 4/5] END pca__n_components=0.99, rf__max_depth=None, rf__n_estimators=100;, score=0.181 total time=  20.0s\n",
      "[CV 3/5] END pca__n_components=0.99, rf__max_depth=None, rf__n_estimators=100;, score=0.161 total time=  20.3s\n",
      "[CV 5/5] END pca__n_components=0.99, rf__max_depth=None, rf__n_estimators=100;, score=0.180 total time=  20.1s\n",
      "[CV 1/5] END pca__n_components=0.8, rf__max_depth=9, rf__n_estimators=100;, score=0.369 total time=  13.3s\n",
      "[CV 2/5] END pca__n_components=0.8, rf__max_depth=9, rf__n_estimators=100;, score=0.357 total time=  13.4s\n",
      "[CV 3/5] END pca__n_components=0.8, rf__max_depth=9, rf__n_estimators=100;, score=0.360 total time=  12.9s\n",
      "[CV 1/5] END pca__n_components=0.95, rf__max_depth=5, rf__n_estimators=50;, score=0.342 total time=   4.3s\n",
      "[CV 2/5] END pca__n_components=0.95, rf__max_depth=5, rf__n_estimators=50;, score=0.340 total time=   4.5s\n",
      "[CV 5/5] END pca__n_components=0.8, rf__max_depth=9, rf__n_estimators=100;, score=0.368 total time=  13.1s\n",
      "[CV 4/5] END pca__n_components=0.8, rf__max_depth=9, rf__n_estimators=100;, score=0.368 total time=  13.4s\n",
      "[CV 3/5] END pca__n_components=0.95, rf__max_depth=5, rf__n_estimators=50;, score=0.337 total time=   4.1s\n",
      "[CV 4/5] END pca__n_components=0.95, rf__max_depth=5, rf__n_estimators=50;, score=0.361 total time=   4.5s\n",
      "[CV 5/5] END pca__n_components=0.95, rf__max_depth=5, rf__n_estimators=50;, score=0.346 total time=   4.6s\n",
      "[CV 1/5] END pca__n_components=0.9, rf__max_depth=10, rf__n_estimators=50;, score=0.369 total time=   7.3s\n",
      "[CV 3/5] END pca__n_components=0.9, rf__max_depth=10, rf__n_estimators=50;, score=0.358 total time=   7.5s\n",
      "[CV 2/5] END pca__n_components=0.9, rf__max_depth=10, rf__n_estimators=50;, score=0.361 total time=   7.9s\n",
      "[CV 4/5] END pca__n_components=0.9, rf__max_depth=10, rf__n_estimators=50;, score=0.376 total time=   7.2s\n",
      "[CV 5/5] END pca__n_components=0.9, rf__max_depth=10, rf__n_estimators=50;, score=0.371 total time=   7.6s\n",
      "[CV 1/5] END pca__n_components=0.95, rf__max_depth=10, rf__n_estimators=500;, score=0.373 total time= 1.1min\n",
      "[CV 1/5] END pca__n_components=0.99, rf__max_depth=4, rf__n_estimators=200;, score=0.329 total time=  13.9s\n",
      "[CV 2/5] END pca__n_components=0.99, rf__max_depth=4, rf__n_estimators=200;, score=0.322 total time=  13.6s\n",
      "[CV 3/5] END pca__n_components=0.99, rf__max_depth=4, rf__n_estimators=200;, score=0.331 total time=  13.9s\n",
      "[CV 1/5] END pca__n_components=0.9, rf__max_depth=5, rf__n_estimators=100;, score=0.351 total time=   8.0s\n",
      "[CV 2/5] END pca__n_components=0.95, rf__max_depth=10, rf__n_estimators=500;, score=0.366 total time= 1.1min\n",
      "[CV 3/5] END pca__n_components=0.95, rf__max_depth=10, rf__n_estimators=500;, score=0.364 total time= 1.1min\n",
      "[CV 4/5] END pca__n_components=0.99, rf__max_depth=4, rf__n_estimators=200;, score=0.346 total time=  13.6s\n",
      "[CV 1/5] END pca__n_components=0.99, rf__max_depth=3, rf__n_estimators=10;, score=0.279 total time=   0.9s\n",
      "[CV 4/5] END pca__n_components=0.95, rf__max_depth=10, rf__n_estimators=500;, score=0.378 total time= 1.1min\n",
      "[CV 5/5] END pca__n_components=0.95, rf__max_depth=10, rf__n_estimators=500;, score=0.375 total time= 1.1min\n",
      "[CV 5/5] END pca__n_components=0.99, rf__max_depth=4, rf__n_estimators=200;, score=0.342 total time=  13.3s\n",
      "[CV 2/5] END pca__n_components=0.99, rf__max_depth=3, rf__n_estimators=10;, score=0.259 total time=   0.8s\n",
      "[CV 3/5] END pca__n_components=0.99, rf__max_depth=3, rf__n_estimators=10;, score=0.229 total time=   0.9s\n",
      "[CV 5/5] END pca__n_components=0.99, rf__max_depth=3, rf__n_estimators=10;, score=0.275 total time=   0.7s\n",
      "[CV 4/5] END pca__n_components=0.99, rf__max_depth=3, rf__n_estimators=10;, score=0.240 total time=   0.9s\n",
      "[CV 2/5] END pca__n_components=0.9, rf__max_depth=5, rf__n_estimators=100;, score=0.350 total time=   7.4s\n",
      "[CV 3/5] END pca__n_components=0.9, rf__max_depth=5, rf__n_estimators=100;, score=0.353 total time=   7.2s\n",
      "[CV 4/5] END pca__n_components=0.9, rf__max_depth=5, rf__n_estimators=100;, score=0.371 total time=   7.6s\n",
      "[CV 5/5] END pca__n_components=0.9, rf__max_depth=5, rf__n_estimators=100;, score=0.361 total time=   7.5s\n",
      "[CV 1/5] END pca__n_components=0.9, rf__max_depth=2, rf__n_estimators=200;, score=0.328 total time=   7.8s\n",
      "[CV 2/5] END pca__n_components=0.9, rf__max_depth=2, rf__n_estimators=200;, score=0.323 total time=   8.3s\n",
      "[CV 3/5] END pca__n_components=0.9, rf__max_depth=2, rf__n_estimators=200;, score=0.333 total time=   8.3s\n",
      "[CV 4/5] END pca__n_components=0.9, rf__max_depth=2, rf__n_estimators=200;, score=0.361 total time=   8.2s\n",
      "[CV 1/5] END pca__n_components=0.8, rf__max_depth=10, rf__n_estimators=50;, score=0.374 total time=   7.3s\n",
      "[CV 5/5] END pca__n_components=0.9, rf__max_depth=2, rf__n_estimators=200;, score=0.345 total time=   8.2s\n",
      "[CV 2/5] END pca__n_components=0.8, rf__max_depth=10, rf__n_estimators=50;, score=0.363 total time=   7.2s\n",
      "[CV 3/5] END pca__n_components=0.8, rf__max_depth=10, rf__n_estimators=50;, score=0.362 total time=   7.6s\n",
      "[CV 4/5] END pca__n_components=0.8, rf__max_depth=10, rf__n_estimators=50;, score=0.372 total time=   7.6s\n",
      "[CV 5/5] END pca__n_components=0.8, rf__max_depth=10, rf__n_estimators=50;, score=0.368 total time=   7.2s\n",
      "[CV 1/5] END pca__n_components=0.8, rf__max_depth=6, rf__n_estimators=500;, score=0.354 total time=  45.6s\n",
      "[CV 4/5] END pca__n_components=0.8, rf__max_depth=6, rf__n_estimators=500;, score=0.360 total time=  46.0s\n",
      "[CV 2/5] END pca__n_components=0.8, rf__max_depth=6, rf__n_estimators=500;, score=0.346 total time=  46.3s\n",
      "[CV 3/5] END pca__n_components=0.8, rf__max_depth=6, rf__n_estimators=500;, score=0.351 total time=  46.3s\n",
      "[CV 5/5] END pca__n_components=0.8, rf__max_depth=6, rf__n_estimators=500;, score=0.360 total time=  46.6s\n",
      "[CV 1/5] END pca__n_components=0.85, rf__max_depth=9, rf__n_estimators=200;, score=0.369 total time=  25.3s\n",
      "[CV 2/5] END pca__n_components=0.85, rf__max_depth=9, rf__n_estimators=200;, score=0.358 total time=  25.7s\n",
      "[CV 3/5] END pca__n_components=0.85, rf__max_depth=9, rf__n_estimators=200;, score=0.359 total time=  25.6s\n",
      "[CV 4/5] END pca__n_components=0.85, rf__max_depth=9, rf__n_estimators=200;, score=0.370 total time=  25.5s\n",
      "[CV 1/5] END pca__n_components=0.95, rf__max_depth=None, rf__n_estimators=50;, score=0.196 total time=  10.7s\n",
      "[CV 5/5] END pca__n_components=0.85, rf__max_depth=9, rf__n_estimators=200;, score=0.367 total time=  25.6s\n",
      "[CV 1/5] END pca__n_components=0.9, rf__max_depth=9, rf__n_estimators=200;, score=0.368 total time=  25.6s\n",
      "[CV 2/5] END pca__n_components=0.9, rf__max_depth=9, rf__n_estimators=200;, score=0.360 total time=  26.0s\n",
      "[CV 3/5] END pca__n_components=0.9, rf__max_depth=9, rf__n_estimators=200;, score=0.359 total time=  25.6s\n",
      "[CV 4/5] END pca__n_components=0.9, rf__max_depth=9, rf__n_estimators=200;, score=0.373 total time=  26.0s\n",
      "[CV 1/5] END pca__n_components=0.95, rf__max_depth=9, rf__n_estimators=50;, score=0.369 total time=   7.1s\n",
      "[CV 5/5] END pca__n_components=0.9, rf__max_depth=9, rf__n_estimators=200;, score=0.370 total time=  25.8s\n",
      "[CV 2/5] END pca__n_components=0.95, rf__max_depth=9, rf__n_estimators=50;, score=0.358 total time=   7.0s\n",
      "[CV 3/5] END pca__n_components=0.95, rf__max_depth=None, rf__n_estimators=50;, score=0.166 total time=  10.2s\n",
      "[CV 2/5] END pca__n_components=0.95, rf__max_depth=None, rf__n_estimators=50;, score=0.183 total time=  10.7s\n",
      "[CV 4/5] END pca__n_components=0.95, rf__max_depth=None, rf__n_estimators=50;, score=0.167 total time=  10.3s\n",
      "[CV 5/5] END pca__n_components=0.95, rf__max_depth=None, rf__n_estimators=50;, score=0.179 total time=  10.2s\n",
      "[CV 1/5] END pca__n_components=0.95, rf__max_depth=3, rf__n_estimators=100;, score=0.327 total time=   5.5s\n",
      "[CV 3/5] END pca__n_components=0.95, rf__max_depth=9, rf__n_estimators=50;, score=0.359 total time=   6.7s\n",
      "[CV 2/5] END pca__n_components=0.95, rf__max_depth=3, rf__n_estimators=100;, score=0.318 total time=   5.2s\n",
      "[CV 4/5] END pca__n_components=0.95, rf__max_depth=9, rf__n_estimators=50;, score=0.370 total time=   6.7s\n",
      "[CV 5/5] END pca__n_components=0.95, rf__max_depth=9, rf__n_estimators=50;, score=0.363 total time=   6.7s\n",
      "[CV 3/5] END pca__n_components=0.95, rf__max_depth=3, rf__n_estimators=100;, score=0.315 total time=   5.6s\n",
      "[CV 4/5] END pca__n_components=0.95, rf__max_depth=3, rf__n_estimators=100;, score=0.343 total time=   5.9s\n",
      "[CV 5/5] END pca__n_components=0.95, rf__max_depth=3, rf__n_estimators=100;, score=0.341 total time=   5.9s\n",
      "[CV 1/5] END pca__n_components=0.9, rf__max_depth=2, rf__n_estimators=100;, score=0.327 total time=   4.1s\n",
      "[CV 2/5] END pca__n_components=0.9, rf__max_depth=2, rf__n_estimators=100;, score=0.324 total time=   4.0s\n",
      "[CV 3/5] END pca__n_components=0.9, rf__max_depth=2, rf__n_estimators=100;, score=0.325 total time=   3.8s\n",
      "[CV 4/5] END pca__n_components=0.9, rf__max_depth=2, rf__n_estimators=100;, score=0.359 total time=   4.1s\n",
      "[CV 5/5] END pca__n_components=0.9, rf__max_depth=2, rf__n_estimators=100;, score=0.344 total time=   4.1s\n",
      "[CV 1/5] END pca__n_components=0.9, rf__max_depth=9, rf__n_estimators=50;, score=0.366 total time=   6.5s\n",
      "[CV 3/5] END pca__n_components=0.9, rf__max_depth=9, rf__n_estimators=50;, score=0.360 total time=   6.8s\n",
      "[CV 2/5] END pca__n_components=0.9, rf__max_depth=9, rf__n_estimators=50;, score=0.364 total time=   6.9s\n",
      "[CV 4/5] END pca__n_components=0.9, rf__max_depth=9, rf__n_estimators=50;, score=0.370 total time=   6.7s\n",
      "[CV 5/5] END pca__n_components=0.9, rf__max_depth=9, rf__n_estimators=50;, score=0.369 total time=   6.6s\n",
      "[CV 1/5] END pca__n_components=0.95, rf__max_depth=10, rf__n_estimators=50;, score=0.370 total time=   6.9s\n",
      "[CV 2/5] END pca__n_components=0.95, rf__max_depth=10, rf__n_estimators=50;, score=0.365 total time=   7.2s\n",
      "[CV 3/5] END pca__n_components=0.95, rf__max_depth=10, rf__n_estimators=50;, score=0.365 total time=   6.9s\n",
      "[CV 4/5] END pca__n_components=0.95, rf__max_depth=10, rf__n_estimators=50;, score=0.376 total time=   6.7s\n",
      "[CV 5/5] END pca__n_components=0.95, rf__max_depth=10, rf__n_estimators=50;, score=0.374 total time=   6.8s\n",
      "[CV 1/5] END pca__n_components=0.95, rf__max_depth=3, rf__n_estimators=500;, score=0.327 total time=  27.0s\n",
      "[CV 4/5] END pca__n_components=0.95, rf__max_depth=3, rf__n_estimators=500;, score=0.345 total time=  26.7s\n",
      "[CV 3/5] END pca__n_components=0.95, rf__max_depth=3, rf__n_estimators=500;, score=0.322 total time=  27.1s\n",
      "[CV 2/5] END pca__n_components=0.95, rf__max_depth=3, rf__n_estimators=500;, score=0.323 total time=  27.1s\n",
      "[CV 5/5] END pca__n_components=0.95, rf__max_depth=3, rf__n_estimators=500;, score=0.341 total time=  27.5s\n",
      "[CV 1/5] END pca__n_components=0.9, rf__max_depth=5, rf__n_estimators=50;, score=0.356 total time=   4.5s\n",
      "[CV 2/5] END pca__n_components=0.9, rf__max_depth=5, rf__n_estimators=50;, score=0.349 total time=   4.4s\n",
      "[CV 3/5] END pca__n_components=0.9, rf__max_depth=5, rf__n_estimators=50;, score=0.355 total time=   4.7s\n",
      "[CV 4/5] END pca__n_components=0.9, rf__max_depth=5, rf__n_estimators=50;, score=0.374 total time=   4.4s\n",
      "[CV 5/5] END pca__n_components=0.9, rf__max_depth=5, rf__n_estimators=50;, score=0.365 total time=   4.5s\n",
      "[CV 1/5] END pca__n_components=0.99, rf__max_depth=3, rf__n_estimators=100;, score=0.327 total time=   5.7s\n",
      "[CV 2/5] END pca__n_components=0.99, rf__max_depth=3, rf__n_estimators=100;, score=0.318 total time=   5.7s\n",
      "[CV 3/5] END pca__n_components=0.99, rf__max_depth=3, rf__n_estimators=100;, score=0.315 total time=   5.8s\n",
      "[CV 1/5] END pca__n_components=0.9, rf__max_depth=None, rf__n_estimators=200;, score=0.202 total time=  40.5s\n",
      "[CV 1/5] END pca__n_components=0.9, rf__max_depth=2, rf__n_estimators=10;, score=0.319 total time=   0.6s\n",
      "[CV 2/5] END pca__n_components=0.9, rf__max_depth=2, rf__n_estimators=10;, score=0.297 total time=   0.7s\n",
      "[CV 3/5] END pca__n_components=0.9, rf__max_depth=2, rf__n_estimators=10;, score=0.313 total time=   0.6s\n",
      "[CV 4/5] END pca__n_components=0.9, rf__max_depth=2, rf__n_estimators=10;, score=0.325 total time=   0.8s\n",
      "[CV 2/5] END pca__n_components=0.9, rf__max_depth=None, rf__n_estimators=200;, score=0.193 total time=  40.1s\n",
      "[CV 5/5] END pca__n_components=0.9, rf__max_depth=2, rf__n_estimators=10;, score=0.321 total time=   0.7s\n",
      "[CV 4/5] END pca__n_components=0.99, rf__max_depth=3, rf__n_estimators=100;, score=0.343 total time=   5.3s\n",
      "[CV 3/5] END pca__n_components=0.9, rf__max_depth=None, rf__n_estimators=200;, score=0.172 total time=  39.8s\n",
      "[CV 5/5] END pca__n_components=0.99, rf__max_depth=3, rf__n_estimators=100;, score=0.341 total time=   5.2s\n",
      "[CV 1/5] END pca__n_components=0.9, rf__max_depth=3, rf__n_estimators=100;, score=0.329 total time=   5.4s\n",
      "[CV 2/5] END pca__n_components=0.9, rf__max_depth=3, rf__n_estimators=100;, score=0.323 total time=   5.5s\n",
      "[CV 3/5] END pca__n_components=0.9, rf__max_depth=3, rf__n_estimators=100;, score=0.316 total time=   5.5s\n",
      "[CV 4/5] END pca__n_components=0.9, rf__max_depth=3, rf__n_estimators=100;, score=0.354 total time=   5.6s\n",
      "[CV 5/5] END pca__n_components=0.9, rf__max_depth=3, rf__n_estimators=100;, score=0.338 total time=   5.6s\n",
      "[CV 1/5] END pca__n_components=0.85, rf__max_depth=3, rf__n_estimators=50;, score=0.336 total time=   3.2s\n",
      "[CV 2/5] END pca__n_components=0.85, rf__max_depth=3, rf__n_estimators=50;, score=0.335 total time=   3.4s\n",
      "[CV 3/5] END pca__n_components=0.85, rf__max_depth=3, rf__n_estimators=50;, score=0.341 total time=   3.3s\n",
      "[CV 4/5] END pca__n_components=0.85, rf__max_depth=3, rf__n_estimators=50;, score=0.366 total time=   3.1s\n",
      "[CV 4/5] END pca__n_components=0.9, rf__max_depth=None, rf__n_estimators=200;, score=0.192 total time=  39.9s\n",
      "[CV 5/5] END pca__n_components=0.9, rf__max_depth=None, rf__n_estimators=200;, score=0.197 total time=  39.4s\n",
      "[CV 5/5] END pca__n_components=0.85, rf__max_depth=3, rf__n_estimators=50;, score=0.347 total time=   3.0s\n",
      "[CV 1/5] END pca__n_components=0.8, rf__max_depth=7, rf__n_estimators=200;, score=0.363 total time=  20.9s\n",
      "[CV 2/5] END pca__n_components=0.8, rf__max_depth=7, rf__n_estimators=200;, score=0.350 total time=  21.2s\n",
      "[CV 4/5] END pca__n_components=0.8, rf__max_depth=7, rf__n_estimators=200;, score=0.362 total time=  21.0s\n",
      "[CV 3/5] END pca__n_components=0.8, rf__max_depth=7, rf__n_estimators=200;, score=0.354 total time=  21.2s\n",
      "[CV 5/5] END pca__n_components=0.8, rf__max_depth=7, rf__n_estimators=200;, score=0.362 total time=  21.4s\n",
      "[CV 1/5] END pca__n_components=0.9, rf__max_depth=6, rf__n_estimators=100;, score=0.358 total time=   9.5s\n",
      "[CV 2/5] END pca__n_components=0.9, rf__max_depth=6, rf__n_estimators=100;, score=0.350 total time=   8.9s\n",
      "[CV 3/5] END pca__n_components=0.9, rf__max_depth=6, rf__n_estimators=100;, score=0.357 total time=   9.2s\n",
      "[CV 4/5] END pca__n_components=0.9, rf__max_depth=6, rf__n_estimators=100;, score=0.366 total time=   9.2s\n",
      "[CV 5/5] END pca__n_components=0.9, rf__max_depth=6, rf__n_estimators=100;, score=0.359 total time=   9.2s\n",
      "[CV 1/5] END pca__n_components=0.85, rf__max_depth=5, rf__n_estimators=500;, score=0.347 total time=  41.1s\n",
      "[CV 2/5] END pca__n_components=0.85, rf__max_depth=5, rf__n_estimators=500;, score=0.341 total time=  41.1s\n",
      "[CV 3/5] END pca__n_components=0.85, rf__max_depth=5, rf__n_estimators=500;, score=0.348 total time=  41.6s\n",
      "[CV 1/5] END pca__n_components=0.99, rf__max_depth=7, rf__n_estimators=10;, score=0.346 total time=   1.7s\n",
      "[CV 2/5] END pca__n_components=0.99, rf__max_depth=7, rf__n_estimators=10;, score=0.334 total time=   1.9s\n",
      "[CV 3/5] END pca__n_components=0.99, rf__max_depth=7, rf__n_estimators=10;, score=0.352 total time=   1.9s\n",
      "[CV 4/5] END pca__n_components=0.99, rf__max_depth=7, rf__n_estimators=10;, score=0.365 total time=   1.8s\n",
      "[CV 5/5] END pca__n_components=0.99, rf__max_depth=7, rf__n_estimators=10;, score=0.346 total time=   1.7s\n",
      "[CV 1/5] END pca__n_components=0.85, rf__max_depth=7, rf__n_estimators=50;, score=0.359 total time=   5.9s\n",
      "[CV 2/5] END pca__n_components=0.85, rf__max_depth=7, rf__n_estimators=50;, score=0.348 total time=   6.0s\n",
      "[CV 3/5] END pca__n_components=0.85, rf__max_depth=7, rf__n_estimators=50;, score=0.354 total time=   5.9s\n",
      "[CV 4/5] END pca__n_components=0.85, rf__max_depth=7, rf__n_estimators=50;, score=0.360 total time=   5.9s\n",
      "[CV 4/5] END pca__n_components=0.85, rf__max_depth=5, rf__n_estimators=500;, score=0.359 total time=  40.5s\n",
      "[CV 5/5] END pca__n_components=0.85, rf__max_depth=5, rf__n_estimators=500;, score=0.358 total time=  40.6s\n",
      "[CV 5/5] END pca__n_components=0.85, rf__max_depth=7, rf__n_estimators=50;, score=0.360 total time=   5.7s\n",
      "[CV 1/5] END pca__n_components=0.85, rf__max_depth=4, rf__n_estimators=50;, score=0.333 total time=   3.8s\n",
      "[CV 2/5] END pca__n_components=0.85, rf__max_depth=4, rf__n_estimators=50;, score=0.323 total time=   3.9s\n",
      "[CV 3/5] END pca__n_components=0.85, rf__max_depth=4, rf__n_estimators=50;, score=0.335 total time=   3.7s\n",
      "[CV 4/5] END pca__n_components=0.85, rf__max_depth=4, rf__n_estimators=50;, score=0.352 total time=   3.7s\n",
      "[CV 5/5] END pca__n_components=0.85, rf__max_depth=4, rf__n_estimators=50;, score=0.346 total time=   3.8s\n",
      "[CV 1/5] END pca__n_components=0.95, rf__max_depth=2, rf__n_estimators=200;, score=0.324 total time=   8.0s\n",
      "[CV 1/5] END pca__n_components=0.85, rf__max_depth=None, rf__n_estimators=500;, score=0.205 total time= 1.7min\n",
      "[CV 2/5] END pca__n_components=0.85, rf__max_depth=None, rf__n_estimators=500;, score=0.200 total time= 1.7min\n",
      "[CV 3/5] END pca__n_components=0.85, rf__max_depth=None, rf__n_estimators=500;, score=0.177 total time= 1.7min\n",
      "[CV 2/5] END pca__n_components=0.95, rf__max_depth=2, rf__n_estimators=200;, score=0.324 total time=   7.6s\n",
      "[CV 3/5] END pca__n_components=0.95, rf__max_depth=2, rf__n_estimators=200;, score=0.319 total time=   7.1s\n",
      "[CV 5/5] END pca__n_components=0.85, rf__max_depth=None, rf__n_estimators=500;, score=0.207 total time= 1.6min\n",
      "[CV 4/5] END pca__n_components=0.85, rf__max_depth=None, rf__n_estimators=500;, score=0.205 total time= 1.7min\n",
      "[CV 4/5] END pca__n_components=0.95, rf__max_depth=2, rf__n_estimators=200;, score=0.353 total time=   3.9s\n",
      "[CV 5/5] END pca__n_components=0.95, rf__max_depth=2, rf__n_estimators=200;, score=0.345 total time=   3.8s\n"
     ]
    }
   ],
   "source": [
    "rs_rf = rs_rf.fit(X_train, y_train)"
   ]
  },
  {
   "cell_type": "code",
   "execution_count": 20,
   "metadata": {},
   "outputs": [
    {
     "name": "stdout",
     "output_type": "stream",
     "text": [
      "Highest f1 score: 0.3711995007774203\n",
      "Best parameters: {'rf__n_estimators': 500, 'rf__max_depth': 10, 'pca__n_components': 0.95}\n"
     ]
    }
   ],
   "source": [
    "print(\"Highest f1 score: {}\".format(rs_rf.best_score_))\n",
    "print(\"Best parameters: {}\".format(rs_rf.best_params_))"
   ]
  },
  {
   "cell_type": "code",
   "execution_count": 21,
   "metadata": {},
   "outputs": [],
   "source": [
    "proba_rf = rs_rf.predict_proba(X_test)[:, 1]"
   ]
  },
  {
   "cell_type": "code",
   "execution_count": 22,
   "metadata": {},
   "outputs": [],
   "source": [
    "fpr_rf, tpr_rf, thresholds_rf = metrics.roc_curve(y_test, proba_rf)\n",
    "roc_auc_rf = metrics.auc(fpr_rf, tpr_rf)"
   ]
  },
  {
   "cell_type": "code",
   "execution_count": 23,
   "metadata": {},
   "outputs": [
    {
     "data": {
      "text/plain": [
       "<matplotlib.legend.Legend at 0x17adfda90>"
      ]
     },
     "execution_count": 23,
     "metadata": {},
     "output_type": "execute_result"
    },
    {
     "data": {
      "image/png": "[encoded data removed]",
      "text/plain": [
       "<Figure size 640x480 with 1 Axes>"
      ]
     },
     "metadata": {},
     "output_type": "display_data"
    }
   ],
   "source": [
    "fig, ax = plt.subplots()\n",
    "\n",
    "plt.plot(fpr_lr, tpr_lr, label='Logistic Regression (AUC = %0.2f)' % auc_lr)\n",
    "metrics.RocCurveDisplay.from_estimator(rs_svm, X_test, y_test, ax=ax, name='SVM')\n",
    "# plt.plot(fpr_svm, tpr_svm, label='SVM (area = %0.2f)' % auc_svm)\n",
    "plt.plot(fpr_rf, tpr_rf, label='Random Forest (AUC = %0.2f)' % roc_auc_rf)\n",
    "plt.plot([0, 1],\n",
    "         [0, 1],\n",
    "         'k--',\n",
    "         label='Random guess',\n",
    "         color='grey')\n",
    "plt.plot([0, 0, 1],\n",
    "         [0, 1, 1],\n",
    "         linestyle=':',\n",
    "         color='black',\n",
    "         label='Perfect performance')\n",
    "plt.xlabel('False positive rate')\n",
    "plt.ylabel('True positive rate')\n",
    "plt.title('ROC curve')\n",
    "plt.legend(loc=\"lower right\")"
   ]
  },
  {
   "attachments": {},
   "cell_type": "markdown",
   "metadata": {},
   "source": [
    "## Prediction"
   ]
  },
  {
   "cell_type": "code",
   "execution_count": 24,
   "metadata": {},
   "outputs": [],
   "source": [
    "predict_df_X = pd.read_csv(\"../data/cs-test.csv\", index_col=0).iloc[:, 1:]\n",
    "predict_df_y = pd.read_csv(\"../data/sampleEntry.csv\", index_col=0)\n",
    "predict_df_y.loc[predict_df_y['Probability'] >= 0.5, :] = 1\n",
    "predict_df_y.loc[predict_df_y['Probability'] < 0.5, :] = 0\n",
    "predict_array_y = predict_df_y['Probability'].astype(int)\n",
    "\n",
    "X_predict = predict_df_X.values\n",
    "y_predict = predict_array_y.values"
   ]
  },
  {
   "cell_type": "code",
   "execution_count": 25,
   "metadata": {},
   "outputs": [],
   "source": [
    "y_predict_lr = gs_lr.predict(X_predict)\n",
    "y_predict_svm = rs_svm.predict(X_predict)\n",
    "y_predict_rf = rs_rf.predict(X_predict)"
   ]
  },
  {
   "cell_type": "code",
   "execution_count": 26,
   "metadata": {},
   "outputs": [
    {
     "name": "stdout",
     "output_type": "stream",
     "text": [
      "Logistic Regression: 0.13430504945340968\n",
      "SVM: 0.11876685934489403\n",
      "Random Forest: 0.195777572681126\n"
     ]
    }
   ],
   "source": [
    "print(\"Logistic Regression: {}\".format(metrics.f1_score(y_predict, y_predict_lr)))\n",
    "print(\"SVM: {}\".format(metrics.f1_score(y_predict, y_predict_svm)))\n",
    "print(\"Random Forest: {}\".format(metrics.f1_score(y_predict, y_predict_rf)))"
   ]
  },
  {
   "cell_type": "code",
   "execution_count": 27,
   "metadata": {},
   "outputs": [
    {
     "data": {
      "text/plain": [
       "Text(0.5, 1.0, 'Confusion matrix of Random Forest')"
      ]
     },
     "execution_count": 27,
     "metadata": {},
     "output_type": "execute_result"
    },
    {
     "data": {
      "image/png": "[encoded data removed]",
      "text/plain": [
       "<Figure size 640x480 with 2 Axes>"
      ]
     },
     "metadata": {},
     "output_type": "display_data"
    },
    {
     "data": {
      "image/png": "[encoded data removed]",
      "text/plain": [
       "<Figure size 640x480 with 2 Axes>"
      ]
     },
     "metadata": {},
     "output_type": "display_data"
    },
    {
     "data": {
      "image/png": "[encoded data removed]",
      "text/plain": [
       "<Figure size 640x480 with 2 Axes>"
      ]
     },
     "metadata": {},
     "output_type": "display_data"
    }
   ],
   "source": [
    "cm_disp_lr = metrics.ConfusionMatrixDisplay.from_predictions(y_predict, y_predict_lr)\n",
    "cm_disp_svm = metrics.ConfusionMatrixDisplay.from_predictions(y_predict, y_predict_svm)\n",
    "cm_disp_rf = metrics.ConfusionMatrixDisplay.from_predictions(y_predict, y_predict_rf)\n",
    "ax_lr = cm_disp_lr.ax_\n",
    "ax_lr.set_title('Confusion matrix of Logistic Regression')\n",
    "ax_svm = cm_disp_svm.ax_\n",
    "ax_svm.set_title('Confusion matrix of SVM')\n",
    "ax_rf = cm_disp_rf.ax_\n",
    "ax_rf.set_title('Confusion matrix of Random Forest')"
   ]
  },
  {
   "attachments": {},
   "cell_type": "markdown",
   "metadata": {},
   "source": [
    "From the above results, we can see that the PCA with `n_components=0.95` combined with random forest classifier with `n_estimators=500`, `max_depth=10` had the best test performance and generalization performance."
   ]
  }
 ],
 "metadata": {
  "language_info": {
   "name": "python"
  },
  "orig_nbformat": 4
 },
 "nbformat": 4,
 "nbformat_minor": 2
}
